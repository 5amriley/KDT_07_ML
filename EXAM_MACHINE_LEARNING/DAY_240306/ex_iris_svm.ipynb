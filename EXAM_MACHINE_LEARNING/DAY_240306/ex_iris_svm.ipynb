{
 "cells": [
  {
   "cell_type": "markdown",
   "source": [
    "### iris.csv SVC 모델 학습"
   ],
   "metadata": {
    "collapsed": false
   },
   "id": "12de550bea7a922c"
  },
  {
   "cell_type": "code",
   "outputs": [],
   "source": [
    "import pandas as pd\n",
    "import numpy as np"
   ],
   "metadata": {
    "collapsed": false,
    "ExecuteTime": {
     "end_time": "2024-03-06T11:30:09.799667100Z",
     "start_time": "2024-03-06T11:30:07.972554Z"
    }
   },
   "id": "43accd5691e14368",
   "execution_count": 1
  },
  {
   "cell_type": "code",
   "outputs": [
    {
     "data": {
      "text/plain": "   sepal_length  sepal_width  petal_length  petal_width species\n0           5.1          3.5           1.4          0.2  setosa\n1           4.9          3.0           1.4          0.2  setosa\n2           4.7          3.2           1.3          0.2  setosa",
      "text/html": "<div>\n<style scoped>\n    .dataframe tbody tr th:only-of-type {\n        vertical-align: middle;\n    }\n\n    .dataframe tbody tr th {\n        vertical-align: top;\n    }\n\n    .dataframe thead th {\n        text-align: right;\n    }\n</style>\n<table border=\"1\" class=\"dataframe\">\n  <thead>\n    <tr style=\"text-align: right;\">\n      <th></th>\n      <th>sepal_length</th>\n      <th>sepal_width</th>\n      <th>petal_length</th>\n      <th>petal_width</th>\n      <th>species</th>\n    </tr>\n  </thead>\n  <tbody>\n    <tr>\n      <th>0</th>\n      <td>5.1</td>\n      <td>3.5</td>\n      <td>1.4</td>\n      <td>0.2</td>\n      <td>setosa</td>\n    </tr>\n    <tr>\n      <th>1</th>\n      <td>4.9</td>\n      <td>3.0</td>\n      <td>1.4</td>\n      <td>0.2</td>\n      <td>setosa</td>\n    </tr>\n    <tr>\n      <th>2</th>\n      <td>4.7</td>\n      <td>3.2</td>\n      <td>1.3</td>\n      <td>0.2</td>\n      <td>setosa</td>\n    </tr>\n  </tbody>\n</table>\n</div>"
     },
     "execution_count": 2,
     "metadata": {},
     "output_type": "execute_result"
    }
   ],
   "source": [
    "irisDF = pd.read_csv('../DATA/iris.csv')\n",
    "irisDF.head(3)"
   ],
   "metadata": {
    "collapsed": false,
    "ExecuteTime": {
     "end_time": "2024-03-06T11:30:09.843197800Z",
     "start_time": "2024-03-06T11:30:09.802657500Z"
    }
   },
   "id": "2dc39e5fe8ae16e6",
   "execution_count": 2
  },
  {
   "cell_type": "code",
   "outputs": [
    {
     "name": "stdout",
     "output_type": "stream",
     "text": [
      "<class 'pandas.core.frame.DataFrame'>\n",
      "RangeIndex: 150 entries, 0 to 149\n",
      "Data columns (total 5 columns):\n",
      " #   Column        Non-Null Count  Dtype  \n",
      "---  ------        --------------  -----  \n",
      " 0   sepal_length  150 non-null    float64\n",
      " 1   sepal_width   150 non-null    float64\n",
      " 2   petal_length  150 non-null    float64\n",
      " 3   petal_width   150 non-null    float64\n",
      " 4   species       150 non-null    object \n",
      "dtypes: float64(4), object(1)\n",
      "memory usage: 6.0+ KB\n"
     ]
    }
   ],
   "source": [
    "irisDF.info()"
   ],
   "metadata": {
    "collapsed": false,
    "ExecuteTime": {
     "end_time": "2024-03-06T11:30:09.867541900Z",
     "start_time": "2024-03-06T11:30:09.832029600Z"
    }
   },
   "id": "70f835d06f1d0d3c",
   "execution_count": 3
  },
  {
   "cell_type": "code",
   "outputs": [
    {
     "data": {
      "text/plain": "((150, 4), (150,))"
     },
     "execution_count": 4,
     "metadata": {},
     "output_type": "execute_result"
    }
   ],
   "source": [
    "# 피쳐 / 타겟 분리\n",
    "featureDF = irisDF[irisDF.columns[:-1]]\n",
    "targetSR = irisDF['species']\n",
    "featureDF.shape, targetSR.shape"
   ],
   "metadata": {
    "collapsed": false,
    "ExecuteTime": {
     "end_time": "2024-03-06T11:30:09.916122400Z",
     "start_time": "2024-03-06T11:30:09.847184400Z"
    }
   },
   "id": "8d6d8d853e3575f2",
   "execution_count": 4
  },
  {
   "cell_type": "markdown",
   "source": [
    "StandardScaler, SVC 순차적으로 <hr>"
   ],
   "metadata": {
    "collapsed": false
   },
   "id": "43ae823f65f1b8e4"
  },
  {
   "cell_type": "code",
   "outputs": [
    {
     "data": {
      "text/plain": "((120, 4), (120,), (30, 4), (30,))"
     },
     "execution_count": 5,
     "metadata": {},
     "output_type": "execute_result"
    }
   ],
   "source": [
    "from sklearn.model_selection import train_test_split\n",
    "\n",
    "x_train, x_test, y_train, y_test = train_test_split(featureDF, targetSR, test_size=0.2, random_state=5)\n",
    "x_train.shape, y_train.shape, x_test.shape, y_test.shape"
   ],
   "metadata": {
    "collapsed": false,
    "ExecuteTime": {
     "end_time": "2024-03-06T11:30:12.907683700Z",
     "start_time": "2024-03-06T11:30:09.865548400Z"
    }
   },
   "id": "e67991eef292cde6",
   "execution_count": 5
  },
  {
   "cell_type": "code",
   "outputs": [],
   "source": [
    "# 피쳐 스케일링\n",
    "from sklearn.preprocessing import StandardScaler, MinMaxScaler, RobustScaler\n",
    "\n",
    "scaler_list = [StandardScaler, MinMaxScaler, RobustScaler]\n",
    "scaled_x_train, scaled_x_test = [], []\n",
    "\n",
    "for sc in scaler_list:\n",
    "    scaler = sc()\n",
    "    scaler.fit(x_train)\n",
    "    \n",
    "    scaled_x_train.append(scaler.transform(x_train))\n",
    "    scaled_x_test.append(scaler.transform(x_test))"
   ],
   "metadata": {
    "collapsed": false,
    "ExecuteTime": {
     "end_time": "2024-03-06T11:30:12.943562700Z",
     "start_time": "2024-03-06T11:30:12.913662900Z"
    }
   },
   "id": "26069dd51fb58f72",
   "execution_count": 6
  },
  {
   "cell_type": "code",
   "outputs": [],
   "source": [
    "import matplotlib.pyplot as plt"
   ],
   "metadata": {
    "collapsed": false,
    "ExecuteTime": {
     "end_time": "2024-03-06T11:30:13.693912Z",
     "start_time": "2024-03-06T11:30:12.942565900Z"
    }
   },
   "id": "419ab1d8da35f7bb",
   "execution_count": 7
  },
  {
   "cell_type": "code",
   "outputs": [
    {
     "name": "stdout",
     "output_type": "stream",
     "text": [
      "[ StandardScaler ]\n",
      "svc train score : 0.9833333333333333\n",
      "svc test score : 0.9333333333333333\n",
      "\n",
      "coef_ : \n",
      "[[-0.46735805  0.29788961 -0.87712433 -0.91696375]\n",
      " [-0.09077351  0.13808167 -0.56446202 -0.54738982]\n",
      " [ 0.5121709   0.42677855 -2.07399962 -2.37036604]]\n",
      "\n",
      "intercept_ : \n",
      "[-1.46601553 -0.29399986  2.68920009]\n",
      "\n",
      "[ MinMaxScaler ]\n",
      "svc train score : 0.975\n",
      "svc test score : 0.9\n",
      "\n",
      "coef_ : \n",
      "[[-7.96694971e-01  1.35444759e+00 -2.08336786e+00 -1.87169355e+00]\n",
      " [-5.15202799e-01  5.29939242e-01 -1.60131922e+00 -1.51806849e+00]\n",
      " [ 8.74569012e-04  4.74778242e-01 -2.71133077e+00 -4.09510349e+00]]\n",
      "\n",
      "intercept_ : \n",
      "[0.73339484 1.17040277 4.36655557]\n",
      "\n",
      "[ RobustScaler ]\n",
      "svc train score : 0.9833333333333333\n",
      "svc test score : 0.9333333333333333\n",
      "\n",
      "coef_ : \n",
      "[[-0.73838411  0.64338617 -1.1275187  -1.1691655 ]\n",
      " [-0.28483715  0.18848067 -0.96592246 -0.97562023]\n",
      " [ 0.25518001  0.32212075 -2.68661409 -3.52040763]]\n",
      "\n",
      "intercept_ : \n",
      "[-1.1760327  -0.47623008  1.2348151 ]\n"
     ]
    }
   ],
   "source": [
    "# 학습 수행, 학습 평가\n",
    "from sklearn.svm import SVC\n",
    "\n",
    "for i, sc in enumerate(['StandardScaler', 'MinMaxScaler', 'RobustScaler']):\n",
    "    svc_model = SVC(gamma='auto', kernel='linear')  # kernel 매개변수 기본값은 'rbf'\n",
    "    svc_model.fit(scaled_x_train[i], y_train)\n",
    "    \n",
    "    svc_train_score = svc_model.score(scaled_x_train[i], y_train)\n",
    "    svc_test_score = svc_model.score(scaled_x_test[i], y_test)\n",
    "    \n",
    "    print(f'[ {sc} ]')\n",
    "    print(f'svc train score : {svc_train_score}')\n",
    "    print(f'svc test score : {svc_test_score}')\n",
    "    print()\n",
    "    \n",
    "    print('coef_ : ', svc_model.coef_, sep='\\n', end='\\n\\n')\n",
    "    print('intercept_ : ', svc_model.intercept_, sep='\\n', end='\\n\\n')"
   ],
   "metadata": {
    "collapsed": false,
    "ExecuteTime": {
     "end_time": "2024-03-06T11:30:13.930571400Z",
     "start_time": "2024-03-06T11:30:13.700292600Z"
    }
   },
   "id": "e369c3b91b4ffb4e",
   "execution_count": 8
  },
  {
   "cell_type": "markdown",
   "source": [
    "pipeline (StandardScaler + SVC) <hr>"
   ],
   "metadata": {
    "collapsed": false
   },
   "id": "cb02e4eb8993e013"
  },
  {
   "cell_type": "code",
   "outputs": [
    {
     "data": {
      "text/plain": "((120, 4), (120,), (30, 4), (30,))"
     },
     "execution_count": 9,
     "metadata": {},
     "output_type": "execute_result"
    }
   ],
   "source": [
    "x_train, x_test, y_train, y_test = train_test_split(featureDF, targetSR, stratify=targetSR, test_size=0.2, random_state=5)\n",
    "x_train.shape, y_train.shape, x_test.shape, y_test.shape"
   ],
   "metadata": {
    "collapsed": false,
    "ExecuteTime": {
     "end_time": "2024-03-06T11:30:13.970449400Z",
     "start_time": "2024-03-06T11:30:13.935554100Z"
    }
   },
   "id": "4d83d3fbba07521",
   "execution_count": 9
  },
  {
   "cell_type": "code",
   "outputs": [],
   "source": [
    "from sklearn.pipeline import make_pipeline\n",
    "\n",
    "C_list = [0.001, 0.01, 0.1, 1, 10, 100]\n",
    "# C_list = np.linspace(0.0018, 0.004, 10)\n",
    "train_score, test_score = [], []\n",
    "\n",
    "for C in C_list:\n",
    "    clf = make_pipeline(StandardScaler(), SVC(max_iter=10000, gamma='auto', kernel='linear', C=C))  # probability 파라미터 ?\n",
    "    clf.fit(x_train, y_train)\n",
    "    \n",
    "    pipe_train_score = clf.score(x_train, y_train)\n",
    "    pipe_test_score = clf.score(x_test, y_test)\n",
    "    \n",
    "    # print(f'{C}')\n",
    "    # print(f'pipe train score : {pipe_train_score}')\n",
    "    # print(f'pipe test score : {pipe_test_score}')\n",
    "    \n",
    "    train_score.append(pipe_train_score)\n",
    "    test_score.append(pipe_test_score)"
   ],
   "metadata": {
    "collapsed": false,
    "ExecuteTime": {
     "end_time": "2024-03-06T11:30:13.997237300Z",
     "start_time": "2024-03-06T11:30:13.951004900Z"
    }
   },
   "id": "96c87907c6aac7fd",
   "execution_count": 10
  },
  {
   "cell_type": "code",
   "outputs": [
    {
     "data": {
      "text/plain": "<Figure size 640x480 with 1 Axes>",
      "image/png": "[encoded data removed]"
     },
     "metadata": {},
     "output_type": "display_data"
    }
   ],
   "source": [
    "import matplotlib.pyplot as plt\n",
    "\n",
    "plt.bar(list(map(str, C_list)), train_score, color='red', label='train')\n",
    "plt.bar(list(map(str, C_list)), test_score, color='blue', label='test')\n",
    "plt.xlabel('C')\n",
    "plt.ylabel('score')\n",
    "plt.legend()\n",
    "plt.show()"
   ],
   "metadata": {
    "collapsed": false,
    "ExecuteTime": {
     "end_time": "2024-03-06T11:30:14.122910900Z",
     "start_time": "2024-03-06T11:30:13.996241100Z"
    }
   },
   "id": "9d53a8341394a79c",
   "execution_count": 11
  },
  {
   "cell_type": "code",
   "outputs": [
    {
     "data": {
      "text/plain": "<Axes: xlabel='C'>"
     },
     "execution_count": 12,
     "metadata": {},
     "output_type": "execute_result"
    },
    {
     "data": {
      "text/plain": "<Figure size 640x480 with 1 Axes>",
      "image/png": "[encoded data removed]"
     },
     "metadata": {},
     "output_type": "display_data"
    }
   ],
   "source": [
    "train_df = pd.DataFrame({'C' : list(map(str, C_list)), 'Values' : train_score, 'Group': 'train'})\n",
    "test_df = pd.DataFrame({'C' : list(map(str, C_list)), 'Values' : test_score, 'Group': 'test'})\n",
    "score_df = pd.concat([train_df, test_df])\n",
    "score_pivot = score_df.pivot(columns='Group', index='C', values='Values')\n",
    "score_pivot.plot(kind='bar')    # pandas.core.frame.DataFrame"
   ],
   "metadata": {
    "collapsed": false,
    "ExecuteTime": {
     "end_time": "2024-03-06T11:30:14.284622100Z",
     "start_time": "2024-03-06T11:30:14.129894200Z"
    }
   },
   "id": "e9e2dcdca573991c",
   "execution_count": 12
  },
  {
   "cell_type": "code",
   "outputs": [],
   "source": [
    "# 교과서에 나오는 그림 ?\n",
    "# scikit-learn documentation 예제 코드에 어떻게 그리는지 나옴\n"
   ],
   "metadata": {
    "collapsed": false,
    "ExecuteTime": {
     "start_time": "2024-03-06T11:30:14.984672400Z"
    }
   },
   "id": "b8e95b22919d60e5",
   "execution_count": null
  }
 ],
 "metadata": {
  "kernelspec": {
   "display_name": "Python 3",
   "language": "python",
   "name": "python3"
  },
  "language_info": {
   "codemirror_mode": {
    "name": "ipython",
    "version": 2
   },
   "file_extension": ".py",
   "mimetype": "text/x-python",
   "name": "python",
   "nbconvert_exporter": "python",
   "pygments_lexer": "ipython2",
   "version": "2.7.6"
  }
 },
 "nbformat": 4,
 "nbformat_minor": 5
}
