{
 "cells": [
  {
   "cell_type": "markdown",
   "source": [
    "### 그래디언트 부스팅 계열의 앙상블 모델\n",
    "- 대표 모델 : XGBoost, LightGBM"
   ],
   "metadata": {
    "collapsed": false
   },
   "id": "ca7ae3c05370a4a2"
  },
  {
   "cell_type": "markdown",
   "source": [
    "설치 여부 확인"
   ],
   "metadata": {
    "collapsed": false
   },
   "id": "7688c218dc9d94a1"
  },
  {
   "cell_type": "code",
   "outputs": [
    {
     "name": "stdout",
     "output_type": "stream",
     "text": [
      "xgboost : 1.7.3\n",
      "lightgbm : 4.1.0\n"
     ]
    }
   ],
   "source": [
    "import xgboost, lightgbm\n",
    "\n",
    "print(f'xgboost : {xgboost.__version__}')\n",
    "print(f'lightgbm : {lightgbm.__version__}')"
   ],
   "metadata": {
    "collapsed": false,
    "ExecuteTime": {
     "end_time": "2024-03-07T07:23:40.658926900Z",
     "start_time": "2024-03-07T07:23:39.379347200Z"
    }
   },
   "id": "62142a4de39406f8",
   "execution_count": 1
  },
  {
   "cell_type": "markdown",
   "source": [
    "(1) 모듈 로딩 및 데이터 준비 <hr>"
   ],
   "metadata": {
    "collapsed": false
   },
   "id": "96ee7304cc7ecdef"
  },
  {
   "cell_type": "code",
   "outputs": [],
   "source": [
    "## 데이터 파일 변수 선언\n",
    "feature_name_file = '../DATA/human_activity/features.txt'\n",
    "label_file = '../DATA/human_activity/activity_labels.txt'\n",
    "\n",
    "x_train_file = '../DATA/human_activity/train/X_train.txt'\n",
    "y_train_file = '../DATA/human_activity/train/y_train.txt'\n",
    "\n",
    "x_test_file = '../DATA/human_activity/test/X_test.txt'\n",
    "y_test_file = '../DATA/human_activity/test/y_test.txt'"
   ],
   "metadata": {
    "collapsed": false,
    "ExecuteTime": {
     "end_time": "2024-03-07T07:23:40.694515700Z",
     "start_time": "2024-03-07T07:23:40.662127500Z"
    }
   },
   "id": "35a9f7b083bad58f",
   "execution_count": 2
  },
  {
   "cell_type": "code",
   "outputs": [
    {
     "data": {
      "text/plain": "   col_id           col_name\n0       1  tBodyAcc-mean()-X\n1       2  tBodyAcc-mean()-Y\n2       3  tBodyAcc-mean()-Z",
      "text/html": "<div>\n<style scoped>\n    .dataframe tbody tr th:only-of-type {\n        vertical-align: middle;\n    }\n\n    .dataframe tbody tr th {\n        vertical-align: top;\n    }\n\n    .dataframe thead th {\n        text-align: right;\n    }\n</style>\n<table border=\"1\" class=\"dataframe\">\n  <thead>\n    <tr style=\"text-align: right;\">\n      <th></th>\n      <th>col_id</th>\n      <th>col_name</th>\n    </tr>\n  </thead>\n  <tbody>\n    <tr>\n      <th>0</th>\n      <td>1</td>\n      <td>tBodyAcc-mean()-X</td>\n    </tr>\n    <tr>\n      <th>1</th>\n      <td>2</td>\n      <td>tBodyAcc-mean()-Y</td>\n    </tr>\n    <tr>\n      <th>2</th>\n      <td>3</td>\n      <td>tBodyAcc-mean()-Z</td>\n    </tr>\n  </tbody>\n</table>\n</div>"
     },
     "execution_count": 3,
     "metadata": {},
     "output_type": "execute_result"
    }
   ],
   "source": [
    "## 데이터 로딩\n",
    "import pandas as pd\n",
    "import numpy as np\n",
    "\n",
    "feature_nameDF = pd.read_csv(feature_name_file, \n",
    "                              sep='\\s+', \n",
    "                              header=None, \n",
    "                              names=['col_id', 'col_name'])\n",
    "feature_nameDF.head(3)"
   ],
   "metadata": {
    "collapsed": false,
    "ExecuteTime": {
     "end_time": "2024-03-07T07:23:40.707293100Z",
     "start_time": "2024-03-07T07:23:40.676657400Z"
    }
   },
   "id": "f8daf559d8208ec6",
   "execution_count": 3
  },
  {
   "cell_type": "code",
   "outputs": [
    {
     "name": "stdout",
     "output_type": "stream",
     "text": [
      "<class 'pandas.core.frame.DataFrame'>\n",
      "RangeIndex: 561 entries, 0 to 560\n",
      "Data columns (total 2 columns):\n",
      " #   Column    Non-Null Count  Dtype \n",
      "---  ------    --------------  ----- \n",
      " 0   col_id    561 non-null    int64 \n",
      " 1   col_name  561 non-null    object\n",
      "dtypes: int64(1), object(1)\n",
      "memory usage: 8.9+ KB\n"
     ]
    }
   ],
   "source": [
    "feature_nameDF.info()  # 561개 컬럼 존재"
   ],
   "metadata": {
    "collapsed": false,
    "ExecuteTime": {
     "end_time": "2024-03-07T07:23:40.750014800Z",
     "start_time": "2024-03-07T07:23:40.706225100Z"
    }
   },
   "id": "20d36a8379aee8d4",
   "execution_count": 4
  },
  {
   "cell_type": "code",
   "outputs": [
    {
     "data": {
      "text/plain": "84"
     },
     "execution_count": 5,
     "metadata": {},
     "output_type": "execute_result"
    }
   ],
   "source": [
    "# 중복 체크\n",
    "feature_nameDF.col_name.duplicated().sum()"
   ],
   "metadata": {
    "collapsed": false,
    "ExecuteTime": {
     "end_time": "2024-03-07T07:23:40.772120100Z",
     "start_time": "2024-03-07T07:23:40.723926200Z"
    }
   },
   "id": "c6167f1a7d5d377",
   "execution_count": 5
  },
  {
   "cell_type": "code",
   "outputs": [
    {
     "data": {
      "text/plain": "numpy.ndarray"
     },
     "execution_count": 6,
     "metadata": {},
     "output_type": "execute_result"
    }
   ],
   "source": [
    "type(feature_nameDF.col_name.values)"
   ],
   "metadata": {
    "collapsed": false,
    "ExecuteTime": {
     "end_time": "2024-03-07T07:23:40.826356200Z",
     "start_time": "2024-03-07T07:23:40.740229Z"
    }
   },
   "id": "a6aa914b463aa4dc",
   "execution_count": 6
  },
  {
   "cell_type": "code",
   "outputs": [
    {
     "data": {
      "text/plain": "     col_id                       col_name\n316     317     fBodyAcc-bandsEnergy()-1,8\n317     318    fBodyAcc-bandsEnergy()-9,16\n318     319   fBodyAcc-bandsEnergy()-17,24\n319     320   fBodyAcc-bandsEnergy()-25,32\n320     321   fBodyAcc-bandsEnergy()-33,40\n..      ...                            ...\n497     498  fBodyGyro-bandsEnergy()-17,32\n498     499  fBodyGyro-bandsEnergy()-33,48\n499     500  fBodyGyro-bandsEnergy()-49,64\n500     501   fBodyGyro-bandsEnergy()-1,24\n501     502  fBodyGyro-bandsEnergy()-25,48\n\n[84 rows x 2 columns]",
      "text/html": "<div>\n<style scoped>\n    .dataframe tbody tr th:only-of-type {\n        vertical-align: middle;\n    }\n\n    .dataframe tbody tr th {\n        vertical-align: top;\n    }\n\n    .dataframe thead th {\n        text-align: right;\n    }\n</style>\n<table border=\"1\" class=\"dataframe\">\n  <thead>\n    <tr style=\"text-align: right;\">\n      <th></th>\n      <th>col_id</th>\n      <th>col_name</th>\n    </tr>\n  </thead>\n  <tbody>\n    <tr>\n      <th>316</th>\n      <td>317</td>\n      <td>fBodyAcc-bandsEnergy()-1,8</td>\n    </tr>\n    <tr>\n      <th>317</th>\n      <td>318</td>\n      <td>fBodyAcc-bandsEnergy()-9,16</td>\n    </tr>\n    <tr>\n      <th>318</th>\n      <td>319</td>\n      <td>fBodyAcc-bandsEnergy()-17,24</td>\n    </tr>\n    <tr>\n      <th>319</th>\n      <td>320</td>\n      <td>fBodyAcc-bandsEnergy()-25,32</td>\n    </tr>\n    <tr>\n      <th>320</th>\n      <td>321</td>\n      <td>fBodyAcc-bandsEnergy()-33,40</td>\n    </tr>\n    <tr>\n      <th>...</th>\n      <td>...</td>\n      <td>...</td>\n    </tr>\n    <tr>\n      <th>497</th>\n      <td>498</td>\n      <td>fBodyGyro-bandsEnergy()-17,32</td>\n    </tr>\n    <tr>\n      <th>498</th>\n      <td>499</td>\n      <td>fBodyGyro-bandsEnergy()-33,48</td>\n    </tr>\n    <tr>\n      <th>499</th>\n      <td>500</td>\n      <td>fBodyGyro-bandsEnergy()-49,64</td>\n    </tr>\n    <tr>\n      <th>500</th>\n      <td>501</td>\n      <td>fBodyGyro-bandsEnergy()-1,24</td>\n    </tr>\n    <tr>\n      <th>501</th>\n      <td>502</td>\n      <td>fBodyGyro-bandsEnergy()-25,48</td>\n    </tr>\n  </tbody>\n</table>\n<p>84 rows × 2 columns</p>\n</div>"
     },
     "execution_count": 7,
     "metadata": {},
     "output_type": "execute_result"
    }
   ],
   "source": [
    "feature_nameDF[feature_nameDF.col_name.duplicated()]"
   ],
   "metadata": {
    "collapsed": false,
    "ExecuteTime": {
     "end_time": "2024-03-07T07:23:40.864529900Z",
     "start_time": "2024-03-07T07:23:40.753592400Z"
    }
   },
   "id": "157efb0bd335dff2",
   "execution_count": 7
  },
  {
   "cell_type": "code",
   "outputs": [
    {
     "data": {
      "text/plain": "Index([316, 317, 318, 319, 320, 321, 322, 323, 324, 325, 326, 327, 328, 329,\n       330, 331, 332, 333, 334, 335, 336, 337, 338, 339, 340, 341, 342, 343,\n       395, 396, 397, 398, 399, 400, 401, 402, 403, 404, 405, 406, 407, 408,\n       409, 410, 411, 412, 413, 414, 415, 416, 417, 418, 419, 420, 421, 422,\n       474, 475, 476, 477, 478, 479, 480, 481, 482, 483, 484, 485, 486, 487,\n       488, 489, 490, 491, 492, 493, 494, 495, 496, 497, 498, 499, 500, 501],\n      dtype='int64')"
     },
     "execution_count": 8,
     "metadata": {},
     "output_type": "execute_result"
    }
   ],
   "source": [
    "feature_nameDF[feature_nameDF.col_name.duplicated()].index"
   ],
   "metadata": {
    "collapsed": false,
    "ExecuteTime": {
     "end_time": "2024-03-07T07:23:40.866670Z",
     "start_time": "2024-03-07T07:23:40.770980900Z"
    }
   },
   "id": "1aff725d647c5c9e",
   "execution_count": 8
  },
  {
   "cell_type": "code",
   "outputs": [],
   "source": [
    "columns_to_remove = feature_nameDF[feature_nameDF.col_name.duplicated()].index"
   ],
   "metadata": {
    "collapsed": false,
    "ExecuteTime": {
     "end_time": "2024-03-07T07:23:40.867711500Z",
     "start_time": "2024-03-07T07:23:40.783949Z"
    }
   },
   "id": "9ada7aa57142b7dc",
   "execution_count": 9
  },
  {
   "cell_type": "code",
   "outputs": [
    {
     "data": {
      "text/plain": "   col_id           col_name\n0       1  tBodyAcc-mean()-X\n1       2  tBodyAcc-mean()-Y\n2       3  tBodyAcc-mean()-Z\n3       4   tBodyAcc-std()-X\n4       5   tBodyAcc-std()-Y",
      "text/html": "<div>\n<style scoped>\n    .dataframe tbody tr th:only-of-type {\n        vertical-align: middle;\n    }\n\n    .dataframe tbody tr th {\n        vertical-align: top;\n    }\n\n    .dataframe thead th {\n        text-align: right;\n    }\n</style>\n<table border=\"1\" class=\"dataframe\">\n  <thead>\n    <tr style=\"text-align: right;\">\n      <th></th>\n      <th>col_id</th>\n      <th>col_name</th>\n    </tr>\n  </thead>\n  <tbody>\n    <tr>\n      <th>0</th>\n      <td>1</td>\n      <td>tBodyAcc-mean()-X</td>\n    </tr>\n    <tr>\n      <th>1</th>\n      <td>2</td>\n      <td>tBodyAcc-mean()-Y</td>\n    </tr>\n    <tr>\n      <th>2</th>\n      <td>3</td>\n      <td>tBodyAcc-mean()-Z</td>\n    </tr>\n    <tr>\n      <th>3</th>\n      <td>4</td>\n      <td>tBodyAcc-std()-X</td>\n    </tr>\n    <tr>\n      <th>4</th>\n      <td>5</td>\n      <td>tBodyAcc-std()-Y</td>\n    </tr>\n  </tbody>\n</table>\n</div>"
     },
     "execution_count": 10,
     "metadata": {},
     "output_type": "execute_result"
    }
   ],
   "source": [
    "feature_nameDF.drop(columns_to_remove, inplace=True)\n",
    "feature_nameDF.reset_index(drop=True, inplace=True)\n",
    "feature_nameDF.head()"
   ],
   "metadata": {
    "collapsed": false,
    "ExecuteTime": {
     "end_time": "2024-03-07T07:23:40.891589800Z",
     "start_time": "2024-03-07T07:23:40.799316700Z"
    }
   },
   "id": "2fabc89154024ddc",
   "execution_count": 10
  },
  {
   "cell_type": "code",
   "outputs": [
    {
     "data": {
      "text/plain": "        0         1         2         3         4         5         6    \\\n0  0.288585 -0.020294 -0.132905 -0.995279 -0.983111 -0.913526 -0.995112   \n1  0.278419 -0.016411 -0.123520 -0.998245 -0.975300 -0.960322 -0.998807   \n2  0.279653 -0.019467 -0.113462 -0.995380 -0.967187 -0.978944 -0.996520   \n\n        7         8         9    ...       551       552       553       554  \\\n0 -0.983185 -0.923527 -0.934724  ... -0.074323 -0.298676 -0.710304 -0.112754   \n1 -0.974914 -0.957686 -0.943068  ...  0.158075 -0.595051 -0.861499  0.053477   \n2 -0.963668 -0.977469 -0.938692  ...  0.414503 -0.390748 -0.760104 -0.118559   \n\n        555       556       557       558       559       560  \n0  0.030400 -0.464761 -0.018446 -0.841247  0.179941 -0.058627  \n1 -0.007435 -0.732626  0.703511 -0.844788  0.180289 -0.054317  \n2  0.177899  0.100699  0.808529 -0.848933  0.180637 -0.049118  \n\n[3 rows x 561 columns]",
      "text/html": "<div>\n<style scoped>\n    .dataframe tbody tr th:only-of-type {\n        vertical-align: middle;\n    }\n\n    .dataframe tbody tr th {\n        vertical-align: top;\n    }\n\n    .dataframe thead th {\n        text-align: right;\n    }\n</style>\n<table border=\"1\" class=\"dataframe\">\n  <thead>\n    <tr style=\"text-align: right;\">\n      <th></th>\n      <th>0</th>\n      <th>1</th>\n      <th>2</th>\n      <th>3</th>\n      <th>4</th>\n      <th>5</th>\n      <th>6</th>\n      <th>7</th>\n      <th>8</th>\n      <th>9</th>\n      <th>...</th>\n      <th>551</th>\n      <th>552</th>\n      <th>553</th>\n      <th>554</th>\n      <th>555</th>\n      <th>556</th>\n      <th>557</th>\n      <th>558</th>\n      <th>559</th>\n      <th>560</th>\n    </tr>\n  </thead>\n  <tbody>\n    <tr>\n      <th>0</th>\n      <td>0.288585</td>\n      <td>-0.020294</td>\n      <td>-0.132905</td>\n      <td>-0.995279</td>\n      <td>-0.983111</td>\n      <td>-0.913526</td>\n      <td>-0.995112</td>\n      <td>-0.983185</td>\n      <td>-0.923527</td>\n      <td>-0.934724</td>\n      <td>...</td>\n      <td>-0.074323</td>\n      <td>-0.298676</td>\n      <td>-0.710304</td>\n      <td>-0.112754</td>\n      <td>0.030400</td>\n      <td>-0.464761</td>\n      <td>-0.018446</td>\n      <td>-0.841247</td>\n      <td>0.179941</td>\n      <td>-0.058627</td>\n    </tr>\n    <tr>\n      <th>1</th>\n      <td>0.278419</td>\n      <td>-0.016411</td>\n      <td>-0.123520</td>\n      <td>-0.998245</td>\n      <td>-0.975300</td>\n      <td>-0.960322</td>\n      <td>-0.998807</td>\n      <td>-0.974914</td>\n      <td>-0.957686</td>\n      <td>-0.943068</td>\n      <td>...</td>\n      <td>0.158075</td>\n      <td>-0.595051</td>\n      <td>-0.861499</td>\n      <td>0.053477</td>\n      <td>-0.007435</td>\n      <td>-0.732626</td>\n      <td>0.703511</td>\n      <td>-0.844788</td>\n      <td>0.180289</td>\n      <td>-0.054317</td>\n    </tr>\n    <tr>\n      <th>2</th>\n      <td>0.279653</td>\n      <td>-0.019467</td>\n      <td>-0.113462</td>\n      <td>-0.995380</td>\n      <td>-0.967187</td>\n      <td>-0.978944</td>\n      <td>-0.996520</td>\n      <td>-0.963668</td>\n      <td>-0.977469</td>\n      <td>-0.938692</td>\n      <td>...</td>\n      <td>0.414503</td>\n      <td>-0.390748</td>\n      <td>-0.760104</td>\n      <td>-0.118559</td>\n      <td>0.177899</td>\n      <td>0.100699</td>\n      <td>0.808529</td>\n      <td>-0.848933</td>\n      <td>0.180637</td>\n      <td>-0.049118</td>\n    </tr>\n  </tbody>\n</table>\n<p>3 rows × 561 columns</p>\n</div>"
     },
     "execution_count": 11,
     "metadata": {},
     "output_type": "execute_result"
    }
   ],
   "source": [
    "x_trainDF = pd.read_csv(x_train_file, sep='\\s+', header=None)\n",
    "x_trainDF.head(3)"
   ],
   "metadata": {
    "collapsed": false,
    "ExecuteTime": {
     "end_time": "2024-03-07T07:23:43.044825800Z",
     "start_time": "2024-03-07T07:23:40.814547100Z"
    }
   },
   "id": "f3023b28289afe15",
   "execution_count": 11
  },
  {
   "cell_type": "code",
   "outputs": [
    {
     "name": "stdout",
     "output_type": "stream",
     "text": [
      "<class 'pandas.core.frame.DataFrame'>\n",
      "RangeIndex: 7352 entries, 0 to 7351\n",
      "Columns: 561 entries, 0 to 560\n",
      "dtypes: float64(561)\n",
      "memory usage: 31.5 MB\n"
     ]
    }
   ],
   "source": [
    "x_trainDF.info()"
   ],
   "metadata": {
    "collapsed": false,
    "ExecuteTime": {
     "end_time": "2024-03-07T07:23:43.118926100Z",
     "start_time": "2024-03-07T07:23:43.045862500Z"
    }
   },
   "id": "7359d47e28f72559",
   "execution_count": 12
  },
  {
   "cell_type": "code",
   "outputs": [],
   "source": [
    "x_trainDF.drop(columns_to_remove, axis='columns', inplace=True)\n",
    "x_trainDF = x_trainDF.T.reset_index(drop=True).T    # 컬럼명을 초기화하기 위해 T를 취해 인덱스로 바꿔서 리셋후 복원"
   ],
   "metadata": {
    "collapsed": false,
    "ExecuteTime": {
     "end_time": "2024-03-07T07:23:43.167642300Z",
     "start_time": "2024-03-07T07:23:43.078233500Z"
    }
   },
   "id": "58a0e430b2049800",
   "execution_count": 13
  },
  {
   "cell_type": "code",
   "outputs": [
    {
     "name": "stdout",
     "output_type": "stream",
     "text": [
      "<class 'pandas.core.frame.DataFrame'>\n",
      "RangeIndex: 7352 entries, 0 to 7351\n",
      "Columns: 477 entries, 0 to 476\n",
      "dtypes: float64(477)\n",
      "memory usage: 26.8 MB\n"
     ]
    }
   ],
   "source": [
    "x_trainDF.info()"
   ],
   "metadata": {
    "collapsed": false,
    "ExecuteTime": {
     "end_time": "2024-03-07T07:23:43.168787800Z",
     "start_time": "2024-03-07T07:23:43.108666700Z"
    }
   },
   "id": "d7abbd511e6b5e54",
   "execution_count": 14
  },
  {
   "cell_type": "code",
   "outputs": [
    {
     "name": "stdout",
     "output_type": "stream",
     "text": [
      "<class 'pandas.core.frame.DataFrame'>\n",
      "RangeIndex: 2947 entries, 0 to 2946\n",
      "Columns: 477 entries, 0 to 476\n",
      "dtypes: float64(477)\n",
      "memory usage: 10.7 MB\n"
     ]
    }
   ],
   "source": [
    "x_testDF = pd.read_csv(x_test_file, sep='\\s+', header=None)\n",
    "x_testDF.drop(columns_to_remove, axis='columns', inplace=True)\n",
    "x_testDF = x_testDF.T.reset_index(drop=True).T\n",
    "x_testDF.info()"
   ],
   "metadata": {
    "collapsed": false,
    "ExecuteTime": {
     "end_time": "2024-03-07T07:23:44.191472900Z",
     "start_time": "2024-03-07T07:23:43.140737200Z"
    }
   },
   "id": "a33a84b8d216d960",
   "execution_count": 15
  },
  {
   "cell_type": "code",
   "outputs": [
    {
     "data": {
      "text/plain": "   0\n0  5\n1  5\n2  5",
      "text/html": "<div>\n<style scoped>\n    .dataframe tbody tr th:only-of-type {\n        vertical-align: middle;\n    }\n\n    .dataframe tbody tr th {\n        vertical-align: top;\n    }\n\n    .dataframe thead th {\n        text-align: right;\n    }\n</style>\n<table border=\"1\" class=\"dataframe\">\n  <thead>\n    <tr style=\"text-align: right;\">\n      <th></th>\n      <th>0</th>\n    </tr>\n  </thead>\n  <tbody>\n    <tr>\n      <th>0</th>\n      <td>5</td>\n    </tr>\n    <tr>\n      <th>1</th>\n      <td>5</td>\n    </tr>\n    <tr>\n      <th>2</th>\n      <td>5</td>\n    </tr>\n  </tbody>\n</table>\n</div>"
     },
     "execution_count": 16,
     "metadata": {},
     "output_type": "execute_result"
    }
   ],
   "source": [
    "y_trainDF = pd.read_csv(y_train_file, sep='\\s+', header=None)\n",
    "y_trainDF.head(3)"
   ],
   "metadata": {
    "collapsed": false,
    "ExecuteTime": {
     "end_time": "2024-03-07T07:23:44.222308400Z",
     "start_time": "2024-03-07T07:23:44.187144800Z"
    }
   },
   "id": "718fe1daa086d750",
   "execution_count": 16
  },
  {
   "cell_type": "code",
   "outputs": [
    {
     "data": {
      "text/plain": "   0\n0  5\n1  5\n2  5",
      "text/html": "<div>\n<style scoped>\n    .dataframe tbody tr th:only-of-type {\n        vertical-align: middle;\n    }\n\n    .dataframe tbody tr th {\n        vertical-align: top;\n    }\n\n    .dataframe thead th {\n        text-align: right;\n    }\n</style>\n<table border=\"1\" class=\"dataframe\">\n  <thead>\n    <tr style=\"text-align: right;\">\n      <th></th>\n      <th>0</th>\n    </tr>\n  </thead>\n  <tbody>\n    <tr>\n      <th>0</th>\n      <td>5</td>\n    </tr>\n    <tr>\n      <th>1</th>\n      <td>5</td>\n    </tr>\n    <tr>\n      <th>2</th>\n      <td>5</td>\n    </tr>\n  </tbody>\n</table>\n</div>"
     },
     "execution_count": 17,
     "metadata": {},
     "output_type": "execute_result"
    }
   ],
   "source": [
    "y_testDF = pd.read_csv(y_test_file, sep='\\s+', header=None)\n",
    "y_testDF.head(3)"
   ],
   "metadata": {
    "collapsed": false,
    "ExecuteTime": {
     "end_time": "2024-03-07T07:23:44.224439600Z",
     "start_time": "2024-03-07T07:23:44.203689500Z"
    }
   },
   "id": "b04787c5a0fc5c21",
   "execution_count": 17
  },
  {
   "cell_type": "code",
   "outputs": [],
   "source": [],
   "metadata": {
    "collapsed": false,
    "ExecuteTime": {
     "end_time": "2024-03-07T07:23:44.277451300Z",
     "start_time": "2024-03-07T07:23:44.221242300Z"
    }
   },
   "id": "dd4f989878716667",
   "execution_count": 17
  }
 ],
 "metadata": {
  "kernelspec": {
   "display_name": "Python 3",
   "language": "python",
   "name": "python3"
  },
  "language_info": {
   "codemirror_mode": {
    "name": "ipython",
    "version": 2
   },
   "file_extension": ".py",
   "mimetype": "text/x-python",
   "name": "python",
   "nbconvert_exporter": "python",
   "pygments_lexer": "ipython2",
   "version": "2.7.6"
  }
 },
 "nbformat": 4,
 "nbformat_minor": 5
}
