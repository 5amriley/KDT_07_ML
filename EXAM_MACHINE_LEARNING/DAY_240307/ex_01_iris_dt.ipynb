{
 "cells": [
  {
   "cell_type": "markdown",
   "source": [
    "### 의사결정나무(DT)\n",
    "- IF-ELSE 방식의 질문에 대한 답변으로 문제를 해결하는 알고리즘\n",
    "- 피쳐(특성) 중에서 선택한 기준으로 데이터 분할\n",
    "    - 엔트로피 (불순정도) => 낮아지는 방향\n",
    "    - 정보이득 : 1-엔트로피 => 높아지는 방향\n",
    "    - 지니계수 : 불평등수치값 => 낮아지는 방향\n",
    "- 단점 : 과대적합이 될 가능성 높음. 성능이 좋지 않음\n",
    "- 장점 : 전처리 영향을 받지 않음. 직관성이 높음. 피쳐들 중 주요 피쳐 확인 가능\n",
    "- 주의\n",
    "    - 여기서의 주요 피쳐는 데이터 분할을 위한 중요 피쳐\n",
    "    - 100% 데이터의 주요 피쳐가 아닐 수도 있음 => 다른 검사(상관계수, 시각화 등)와 함께 평가"
   ],
   "metadata": {
    "collapsed": false
   },
   "id": "6b79ddd4ee177313"
  },
  {
   "cell_type": "markdown",
   "source": [
    "(1) 모듈 로딩 및 데이터 준비 <hr>"
   ],
   "metadata": {
    "collapsed": false
   },
   "id": "5824255143eadc2a"
  },
  {
   "cell_type": "code",
   "outputs": [],
   "source": [
    "import pandas as pd"
   ],
   "metadata": {
    "collapsed": false,
    "ExecuteTime": {
     "end_time": "2024-03-07T01:30:35.919061Z",
     "start_time": "2024-03-07T01:30:34.169370100Z"
    }
   },
   "id": "68d39d865c4a512d",
   "execution_count": 1
  },
  {
   "cell_type": "code",
   "outputs": [
    {
     "data": {
      "text/plain": "   sepal_length  sepal_width  petal_length  petal_width species\n0           5.1          3.5           1.4          0.2  setosa\n1           4.9          3.0           1.4          0.2  setosa\n2           4.7          3.2           1.3          0.2  setosa",
      "text/html": "<div>\n<style scoped>\n    .dataframe tbody tr th:only-of-type {\n        vertical-align: middle;\n    }\n\n    .dataframe tbody tr th {\n        vertical-align: top;\n    }\n\n    .dataframe thead th {\n        text-align: right;\n    }\n</style>\n<table border=\"1\" class=\"dataframe\">\n  <thead>\n    <tr style=\"text-align: right;\">\n      <th></th>\n      <th>sepal_length</th>\n      <th>sepal_width</th>\n      <th>petal_length</th>\n      <th>petal_width</th>\n      <th>species</th>\n    </tr>\n  </thead>\n  <tbody>\n    <tr>\n      <th>0</th>\n      <td>5.1</td>\n      <td>3.5</td>\n      <td>1.4</td>\n      <td>0.2</td>\n      <td>setosa</td>\n    </tr>\n    <tr>\n      <th>1</th>\n      <td>4.9</td>\n      <td>3.0</td>\n      <td>1.4</td>\n      <td>0.2</td>\n      <td>setosa</td>\n    </tr>\n    <tr>\n      <th>2</th>\n      <td>4.7</td>\n      <td>3.2</td>\n      <td>1.3</td>\n      <td>0.2</td>\n      <td>setosa</td>\n    </tr>\n  </tbody>\n</table>\n</div>"
     },
     "execution_count": 2,
     "metadata": {},
     "output_type": "execute_result"
    }
   ],
   "source": [
    "irisDF = pd.read_csv('../DATA/iris.csv')\n",
    "irisDF.head(3)"
   ],
   "metadata": {
    "collapsed": false,
    "ExecuteTime": {
     "end_time": "2024-03-07T01:30:35.975746800Z",
     "start_time": "2024-03-07T01:30:35.923539900Z"
    }
   },
   "id": "1b295c058c08ae1b",
   "execution_count": 2
  },
  {
   "cell_type": "markdown",
   "source": [
    "(2) 학습용 데이터 셋 준비 <hr>"
   ],
   "metadata": {
    "collapsed": false
   },
   "id": "83935c93b9d11797"
  },
  {
   "cell_type": "code",
   "outputs": [
    {
     "data": {
      "text/plain": "((150, 4), (150,))"
     },
     "execution_count": 3,
     "metadata": {},
     "output_type": "execute_result"
    }
   ],
   "source": [
    "# (2-1) 피쳐와 타겟 분리\n",
    "featureDF = irisDF[irisDF.columns[:-1]]\n",
    "targetSR = irisDF['species']\n",
    "featureDF.shape, targetSR.shape"
   ],
   "metadata": {
    "collapsed": false,
    "ExecuteTime": {
     "end_time": "2024-03-07T01:30:36.000308100Z",
     "start_time": "2024-03-07T01:30:35.951452900Z"
    }
   },
   "id": "e8737afd9a1cd920",
   "execution_count": 3
  },
  {
   "cell_type": "code",
   "outputs": [],
   "source": [
    "# (2-2) 훈련용, 테스트용 데이터셋 분리\n",
    "from sklearn.model_selection import train_test_split\n",
    "x_train, x_test, y_train, y_test = train_test_split(featureDF, targetSR, test_size=0.2, stratify=targetSR)"
   ],
   "metadata": {
    "collapsed": false,
    "ExecuteTime": {
     "end_time": "2024-03-07T01:30:38.897076500Z",
     "start_time": "2024-03-07T01:30:35.969040400Z"
    }
   },
   "id": "49e8107ab182e24d",
   "execution_count": 4
  },
  {
   "cell_type": "markdown",
   "source": [
    "(3) 기계학습 진행 <hr>\n",
    "- 타겟 데이터 확인 결과 : 3개의 분류\n",
    "- 학습 유형 : 지도학습 + 분류\n",
    "- 분류 알고리즘 => KNN, LogisticRegression, SVM-SVC, DecisionTree"
   ],
   "metadata": {
    "collapsed": false
   },
   "id": "3e6a633126327c1c"
  },
  {
   "cell_type": "code",
   "outputs": [],
   "source": [
    "from sklearn.tree import DecisionTreeClassifier"
   ],
   "metadata": {
    "collapsed": false,
    "ExecuteTime": {
     "end_time": "2024-03-07T01:30:39.395896400Z",
     "start_time": "2024-03-07T01:30:38.899234100Z"
    }
   },
   "id": "90960d25a8fb24da",
   "execution_count": 5
  },
  {
   "cell_type": "code",
   "outputs": [
    {
     "data": {
      "text/plain": "DecisionTreeClassifier()",
      "text/html": "<style>#sk-container-id-1 {color: black;}#sk-container-id-1 pre{padding: 0;}#sk-container-id-1 div.sk-toggleable {background-color: white;}#sk-container-id-1 label.sk-toggleable__label {cursor: pointer;display: block;width: 100%;margin-bottom: 0;padding: 0.3em;box-sizing: border-box;text-align: center;}#sk-container-id-1 label.sk-toggleable__label-arrow:before {content: \"▸\";float: left;margin-right: 0.25em;color: #696969;}#sk-container-id-1 label.sk-toggleable__label-arrow:hover:before {color: black;}#sk-container-id-1 div.sk-estimator:hover label.sk-toggleable__label-arrow:before {color: black;}#sk-container-id-1 div.sk-toggleable__content {max-height: 0;max-width: 0;overflow: hidden;text-align: left;background-color: #f0f8ff;}#sk-container-id-1 div.sk-toggleable__content pre {margin: 0.2em;color: black;border-radius: 0.25em;background-color: #f0f8ff;}#sk-container-id-1 input.sk-toggleable__control:checked~div.sk-toggleable__content {max-height: 200px;max-width: 100%;overflow: auto;}#sk-container-id-1 input.sk-toggleable__control:checked~label.sk-toggleable__label-arrow:before {content: \"▾\";}#sk-container-id-1 div.sk-estimator input.sk-toggleable__control:checked~label.sk-toggleable__label {background-color: #d4ebff;}#sk-container-id-1 div.sk-label input.sk-toggleable__control:checked~label.sk-toggleable__label {background-color: #d4ebff;}#sk-container-id-1 input.sk-hidden--visually {border: 0;clip: rect(1px 1px 1px 1px);clip: rect(1px, 1px, 1px, 1px);height: 1px;margin: -1px;overflow: hidden;padding: 0;position: absolute;width: 1px;}#sk-container-id-1 div.sk-estimator {font-family: monospace;background-color: #f0f8ff;border: 1px dotted black;border-radius: 0.25em;box-sizing: border-box;margin-bottom: 0.5em;}#sk-container-id-1 div.sk-estimator:hover {background-color: #d4ebff;}#sk-container-id-1 div.sk-parallel-item::after {content: \"\";width: 100%;border-bottom: 1px solid gray;flex-grow: 1;}#sk-container-id-1 div.sk-label:hover label.sk-toggleable__label {background-color: #d4ebff;}#sk-container-id-1 div.sk-serial::before {content: \"\";position: absolute;border-left: 1px solid gray;box-sizing: border-box;top: 0;bottom: 0;left: 50%;z-index: 0;}#sk-container-id-1 div.sk-serial {display: flex;flex-direction: column;align-items: center;background-color: white;padding-right: 0.2em;padding-left: 0.2em;position: relative;}#sk-container-id-1 div.sk-item {position: relative;z-index: 1;}#sk-container-id-1 div.sk-parallel {display: flex;align-items: stretch;justify-content: center;background-color: white;position: relative;}#sk-container-id-1 div.sk-item::before, #sk-container-id-1 div.sk-parallel-item::before {content: \"\";position: absolute;border-left: 1px solid gray;box-sizing: border-box;top: 0;bottom: 0;left: 50%;z-index: -1;}#sk-container-id-1 div.sk-parallel-item {display: flex;flex-direction: column;z-index: 1;position: relative;background-color: white;}#sk-container-id-1 div.sk-parallel-item:first-child::after {align-self: flex-end;width: 50%;}#sk-container-id-1 div.sk-parallel-item:last-child::after {align-self: flex-start;width: 50%;}#sk-container-id-1 div.sk-parallel-item:only-child::after {width: 0;}#sk-container-id-1 div.sk-dashed-wrapped {border: 1px dashed gray;margin: 0 0.4em 0.5em 0.4em;box-sizing: border-box;padding-bottom: 0.4em;background-color: white;}#sk-container-id-1 div.sk-label label {font-family: monospace;font-weight: bold;display: inline-block;line-height: 1.2em;}#sk-container-id-1 div.sk-label-container {text-align: center;}#sk-container-id-1 div.sk-container {/* jupyter's `normalize.less` sets `[hidden] { display: none; }` but bootstrap.min.css set `[hidden] { display: none !important; }` so we also need the `!important` here to be able to override the default hidden behavior on the sphinx rendered scikit-learn.org. See: https://github.com/scikit-learn/scikit-learn/issues/21755 */display: inline-block !important;position: relative;}#sk-container-id-1 div.sk-text-repr-fallback {display: none;}</style><div id=\"sk-container-id-1\" class=\"sk-top-container\"><div class=\"sk-text-repr-fallback\"><pre>DecisionTreeClassifier()</pre><b>In a Jupyter environment, please rerun this cell to show the HTML representation or trust the notebook. <br />On GitHub, the HTML representation is unable to render, please try loading this page with nbviewer.org.</b></div><div class=\"sk-container\" hidden><div class=\"sk-item\"><div class=\"sk-estimator sk-toggleable\"><input class=\"sk-toggleable__control sk-hidden--visually\" id=\"sk-estimator-id-1\" type=\"checkbox\" checked><label for=\"sk-estimator-id-1\" class=\"sk-toggleable__label sk-toggleable__label-arrow\">DecisionTreeClassifier</label><div class=\"sk-toggleable__content\"><pre>DecisionTreeClassifier()</pre></div></div></div></div></div>"
     },
     "execution_count": 6,
     "metadata": {},
     "output_type": "execute_result"
    }
   ],
   "source": [
    "# 인스턴스 생성\n",
    "model = DecisionTreeClassifier()\n",
    "model.fit(x_train, y_train)"
   ],
   "metadata": {
    "collapsed": false,
    "ExecuteTime": {
     "end_time": "2024-03-07T01:30:39.423221600Z",
     "start_time": "2024-03-07T01:30:39.399163Z"
    }
   },
   "id": "bb94ba0adc3a3fe8",
   "execution_count": 6
  },
  {
   "cell_type": "code",
   "outputs": [],
   "source": [
    "# 생성된 모델 구조 시각화\n",
    "from sklearn.tree import export_graphviz"
   ],
   "metadata": {
    "collapsed": false,
    "ExecuteTime": {
     "end_time": "2024-03-07T01:30:39.447471700Z",
     "start_time": "2024-03-07T01:30:39.417900700Z"
    }
   },
   "id": "92f5845160408e71",
   "execution_count": 7
  },
  {
   "cell_type": "code",
   "outputs": [],
   "source": [
    "# DT 모델의 시각화 정보를 dot 언어로 작성해서 파일로 저장\n",
    "export_graphviz(model, 'iris_dt_model.dot'\n",
    "                # , feature_names=featureDF.columns\n",
    "                , feature_names=model.feature_names_in_\n",
    "                # , class_names=targetSR.unique()\n",
    "                , class_names=model.classes_\n",
    "                , filled=True   # 클래스별 색상 채워짐\n",
    "                # , max_depth=3   # 시각화할 최대 depth 지정\n",
    "                )"
   ],
   "metadata": {
    "collapsed": false,
    "ExecuteTime": {
     "end_time": "2024-03-07T01:45:23.962792100Z",
     "start_time": "2024-03-07T01:45:23.933090100Z"
    }
   },
   "id": "ebff859a4afd191f",
   "execution_count": 34
  },
  {
   "cell_type": "code",
   "outputs": [],
   "source": [
    "# dot 언어로 작성된 내용을 시각화 해주는 모듈\n",
    "from graphviz import Source"
   ],
   "metadata": {
    "collapsed": false,
    "ExecuteTime": {
     "end_time": "2024-03-07T01:45:24.247660200Z",
     "start_time": "2024-03-07T01:45:24.218891500Z"
    }
   },
   "id": "b9f255cb52ca9c2",
   "execution_count": 35
  },
  {
   "cell_type": "code",
   "outputs": [
    {
     "data": {
      "image/svg+xml": "<?xml version=\"1.0\" encoding=\"UTF-8\" standalone=\"no\"?>\n<!DOCTYPE svg PUBLIC \"-//W3C//DTD SVG 1.1//EN\"\n \"http://www.w3.org/Graphics/SVG/1.1/DTD/svg11.dtd\">\n<!-- Generated by graphviz version 2.50.0 (0)\n -->\n<!-- Title: Tree Pages: 1 -->\n<svg width=\"541pt\" height=\"552pt\"\n viewBox=\"0.00 0.00 541.00 552.00\" xmlns=\"http://www.w3.org/2000/svg\" xmlns:xlink=\"http://www.w3.org/1999/xlink\">\n<g id=\"graph0\" class=\"graph\" transform=\"scale(1 1) rotate(0) translate(4 548)\">\n<title>Tree</title>\n<polygon fill=\"white\" stroke=\"transparent\" points=\"-4,4 -4,-548 537,-548 537,4 -4,4\"/>\n<!-- 0 -->\n<g id=\"node1\" class=\"node\">\n<title>0</title>\n<polygon fill=\"#ffffff\" stroke=\"black\" points=\"336.5,-544 196.5,-544 196.5,-461 336.5,-461 336.5,-544\"/>\n<text text-anchor=\"middle\" x=\"266.5\" y=\"-528.8\" font-family=\"Helvetica,sans-Serif\" font-size=\"14.00\">petal_length &lt;= 2.45</text>\n<text text-anchor=\"middle\" x=\"266.5\" y=\"-513.8\" font-family=\"Helvetica,sans-Serif\" font-size=\"14.00\">gini = 0.667</text>\n<text text-anchor=\"middle\" x=\"266.5\" y=\"-498.8\" font-family=\"Helvetica,sans-Serif\" font-size=\"14.00\">samples = 120</text>\n<text text-anchor=\"middle\" x=\"266.5\" y=\"-483.8\" font-family=\"Helvetica,sans-Serif\" font-size=\"14.00\">value = [40, 40, 40]</text>\n<text text-anchor=\"middle\" x=\"266.5\" y=\"-468.8\" font-family=\"Helvetica,sans-Serif\" font-size=\"14.00\">class = setosa</text>\n</g>\n<!-- 1 -->\n<g id=\"node2\" class=\"node\">\n<title>1</title>\n<polygon fill=\"#e58139\" stroke=\"black\" points=\"253,-417.5 136,-417.5 136,-349.5 253,-349.5 253,-417.5\"/>\n<text text-anchor=\"middle\" x=\"194.5\" y=\"-402.3\" font-family=\"Helvetica,sans-Serif\" font-size=\"14.00\">gini = 0.0</text>\n<text text-anchor=\"middle\" x=\"194.5\" y=\"-387.3\" font-family=\"Helvetica,sans-Serif\" font-size=\"14.00\">samples = 40</text>\n<text text-anchor=\"middle\" x=\"194.5\" y=\"-372.3\" font-family=\"Helvetica,sans-Serif\" font-size=\"14.00\">value = [40, 0, 0]</text>\n<text text-anchor=\"middle\" x=\"194.5\" y=\"-357.3\" font-family=\"Helvetica,sans-Serif\" font-size=\"14.00\">class = setosa</text>\n</g>\n<!-- 0&#45;&gt;1 -->\n<g id=\"edge1\" class=\"edge\">\n<title>0&#45;&gt;1</title>\n<path fill=\"none\" stroke=\"black\" d=\"M241.52,-460.91C234.66,-449.76 227.21,-437.66 220.31,-426.44\"/>\n<polygon fill=\"black\" stroke=\"black\" points=\"223.13,-424.35 214.91,-417.67 217.17,-428.02 223.13,-424.35\"/>\n<text text-anchor=\"middle\" x=\"209.12\" y=\"-438.29\" font-family=\"Helvetica,sans-Serif\" font-size=\"14.00\">True</text>\n</g>\n<!-- 2 -->\n<g id=\"node3\" class=\"node\">\n<title>2</title>\n<polygon fill=\"#ffffff\" stroke=\"black\" points=\"406,-425 271,-425 271,-342 406,-342 406,-425\"/>\n<text text-anchor=\"middle\" x=\"338.5\" y=\"-409.8\" font-family=\"Helvetica,sans-Serif\" font-size=\"14.00\">petal_width &lt;= 1.75</text>\n<text text-anchor=\"middle\" x=\"338.5\" y=\"-394.8\" font-family=\"Helvetica,sans-Serif\" font-size=\"14.00\">gini = 0.5</text>\n<text text-anchor=\"middle\" x=\"338.5\" y=\"-379.8\" font-family=\"Helvetica,sans-Serif\" font-size=\"14.00\">samples = 80</text>\n<text text-anchor=\"middle\" x=\"338.5\" y=\"-364.8\" font-family=\"Helvetica,sans-Serif\" font-size=\"14.00\">value = [0, 40, 40]</text>\n<text text-anchor=\"middle\" x=\"338.5\" y=\"-349.8\" font-family=\"Helvetica,sans-Serif\" font-size=\"14.00\">class = versicolor</text>\n</g>\n<!-- 0&#45;&gt;2 -->\n<g id=\"edge2\" class=\"edge\">\n<title>0&#45;&gt;2</title>\n<path fill=\"none\" stroke=\"black\" d=\"M291.48,-460.91C296.9,-452.1 302.68,-442.7 308.28,-433.61\"/>\n<polygon fill=\"black\" stroke=\"black\" points=\"311.3,-435.37 313.56,-425.02 305.34,-431.7 311.3,-435.37\"/>\n<text text-anchor=\"middle\" x=\"319.35\" y=\"-445.64\" font-family=\"Helvetica,sans-Serif\" font-size=\"14.00\">False</text>\n</g>\n<!-- 3 -->\n<g id=\"node4\" class=\"node\">\n<title>3</title>\n<polygon fill=\"#48e78a\" stroke=\"black\" points=\"335.5,-306 195.5,-306 195.5,-223 335.5,-223 335.5,-306\"/>\n<text text-anchor=\"middle\" x=\"265.5\" y=\"-290.8\" font-family=\"Helvetica,sans-Serif\" font-size=\"14.00\">petal_length &lt;= 4.95</text>\n<text text-anchor=\"middle\" x=\"265.5\" y=\"-275.8\" font-family=\"Helvetica,sans-Serif\" font-size=\"14.00\">gini = 0.13</text>\n<text text-anchor=\"middle\" x=\"265.5\" y=\"-260.8\" font-family=\"Helvetica,sans-Serif\" font-size=\"14.00\">samples = 43</text>\n<text text-anchor=\"middle\" x=\"265.5\" y=\"-245.8\" font-family=\"Helvetica,sans-Serif\" font-size=\"14.00\">value = [0, 40, 3]</text>\n<text text-anchor=\"middle\" x=\"265.5\" y=\"-230.8\" font-family=\"Helvetica,sans-Serif\" font-size=\"14.00\">class = versicolor</text>\n</g>\n<!-- 2&#45;&gt;3 -->\n<g id=\"edge3\" class=\"edge\">\n<title>2&#45;&gt;3</title>\n<path fill=\"none\" stroke=\"black\" d=\"M313.17,-341.91C307.68,-333.1 301.81,-323.7 296.14,-314.61\"/>\n<polygon fill=\"black\" stroke=\"black\" points=\"299.05,-312.65 290.78,-306.02 293.11,-316.36 299.05,-312.65\"/>\n</g>\n<!-- 10 -->\n<g id=\"node11\" class=\"node\">\n<title>10</title>\n<polygon fill=\"#8139e5\" stroke=\"black\" points=\"471,-298.5 354,-298.5 354,-230.5 471,-230.5 471,-298.5\"/>\n<text text-anchor=\"middle\" x=\"412.5\" y=\"-283.3\" font-family=\"Helvetica,sans-Serif\" font-size=\"14.00\">gini = 0.0</text>\n<text text-anchor=\"middle\" x=\"412.5\" y=\"-268.3\" font-family=\"Helvetica,sans-Serif\" font-size=\"14.00\">samples = 37</text>\n<text text-anchor=\"middle\" x=\"412.5\" y=\"-253.3\" font-family=\"Helvetica,sans-Serif\" font-size=\"14.00\">value = [0, 0, 37]</text>\n<text text-anchor=\"middle\" x=\"412.5\" y=\"-238.3\" font-family=\"Helvetica,sans-Serif\" font-size=\"14.00\">class = virginica</text>\n</g>\n<!-- 2&#45;&gt;10 -->\n<g id=\"edge10\" class=\"edge\">\n<title>2&#45;&gt;10</title>\n<path fill=\"none\" stroke=\"black\" d=\"M364.17,-341.91C371.22,-330.76 378.88,-318.66 385.97,-307.44\"/>\n<polygon fill=\"black\" stroke=\"black\" points=\"389.14,-308.99 391.52,-298.67 383.22,-305.25 389.14,-308.99\"/>\n</g>\n<!-- 4 -->\n<g id=\"node5\" class=\"node\">\n<title>4</title>\n<polygon fill=\"#3ee684\" stroke=\"black\" points=\"257,-187 122,-187 122,-104 257,-104 257,-187\"/>\n<text text-anchor=\"middle\" x=\"189.5\" y=\"-171.8\" font-family=\"Helvetica,sans-Serif\" font-size=\"14.00\">petal_width &lt;= 1.65</text>\n<text text-anchor=\"middle\" x=\"189.5\" y=\"-156.8\" font-family=\"Helvetica,sans-Serif\" font-size=\"14.00\">gini = 0.05</text>\n<text text-anchor=\"middle\" x=\"189.5\" y=\"-141.8\" font-family=\"Helvetica,sans-Serif\" font-size=\"14.00\">samples = 39</text>\n<text text-anchor=\"middle\" x=\"189.5\" y=\"-126.8\" font-family=\"Helvetica,sans-Serif\" font-size=\"14.00\">value = [0, 38, 1]</text>\n<text text-anchor=\"middle\" x=\"189.5\" y=\"-111.8\" font-family=\"Helvetica,sans-Serif\" font-size=\"14.00\">class = versicolor</text>\n</g>\n<!-- 3&#45;&gt;4 -->\n<g id=\"edge4\" class=\"edge\">\n<title>3&#45;&gt;4</title>\n<path fill=\"none\" stroke=\"black\" d=\"M239.13,-222.91C233.41,-214.1 227.31,-204.7 221.4,-195.61\"/>\n<polygon fill=\"black\" stroke=\"black\" points=\"224.2,-193.5 215.82,-187.02 218.33,-197.31 224.2,-193.5\"/>\n</g>\n<!-- 7 -->\n<g id=\"node8\" class=\"node\">\n<title>7</title>\n<polygon fill=\"#ffffff\" stroke=\"black\" points=\"410,-187 275,-187 275,-104 410,-104 410,-187\"/>\n<text text-anchor=\"middle\" x=\"342.5\" y=\"-171.8\" font-family=\"Helvetica,sans-Serif\" font-size=\"14.00\">petal_width &lt;= 1.55</text>\n<text text-anchor=\"middle\" x=\"342.5\" y=\"-156.8\" font-family=\"Helvetica,sans-Serif\" font-size=\"14.00\">gini = 0.5</text>\n<text text-anchor=\"middle\" x=\"342.5\" y=\"-141.8\" font-family=\"Helvetica,sans-Serif\" font-size=\"14.00\">samples = 4</text>\n<text text-anchor=\"middle\" x=\"342.5\" y=\"-126.8\" font-family=\"Helvetica,sans-Serif\" font-size=\"14.00\">value = [0, 2, 2]</text>\n<text text-anchor=\"middle\" x=\"342.5\" y=\"-111.8\" font-family=\"Helvetica,sans-Serif\" font-size=\"14.00\">class = versicolor</text>\n</g>\n<!-- 3&#45;&gt;7 -->\n<g id=\"edge7\" class=\"edge\">\n<title>3&#45;&gt;7</title>\n<path fill=\"none\" stroke=\"black\" d=\"M292.21,-222.91C298.01,-214.1 304.2,-204.7 310.18,-195.61\"/>\n<polygon fill=\"black\" stroke=\"black\" points=\"313.26,-197.3 315.83,-187.02 307.41,-193.45 313.26,-197.3\"/>\n</g>\n<!-- 5 -->\n<g id=\"node6\" class=\"node\">\n<title>5</title>\n<polygon fill=\"#39e581\" stroke=\"black\" points=\"121,-68 0,-68 0,0 121,0 121,-68\"/>\n<text text-anchor=\"middle\" x=\"60.5\" y=\"-52.8\" font-family=\"Helvetica,sans-Serif\" font-size=\"14.00\">gini = 0.0</text>\n<text text-anchor=\"middle\" x=\"60.5\" y=\"-37.8\" font-family=\"Helvetica,sans-Serif\" font-size=\"14.00\">samples = 38</text>\n<text text-anchor=\"middle\" x=\"60.5\" y=\"-22.8\" font-family=\"Helvetica,sans-Serif\" font-size=\"14.00\">value = [0, 38, 0]</text>\n<text text-anchor=\"middle\" x=\"60.5\" y=\"-7.8\" font-family=\"Helvetica,sans-Serif\" font-size=\"14.00\">class = versicolor</text>\n</g>\n<!-- 4&#45;&gt;5 -->\n<g id=\"edge5\" class=\"edge\">\n<title>4&#45;&gt;5</title>\n<path fill=\"none\" stroke=\"black\" d=\"M141.47,-103.73C130.4,-94.33 118.64,-84.35 107.61,-74.99\"/>\n<polygon fill=\"black\" stroke=\"black\" points=\"109.62,-72.1 99.73,-68.3 105.09,-77.44 109.62,-72.1\"/>\n</g>\n<!-- 6 -->\n<g id=\"node7\" class=\"node\">\n<title>6</title>\n<polygon fill=\"#8139e5\" stroke=\"black\" points=\"252,-68 139,-68 139,0 252,0 252,-68\"/>\n<text text-anchor=\"middle\" x=\"195.5\" y=\"-52.8\" font-family=\"Helvetica,sans-Serif\" font-size=\"14.00\">gini = 0.0</text>\n<text text-anchor=\"middle\" x=\"195.5\" y=\"-37.8\" font-family=\"Helvetica,sans-Serif\" font-size=\"14.00\">samples = 1</text>\n<text text-anchor=\"middle\" x=\"195.5\" y=\"-22.8\" font-family=\"Helvetica,sans-Serif\" font-size=\"14.00\">value = [0, 0, 1]</text>\n<text text-anchor=\"middle\" x=\"195.5\" y=\"-7.8\" font-family=\"Helvetica,sans-Serif\" font-size=\"14.00\">class = virginica</text>\n</g>\n<!-- 4&#45;&gt;6 -->\n<g id=\"edge6\" class=\"edge\">\n<title>4&#45;&gt;6</title>\n<path fill=\"none\" stroke=\"black\" d=\"M191.73,-103.73C192.18,-95.52 192.66,-86.86 193.11,-78.56\"/>\n<polygon fill=\"black\" stroke=\"black\" points=\"196.62,-78.48 193.68,-68.3 189.63,-78.09 196.62,-78.48\"/>\n</g>\n<!-- 8 -->\n<g id=\"node9\" class=\"node\">\n<title>8</title>\n<polygon fill=\"#8139e5\" stroke=\"black\" points=\"394,-68 281,-68 281,0 394,0 394,-68\"/>\n<text text-anchor=\"middle\" x=\"337.5\" y=\"-52.8\" font-family=\"Helvetica,sans-Serif\" font-size=\"14.00\">gini = 0.0</text>\n<text text-anchor=\"middle\" x=\"337.5\" y=\"-37.8\" font-family=\"Helvetica,sans-Serif\" font-size=\"14.00\">samples = 2</text>\n<text text-anchor=\"middle\" x=\"337.5\" y=\"-22.8\" font-family=\"Helvetica,sans-Serif\" font-size=\"14.00\">value = [0, 0, 2]</text>\n<text text-anchor=\"middle\" x=\"337.5\" y=\"-7.8\" font-family=\"Helvetica,sans-Serif\" font-size=\"14.00\">class = virginica</text>\n</g>\n<!-- 7&#45;&gt;8 -->\n<g id=\"edge8\" class=\"edge\">\n<title>7&#45;&gt;8</title>\n<path fill=\"none\" stroke=\"black\" d=\"M340.64,-103.73C340.26,-95.52 339.87,-86.86 339.49,-78.56\"/>\n<polygon fill=\"black\" stroke=\"black\" points=\"342.97,-78.13 339.02,-68.3 335.98,-78.45 342.97,-78.13\"/>\n</g>\n<!-- 9 -->\n<g id=\"node10\" class=\"node\">\n<title>9</title>\n<polygon fill=\"#39e581\" stroke=\"black\" points=\"533,-68 412,-68 412,0 533,0 533,-68\"/>\n<text text-anchor=\"middle\" x=\"472.5\" y=\"-52.8\" font-family=\"Helvetica,sans-Serif\" font-size=\"14.00\">gini = 0.0</text>\n<text text-anchor=\"middle\" x=\"472.5\" y=\"-37.8\" font-family=\"Helvetica,sans-Serif\" font-size=\"14.00\">samples = 2</text>\n<text text-anchor=\"middle\" x=\"472.5\" y=\"-22.8\" font-family=\"Helvetica,sans-Serif\" font-size=\"14.00\">value = [0, 2, 0]</text>\n<text text-anchor=\"middle\" x=\"472.5\" y=\"-7.8\" font-family=\"Helvetica,sans-Serif\" font-size=\"14.00\">class = versicolor</text>\n</g>\n<!-- 7&#45;&gt;9 -->\n<g id=\"edge9\" class=\"edge\">\n<title>7&#45;&gt;9</title>\n<path fill=\"none\" stroke=\"black\" d=\"M390.91,-103.73C402.06,-94.33 413.91,-84.35 425.03,-74.99\"/>\n<polygon fill=\"black\" stroke=\"black\" points=\"427.57,-77.42 432.97,-68.3 423.06,-72.06 427.57,-77.42\"/>\n</g>\n</g>\n</svg>\n",
      "text/plain": "<graphviz.sources.Source at 0x2bd643ec1f0>"
     },
     "execution_count": 36,
     "metadata": {},
     "output_type": "execute_result"
    }
   ],
   "source": [
    "Source.from_file('iris_dt_model.dot')"
   ],
   "metadata": {
    "collapsed": false,
    "ExecuteTime": {
     "end_time": "2024-03-07T01:45:25.209887900Z",
     "start_time": "2024-03-07T01:45:24.891019200Z"
    }
   },
   "id": "5e5c6474711b4d67",
   "execution_count": 36
  },
  {
   "cell_type": "markdown",
   "source": [
    "(4) 모델 평가 <hr>"
   ],
   "metadata": {
    "collapsed": false
   },
   "id": "69a0cb049b2218ac"
  },
  {
   "cell_type": "code",
   "outputs": [
    {
     "name": "stdout",
     "output_type": "stream",
     "text": [
      "[TRAIN] : model.score(x_train, y_train)\n",
      "[TEST] : model.score(x_test, y_test)\n"
     ]
    }
   ],
   "source": [
    "# 평가 결과, 과대적합\n",
    "print(f'[TRAIN] : model.score(x_train, y_train)', f'[TEST] : model.score(x_test, y_test)', sep='\\n')"
   ],
   "metadata": {
    "collapsed": false,
    "ExecuteTime": {
     "end_time": "2024-03-07T01:51:29.307452300Z",
     "start_time": "2024-03-07T01:51:29.216905900Z"
    }
   },
   "id": "b9c277249178e453",
   "execution_count": 40
  },
  {
   "cell_type": "markdown",
   "source": [
    "(5) 문제 해결 및 성능 향상, 즉 튜닝 <hr>\n",
    "- 원인 예상\n",
    "    - 데이터 셋 부족  => cv\n",
    "    - DT의 여러 가지 하이퍼 파라미터 기본값으로만 사용  => 다양한 값으로 조절\n",
    "- 해결 방법\n",
    "    - 2개의 원인을 한꺼번에 해결하기 위해, GridSearchCV"
   ],
   "metadata": {
    "collapsed": false
   },
   "id": "53bf721880078383"
  },
  {
   "cell_type": "code",
   "outputs": [],
   "source": [
    "from sklearn.model_selection import GridSearchCV, RandomizedSearchCV"
   ],
   "metadata": {
    "collapsed": false,
    "ExecuteTime": {
     "end_time": "2024-03-07T01:54:59.923360100Z",
     "start_time": "2024-03-07T01:54:59.390482700Z"
    }
   },
   "id": "3b9ce31eaa22d7d9",
   "execution_count": 41
  },
  {
   "cell_type": "code",
   "outputs": [],
   "source": [
    "# 모델 조합 조건\n",
    "# cv => 기본 5, ...\n",
    "# DT의 하이퍼 파라미터 => max_depth, ...\n",
    "dt_model = DecisionTreeClassifier()\n",
    "n_cv = 5\n",
    "params = {\n",
    "    'criterion': ['gini', 'entropy', 'log_loss'],\n",
    "    'max_depth': [5, 10, 15],\n",
    "    'min_samples_split': [2, 4, 6]\n",
    "}\n",
    "\n",
    "# 하이퍼 파라미터 조합된 모델 생성 후 교차검증 데이터셋으로 학습진행 해주는 인스턴스\n",
    "# 훈련 점수를 알고 싶다면 return_train_score=True 설정을 해주면 된다.\n",
    "gs = GridSearchCV(dt_model, param_grid=params, cv=n_cv)"
   ],
   "metadata": {
    "collapsed": false,
    "ExecuteTime": {
     "end_time": "2024-03-07T02:01:01.768538500Z",
     "start_time": "2024-03-07T02:01:01.747267800Z"
    }
   },
   "id": "88eea2ec58c65c4a",
   "execution_count": 43
  },
  {
   "cell_type": "code",
   "outputs": [
    {
     "data": {
      "text/plain": "GridSearchCV(cv=5, estimator=DecisionTreeClassifier(),\n             param_grid={'criterion': ['gini', 'entropy', 'log_loss'],\n                         'max_depth': [5, 10, 15],\n                         'min_samples_split': [2, 4, 6]})",
      "text/html": "<style>#sk-container-id-2 {color: black;}#sk-container-id-2 pre{padding: 0;}#sk-container-id-2 div.sk-toggleable {background-color: white;}#sk-container-id-2 label.sk-toggleable__label {cursor: pointer;display: block;width: 100%;margin-bottom: 0;padding: 0.3em;box-sizing: border-box;text-align: center;}#sk-container-id-2 label.sk-toggleable__label-arrow:before {content: \"▸\";float: left;margin-right: 0.25em;color: #696969;}#sk-container-id-2 label.sk-toggleable__label-arrow:hover:before {color: black;}#sk-container-id-2 div.sk-estimator:hover label.sk-toggleable__label-arrow:before {color: black;}#sk-container-id-2 div.sk-toggleable__content {max-height: 0;max-width: 0;overflow: hidden;text-align: left;background-color: #f0f8ff;}#sk-container-id-2 div.sk-toggleable__content pre {margin: 0.2em;color: black;border-radius: 0.25em;background-color: #f0f8ff;}#sk-container-id-2 input.sk-toggleable__control:checked~div.sk-toggleable__content {max-height: 200px;max-width: 100%;overflow: auto;}#sk-container-id-2 input.sk-toggleable__control:checked~label.sk-toggleable__label-arrow:before {content: \"▾\";}#sk-container-id-2 div.sk-estimator input.sk-toggleable__control:checked~label.sk-toggleable__label {background-color: #d4ebff;}#sk-container-id-2 div.sk-label input.sk-toggleable__control:checked~label.sk-toggleable__label {background-color: #d4ebff;}#sk-container-id-2 input.sk-hidden--visually {border: 0;clip: rect(1px 1px 1px 1px);clip: rect(1px, 1px, 1px, 1px);height: 1px;margin: -1px;overflow: hidden;padding: 0;position: absolute;width: 1px;}#sk-container-id-2 div.sk-estimator {font-family: monospace;background-color: #f0f8ff;border: 1px dotted black;border-radius: 0.25em;box-sizing: border-box;margin-bottom: 0.5em;}#sk-container-id-2 div.sk-estimator:hover {background-color: #d4ebff;}#sk-container-id-2 div.sk-parallel-item::after {content: \"\";width: 100%;border-bottom: 1px solid gray;flex-grow: 1;}#sk-container-id-2 div.sk-label:hover label.sk-toggleable__label {background-color: #d4ebff;}#sk-container-id-2 div.sk-serial::before {content: \"\";position: absolute;border-left: 1px solid gray;box-sizing: border-box;top: 0;bottom: 0;left: 50%;z-index: 0;}#sk-container-id-2 div.sk-serial {display: flex;flex-direction: column;align-items: center;background-color: white;padding-right: 0.2em;padding-left: 0.2em;position: relative;}#sk-container-id-2 div.sk-item {position: relative;z-index: 1;}#sk-container-id-2 div.sk-parallel {display: flex;align-items: stretch;justify-content: center;background-color: white;position: relative;}#sk-container-id-2 div.sk-item::before, #sk-container-id-2 div.sk-parallel-item::before {content: \"\";position: absolute;border-left: 1px solid gray;box-sizing: border-box;top: 0;bottom: 0;left: 50%;z-index: -1;}#sk-container-id-2 div.sk-parallel-item {display: flex;flex-direction: column;z-index: 1;position: relative;background-color: white;}#sk-container-id-2 div.sk-parallel-item:first-child::after {align-self: flex-end;width: 50%;}#sk-container-id-2 div.sk-parallel-item:last-child::after {align-self: flex-start;width: 50%;}#sk-container-id-2 div.sk-parallel-item:only-child::after {width: 0;}#sk-container-id-2 div.sk-dashed-wrapped {border: 1px dashed gray;margin: 0 0.4em 0.5em 0.4em;box-sizing: border-box;padding-bottom: 0.4em;background-color: white;}#sk-container-id-2 div.sk-label label {font-family: monospace;font-weight: bold;display: inline-block;line-height: 1.2em;}#sk-container-id-2 div.sk-label-container {text-align: center;}#sk-container-id-2 div.sk-container {/* jupyter's `normalize.less` sets `[hidden] { display: none; }` but bootstrap.min.css set `[hidden] { display: none !important; }` so we also need the `!important` here to be able to override the default hidden behavior on the sphinx rendered scikit-learn.org. See: https://github.com/scikit-learn/scikit-learn/issues/21755 */display: inline-block !important;position: relative;}#sk-container-id-2 div.sk-text-repr-fallback {display: none;}</style><div id=\"sk-container-id-2\" class=\"sk-top-container\"><div class=\"sk-text-repr-fallback\"><pre>GridSearchCV(cv=5, estimator=DecisionTreeClassifier(),\n             param_grid={&#x27;criterion&#x27;: [&#x27;gini&#x27;, &#x27;entropy&#x27;, &#x27;log_loss&#x27;],\n                         &#x27;max_depth&#x27;: [5, 10, 15],\n                         &#x27;min_samples_split&#x27;: [2, 4, 6]})</pre><b>In a Jupyter environment, please rerun this cell to show the HTML representation or trust the notebook. <br />On GitHub, the HTML representation is unable to render, please try loading this page with nbviewer.org.</b></div><div class=\"sk-container\" hidden><div class=\"sk-item sk-dashed-wrapped\"><div class=\"sk-label-container\"><div class=\"sk-label sk-toggleable\"><input class=\"sk-toggleable__control sk-hidden--visually\" id=\"sk-estimator-id-2\" type=\"checkbox\" ><label for=\"sk-estimator-id-2\" class=\"sk-toggleable__label sk-toggleable__label-arrow\">GridSearchCV</label><div class=\"sk-toggleable__content\"><pre>GridSearchCV(cv=5, estimator=DecisionTreeClassifier(),\n             param_grid={&#x27;criterion&#x27;: [&#x27;gini&#x27;, &#x27;entropy&#x27;, &#x27;log_loss&#x27;],\n                         &#x27;max_depth&#x27;: [5, 10, 15],\n                         &#x27;min_samples_split&#x27;: [2, 4, 6]})</pre></div></div></div><div class=\"sk-parallel\"><div class=\"sk-parallel-item\"><div class=\"sk-item\"><div class=\"sk-label-container\"><div class=\"sk-label sk-toggleable\"><input class=\"sk-toggleable__control sk-hidden--visually\" id=\"sk-estimator-id-3\" type=\"checkbox\" ><label for=\"sk-estimator-id-3\" class=\"sk-toggleable__label sk-toggleable__label-arrow\">estimator: DecisionTreeClassifier</label><div class=\"sk-toggleable__content\"><pre>DecisionTreeClassifier()</pre></div></div></div><div class=\"sk-serial\"><div class=\"sk-item\"><div class=\"sk-estimator sk-toggleable\"><input class=\"sk-toggleable__control sk-hidden--visually\" id=\"sk-estimator-id-4\" type=\"checkbox\" ><label for=\"sk-estimator-id-4\" class=\"sk-toggleable__label sk-toggleable__label-arrow\">DecisionTreeClassifier</label><div class=\"sk-toggleable__content\"><pre>DecisionTreeClassifier()</pre></div></div></div></div></div></div></div></div></div></div>"
     },
     "execution_count": 44,
     "metadata": {},
     "output_type": "execute_result"
    }
   ],
   "source": [
    "# 조합된 모델들의 학습 진행\n",
    "result = gs.fit(x_train, y_train)\n",
    "result"
   ],
   "metadata": {
    "collapsed": false,
    "ExecuteTime": {
     "end_time": "2024-03-07T02:01:25.479771100Z",
     "start_time": "2024-03-07T02:01:25.086005600Z"
    }
   },
   "id": "f1cc6210e0d4b832",
   "execution_count": 44
  },
  {
   "cell_type": "code",
   "outputs": [
    {
     "data": {
      "text/plain": "    mean_fit_time  std_fit_time  mean_score_time  std_score_time  \\\n0        0.002214      0.000808         0.001475        0.000501   \n1        0.001268      0.000435         0.001035        0.000019   \n2        0.001756      0.000551         0.001110        0.000028   \n3        0.001966      0.000454         0.001129        0.000047   \n4        0.001590      0.000556         0.001135        0.000031   \n5        0.001565      0.000474         0.001511        0.000574   \n6        0.001293      0.000381         0.000863        0.000434   \n7        0.001112      0.000042         0.001092        0.000046   \n8        0.001386      0.000457         0.000892        0.000450   \n9        0.001450      0.000360         0.000749        0.000587   \n10       0.001310      0.000351         0.001084        0.000110   \n11       0.001330      0.000427         0.001117        0.000038   \n12       0.001122      0.000036         0.000217        0.000434   \n13       0.001340      0.000408         0.001104        0.000038   \n14       0.001093      0.000022         0.001063        0.000005   \n15       0.001525      0.000515         0.001099        0.000068   \n16       0.001985      0.000797         0.001260        0.000409   \n17       0.001096      0.000048         0.001115        0.000019   \n18       0.000906      0.000453         0.000896        0.000448   \n19       0.000889      0.000446         0.000655        0.000535   \n20       0.001128      0.000042         0.000647        0.000530   \n21       0.002321      0.000121         0.001732        0.000521   \n22       0.002195      0.000100         0.001151        0.000207   \n23       0.001330      0.000434         0.001302        0.000426   \n24       0.001290      0.000467         0.001046        0.000037   \n25       0.001579      0.000622         0.001176        0.000130   \n26       0.001071      0.000024         0.000857        0.000430   \n\n   param_criterion param_max_depth param_min_samples_split  \\\n0             gini               5                       2   \n1             gini               5                       4   \n2             gini               5                       6   \n3             gini              10                       2   \n4             gini              10                       4   \n5             gini              10                       6   \n6             gini              15                       2   \n7             gini              15                       4   \n8             gini              15                       6   \n9          entropy               5                       2   \n10         entropy               5                       4   \n11         entropy               5                       6   \n12         entropy              10                       2   \n13         entropy              10                       4   \n14         entropy              10                       6   \n15         entropy              15                       2   \n16         entropy              15                       4   \n17         entropy              15                       6   \n18        log_loss               5                       2   \n19        log_loss               5                       4   \n20        log_loss               5                       6   \n21        log_loss              10                       2   \n22        log_loss              10                       4   \n23        log_loss              10                       6   \n24        log_loss              15                       2   \n25        log_loss              15                       4   \n26        log_loss              15                       6   \n\n                                               params  split0_test_score  \\\n0   {'criterion': 'gini', 'max_depth': 5, 'min_sam...           0.958333   \n1   {'criterion': 'gini', 'max_depth': 5, 'min_sam...           0.958333   \n2   {'criterion': 'gini', 'max_depth': 5, 'min_sam...           0.958333   \n3   {'criterion': 'gini', 'max_depth': 10, 'min_sa...           0.958333   \n4   {'criterion': 'gini', 'max_depth': 10, 'min_sa...           0.958333   \n5   {'criterion': 'gini', 'max_depth': 10, 'min_sa...           0.958333   \n6   {'criterion': 'gini', 'max_depth': 15, 'min_sa...           0.958333   \n7   {'criterion': 'gini', 'max_depth': 15, 'min_sa...           0.958333   \n8   {'criterion': 'gini', 'max_depth': 15, 'min_sa...           0.958333   \n9   {'criterion': 'entropy', 'max_depth': 5, 'min_...           0.916667   \n10  {'criterion': 'entropy', 'max_depth': 5, 'min_...           0.916667   \n11  {'criterion': 'entropy', 'max_depth': 5, 'min_...           0.958333   \n12  {'criterion': 'entropy', 'max_depth': 10, 'min...           0.916667   \n13  {'criterion': 'entropy', 'max_depth': 10, 'min...           0.958333   \n14  {'criterion': 'entropy', 'max_depth': 10, 'min...           0.958333   \n15  {'criterion': 'entropy', 'max_depth': 15, 'min...           0.916667   \n16  {'criterion': 'entropy', 'max_depth': 15, 'min...           0.958333   \n17  {'criterion': 'entropy', 'max_depth': 15, 'min...           0.958333   \n18  {'criterion': 'log_loss', 'max_depth': 5, 'min...           0.958333   \n19  {'criterion': 'log_loss', 'max_depth': 5, 'min...           0.916667   \n20  {'criterion': 'log_loss', 'max_depth': 5, 'min...           0.958333   \n21  {'criterion': 'log_loss', 'max_depth': 10, 'mi...           0.916667   \n22  {'criterion': 'log_loss', 'max_depth': 10, 'mi...           0.916667   \n23  {'criterion': 'log_loss', 'max_depth': 10, 'mi...           0.958333   \n24  {'criterion': 'log_loss', 'max_depth': 15, 'mi...           0.916667   \n25  {'criterion': 'log_loss', 'max_depth': 15, 'mi...           0.958333   \n26  {'criterion': 'log_loss', 'max_depth': 15, 'mi...           0.958333   \n\n    split1_test_score  split2_test_score  split3_test_score  \\\n0            0.916667           0.916667              0.875   \n1            0.916667           0.916667              0.875   \n2            0.916667           0.916667              0.875   \n3            0.916667           0.916667              0.875   \n4            0.916667           0.916667              0.875   \n5            0.916667           0.916667              0.875   \n6            0.916667           0.916667              0.875   \n7            0.916667           0.916667              0.875   \n8            0.916667           0.916667              0.875   \n9            0.916667           0.916667              1.000   \n10           0.916667           0.916667              1.000   \n11           0.916667           0.916667              1.000   \n12           0.916667           0.958333              1.000   \n13           0.916667           0.916667              0.875   \n14           0.916667           0.916667              0.875   \n15           0.916667           0.916667              0.875   \n16           0.916667           0.916667              1.000   \n17           0.916667           0.916667              0.875   \n18           0.916667           0.916667              0.875   \n19           0.916667           0.916667              1.000   \n20           0.916667           0.916667              1.000   \n21           0.916667           0.916667              0.875   \n22           0.916667           0.916667              0.875   \n23           0.916667           0.916667              1.000   \n24           0.916667           0.916667              0.875   \n25           0.916667           0.916667              0.875   \n26           0.916667           0.916667              1.000   \n\n    split4_test_score  mean_test_score  std_test_score  rank_test_score  \n0            0.958333         0.925000        0.031180               13  \n1            0.958333         0.925000        0.031180               13  \n2            1.000000         0.933333        0.042492               10  \n3            0.958333         0.925000        0.031180               13  \n4            0.958333         0.925000        0.031180               13  \n5            1.000000         0.933333        0.042492               10  \n6            0.958333         0.925000        0.031180               13  \n7            0.958333         0.925000        0.031180               13  \n8            1.000000         0.933333        0.042492               10  \n9            0.958333         0.941667        0.033333                7  \n10           0.958333         0.941667        0.033333                7  \n11           0.958333         0.950000        0.031180                1  \n12           0.958333         0.950000        0.031180                1  \n13           0.958333         0.925000        0.031180               13  \n14           0.958333         0.925000        0.031180               13  \n15           0.958333         0.916667        0.026352               24  \n16           0.958333         0.950000        0.031180                1  \n17           0.958333         0.925000        0.031180               13  \n18           0.958333         0.925000        0.031180               13  \n19           0.958333         0.941667        0.033333                7  \n20           0.958333         0.950000        0.031180                1  \n21           0.958333         0.916667        0.026352               24  \n22           0.958333         0.916667        0.026352               24  \n23           0.958333         0.950000        0.031180                1  \n24           0.958333         0.916667        0.026352               24  \n25           0.958333         0.925000        0.031180               13  \n26           0.958333         0.950000        0.031180                1  ",
      "text/html": "<div>\n<style scoped>\n    .dataframe tbody tr th:only-of-type {\n        vertical-align: middle;\n    }\n\n    .dataframe tbody tr th {\n        vertical-align: top;\n    }\n\n    .dataframe thead th {\n        text-align: right;\n    }\n</style>\n<table border=\"1\" class=\"dataframe\">\n  <thead>\n    <tr style=\"text-align: right;\">\n      <th></th>\n      <th>mean_fit_time</th>\n      <th>std_fit_time</th>\n      <th>mean_score_time</th>\n      <th>std_score_time</th>\n      <th>param_criterion</th>\n      <th>param_max_depth</th>\n      <th>param_min_samples_split</th>\n      <th>params</th>\n      <th>split0_test_score</th>\n      <th>split1_test_score</th>\n      <th>split2_test_score</th>\n      <th>split3_test_score</th>\n      <th>split4_test_score</th>\n      <th>mean_test_score</th>\n      <th>std_test_score</th>\n      <th>rank_test_score</th>\n    </tr>\n  </thead>\n  <tbody>\n    <tr>\n      <th>0</th>\n      <td>0.002214</td>\n      <td>0.000808</td>\n      <td>0.001475</td>\n      <td>0.000501</td>\n      <td>gini</td>\n      <td>5</td>\n      <td>2</td>\n      <td>{'criterion': 'gini', 'max_depth': 5, 'min_sam...</td>\n      <td>0.958333</td>\n      <td>0.916667</td>\n      <td>0.916667</td>\n      <td>0.875</td>\n      <td>0.958333</td>\n      <td>0.925000</td>\n      <td>0.031180</td>\n      <td>13</td>\n    </tr>\n    <tr>\n      <th>1</th>\n      <td>0.001268</td>\n      <td>0.000435</td>\n      <td>0.001035</td>\n      <td>0.000019</td>\n      <td>gini</td>\n      <td>5</td>\n      <td>4</td>\n      <td>{'criterion': 'gini', 'max_depth': 5, 'min_sam...</td>\n      <td>0.958333</td>\n      <td>0.916667</td>\n      <td>0.916667</td>\n      <td>0.875</td>\n      <td>0.958333</td>\n      <td>0.925000</td>\n      <td>0.031180</td>\n      <td>13</td>\n    </tr>\n    <tr>\n      <th>2</th>\n      <td>0.001756</td>\n      <td>0.000551</td>\n      <td>0.001110</td>\n      <td>0.000028</td>\n      <td>gini</td>\n      <td>5</td>\n      <td>6</td>\n      <td>{'criterion': 'gini', 'max_depth': 5, 'min_sam...</td>\n      <td>0.958333</td>\n      <td>0.916667</td>\n      <td>0.916667</td>\n      <td>0.875</td>\n      <td>1.000000</td>\n      <td>0.933333</td>\n      <td>0.042492</td>\n      <td>10</td>\n    </tr>\n    <tr>\n      <th>3</th>\n      <td>0.001966</td>\n      <td>0.000454</td>\n      <td>0.001129</td>\n      <td>0.000047</td>\n      <td>gini</td>\n      <td>10</td>\n      <td>2</td>\n      <td>{'criterion': 'gini', 'max_depth': 10, 'min_sa...</td>\n      <td>0.958333</td>\n      <td>0.916667</td>\n      <td>0.916667</td>\n      <td>0.875</td>\n      <td>0.958333</td>\n      <td>0.925000</td>\n      <td>0.031180</td>\n      <td>13</td>\n    </tr>\n    <tr>\n      <th>4</th>\n      <td>0.001590</td>\n      <td>0.000556</td>\n      <td>0.001135</td>\n      <td>0.000031</td>\n      <td>gini</td>\n      <td>10</td>\n      <td>4</td>\n      <td>{'criterion': 'gini', 'max_depth': 10, 'min_sa...</td>\n      <td>0.958333</td>\n      <td>0.916667</td>\n      <td>0.916667</td>\n      <td>0.875</td>\n      <td>0.958333</td>\n      <td>0.925000</td>\n      <td>0.031180</td>\n      <td>13</td>\n    </tr>\n    <tr>\n      <th>5</th>\n      <td>0.001565</td>\n      <td>0.000474</td>\n      <td>0.001511</td>\n      <td>0.000574</td>\n      <td>gini</td>\n      <td>10</td>\n      <td>6</td>\n      <td>{'criterion': 'gini', 'max_depth': 10, 'min_sa...</td>\n      <td>0.958333</td>\n      <td>0.916667</td>\n      <td>0.916667</td>\n      <td>0.875</td>\n      <td>1.000000</td>\n      <td>0.933333</td>\n      <td>0.042492</td>\n      <td>10</td>\n    </tr>\n    <tr>\n      <th>6</th>\n      <td>0.001293</td>\n      <td>0.000381</td>\n      <td>0.000863</td>\n      <td>0.000434</td>\n      <td>gini</td>\n      <td>15</td>\n      <td>2</td>\n      <td>{'criterion': 'gini', 'max_depth': 15, 'min_sa...</td>\n      <td>0.958333</td>\n      <td>0.916667</td>\n      <td>0.916667</td>\n      <td>0.875</td>\n      <td>0.958333</td>\n      <td>0.925000</td>\n      <td>0.031180</td>\n      <td>13</td>\n    </tr>\n    <tr>\n      <th>7</th>\n      <td>0.001112</td>\n      <td>0.000042</td>\n      <td>0.001092</td>\n      <td>0.000046</td>\n      <td>gini</td>\n      <td>15</td>\n      <td>4</td>\n      <td>{'criterion': 'gini', 'max_depth': 15, 'min_sa...</td>\n      <td>0.958333</td>\n      <td>0.916667</td>\n      <td>0.916667</td>\n      <td>0.875</td>\n      <td>0.958333</td>\n      <td>0.925000</td>\n      <td>0.031180</td>\n      <td>13</td>\n    </tr>\n    <tr>\n      <th>8</th>\n      <td>0.001386</td>\n      <td>0.000457</td>\n      <td>0.000892</td>\n      <td>0.000450</td>\n      <td>gini</td>\n      <td>15</td>\n      <td>6</td>\n      <td>{'criterion': 'gini', 'max_depth': 15, 'min_sa...</td>\n      <td>0.958333</td>\n      <td>0.916667</td>\n      <td>0.916667</td>\n      <td>0.875</td>\n      <td>1.000000</td>\n      <td>0.933333</td>\n      <td>0.042492</td>\n      <td>10</td>\n    </tr>\n    <tr>\n      <th>9</th>\n      <td>0.001450</td>\n      <td>0.000360</td>\n      <td>0.000749</td>\n      <td>0.000587</td>\n      <td>entropy</td>\n      <td>5</td>\n      <td>2</td>\n      <td>{'criterion': 'entropy', 'max_depth': 5, 'min_...</td>\n      <td>0.916667</td>\n      <td>0.916667</td>\n      <td>0.916667</td>\n      <td>1.000</td>\n      <td>0.958333</td>\n      <td>0.941667</td>\n      <td>0.033333</td>\n      <td>7</td>\n    </tr>\n    <tr>\n      <th>10</th>\n      <td>0.001310</td>\n      <td>0.000351</td>\n      <td>0.001084</td>\n      <td>0.000110</td>\n      <td>entropy</td>\n      <td>5</td>\n      <td>4</td>\n      <td>{'criterion': 'entropy', 'max_depth': 5, 'min_...</td>\n      <td>0.916667</td>\n      <td>0.916667</td>\n      <td>0.916667</td>\n      <td>1.000</td>\n      <td>0.958333</td>\n      <td>0.941667</td>\n      <td>0.033333</td>\n      <td>7</td>\n    </tr>\n    <tr>\n      <th>11</th>\n      <td>0.001330</td>\n      <td>0.000427</td>\n      <td>0.001117</td>\n      <td>0.000038</td>\n      <td>entropy</td>\n      <td>5</td>\n      <td>6</td>\n      <td>{'criterion': 'entropy', 'max_depth': 5, 'min_...</td>\n      <td>0.958333</td>\n      <td>0.916667</td>\n      <td>0.916667</td>\n      <td>1.000</td>\n      <td>0.958333</td>\n      <td>0.950000</td>\n      <td>0.031180</td>\n      <td>1</td>\n    </tr>\n    <tr>\n      <th>12</th>\n      <td>0.001122</td>\n      <td>0.000036</td>\n      <td>0.000217</td>\n      <td>0.000434</td>\n      <td>entropy</td>\n      <td>10</td>\n      <td>2</td>\n      <td>{'criterion': 'entropy', 'max_depth': 10, 'min...</td>\n      <td>0.916667</td>\n      <td>0.916667</td>\n      <td>0.958333</td>\n      <td>1.000</td>\n      <td>0.958333</td>\n      <td>0.950000</td>\n      <td>0.031180</td>\n      <td>1</td>\n    </tr>\n    <tr>\n      <th>13</th>\n      <td>0.001340</td>\n      <td>0.000408</td>\n      <td>0.001104</td>\n      <td>0.000038</td>\n      <td>entropy</td>\n      <td>10</td>\n      <td>4</td>\n      <td>{'criterion': 'entropy', 'max_depth': 10, 'min...</td>\n      <td>0.958333</td>\n      <td>0.916667</td>\n      <td>0.916667</td>\n      <td>0.875</td>\n      <td>0.958333</td>\n      <td>0.925000</td>\n      <td>0.031180</td>\n      <td>13</td>\n    </tr>\n    <tr>\n      <th>14</th>\n      <td>0.001093</td>\n      <td>0.000022</td>\n      <td>0.001063</td>\n      <td>0.000005</td>\n      <td>entropy</td>\n      <td>10</td>\n      <td>6</td>\n      <td>{'criterion': 'entropy', 'max_depth': 10, 'min...</td>\n      <td>0.958333</td>\n      <td>0.916667</td>\n      <td>0.916667</td>\n      <td>0.875</td>\n      <td>0.958333</td>\n      <td>0.925000</td>\n      <td>0.031180</td>\n      <td>13</td>\n    </tr>\n    <tr>\n      <th>15</th>\n      <td>0.001525</td>\n      <td>0.000515</td>\n      <td>0.001099</td>\n      <td>0.000068</td>\n      <td>entropy</td>\n      <td>15</td>\n      <td>2</td>\n      <td>{'criterion': 'entropy', 'max_depth': 15, 'min...</td>\n      <td>0.916667</td>\n      <td>0.916667</td>\n      <td>0.916667</td>\n      <td>0.875</td>\n      <td>0.958333</td>\n      <td>0.916667</td>\n      <td>0.026352</td>\n      <td>24</td>\n    </tr>\n    <tr>\n      <th>16</th>\n      <td>0.001985</td>\n      <td>0.000797</td>\n      <td>0.001260</td>\n      <td>0.000409</td>\n      <td>entropy</td>\n      <td>15</td>\n      <td>4</td>\n      <td>{'criterion': 'entropy', 'max_depth': 15, 'min...</td>\n      <td>0.958333</td>\n      <td>0.916667</td>\n      <td>0.916667</td>\n      <td>1.000</td>\n      <td>0.958333</td>\n      <td>0.950000</td>\n      <td>0.031180</td>\n      <td>1</td>\n    </tr>\n    <tr>\n      <th>17</th>\n      <td>0.001096</td>\n      <td>0.000048</td>\n      <td>0.001115</td>\n      <td>0.000019</td>\n      <td>entropy</td>\n      <td>15</td>\n      <td>6</td>\n      <td>{'criterion': 'entropy', 'max_depth': 15, 'min...</td>\n      <td>0.958333</td>\n      <td>0.916667</td>\n      <td>0.916667</td>\n      <td>0.875</td>\n      <td>0.958333</td>\n      <td>0.925000</td>\n      <td>0.031180</td>\n      <td>13</td>\n    </tr>\n    <tr>\n      <th>18</th>\n      <td>0.000906</td>\n      <td>0.000453</td>\n      <td>0.000896</td>\n      <td>0.000448</td>\n      <td>log_loss</td>\n      <td>5</td>\n      <td>2</td>\n      <td>{'criterion': 'log_loss', 'max_depth': 5, 'min...</td>\n      <td>0.958333</td>\n      <td>0.916667</td>\n      <td>0.916667</td>\n      <td>0.875</td>\n      <td>0.958333</td>\n      <td>0.925000</td>\n      <td>0.031180</td>\n      <td>13</td>\n    </tr>\n    <tr>\n      <th>19</th>\n      <td>0.000889</td>\n      <td>0.000446</td>\n      <td>0.000655</td>\n      <td>0.000535</td>\n      <td>log_loss</td>\n      <td>5</td>\n      <td>4</td>\n      <td>{'criterion': 'log_loss', 'max_depth': 5, 'min...</td>\n      <td>0.916667</td>\n      <td>0.916667</td>\n      <td>0.916667</td>\n      <td>1.000</td>\n      <td>0.958333</td>\n      <td>0.941667</td>\n      <td>0.033333</td>\n      <td>7</td>\n    </tr>\n    <tr>\n      <th>20</th>\n      <td>0.001128</td>\n      <td>0.000042</td>\n      <td>0.000647</td>\n      <td>0.000530</td>\n      <td>log_loss</td>\n      <td>5</td>\n      <td>6</td>\n      <td>{'criterion': 'log_loss', 'max_depth': 5, 'min...</td>\n      <td>0.958333</td>\n      <td>0.916667</td>\n      <td>0.916667</td>\n      <td>1.000</td>\n      <td>0.958333</td>\n      <td>0.950000</td>\n      <td>0.031180</td>\n      <td>1</td>\n    </tr>\n    <tr>\n      <th>21</th>\n      <td>0.002321</td>\n      <td>0.000121</td>\n      <td>0.001732</td>\n      <td>0.000521</td>\n      <td>log_loss</td>\n      <td>10</td>\n      <td>2</td>\n      <td>{'criterion': 'log_loss', 'max_depth': 10, 'mi...</td>\n      <td>0.916667</td>\n      <td>0.916667</td>\n      <td>0.916667</td>\n      <td>0.875</td>\n      <td>0.958333</td>\n      <td>0.916667</td>\n      <td>0.026352</td>\n      <td>24</td>\n    </tr>\n    <tr>\n      <th>22</th>\n      <td>0.002195</td>\n      <td>0.000100</td>\n      <td>0.001151</td>\n      <td>0.000207</td>\n      <td>log_loss</td>\n      <td>10</td>\n      <td>4</td>\n      <td>{'criterion': 'log_loss', 'max_depth': 10, 'mi...</td>\n      <td>0.916667</td>\n      <td>0.916667</td>\n      <td>0.916667</td>\n      <td>0.875</td>\n      <td>0.958333</td>\n      <td>0.916667</td>\n      <td>0.026352</td>\n      <td>24</td>\n    </tr>\n    <tr>\n      <th>23</th>\n      <td>0.001330</td>\n      <td>0.000434</td>\n      <td>0.001302</td>\n      <td>0.000426</td>\n      <td>log_loss</td>\n      <td>10</td>\n      <td>6</td>\n      <td>{'criterion': 'log_loss', 'max_depth': 10, 'mi...</td>\n      <td>0.958333</td>\n      <td>0.916667</td>\n      <td>0.916667</td>\n      <td>1.000</td>\n      <td>0.958333</td>\n      <td>0.950000</td>\n      <td>0.031180</td>\n      <td>1</td>\n    </tr>\n    <tr>\n      <th>24</th>\n      <td>0.001290</td>\n      <td>0.000467</td>\n      <td>0.001046</td>\n      <td>0.000037</td>\n      <td>log_loss</td>\n      <td>15</td>\n      <td>2</td>\n      <td>{'criterion': 'log_loss', 'max_depth': 15, 'mi...</td>\n      <td>0.916667</td>\n      <td>0.916667</td>\n      <td>0.916667</td>\n      <td>0.875</td>\n      <td>0.958333</td>\n      <td>0.916667</td>\n      <td>0.026352</td>\n      <td>24</td>\n    </tr>\n    <tr>\n      <th>25</th>\n      <td>0.001579</td>\n      <td>0.000622</td>\n      <td>0.001176</td>\n      <td>0.000130</td>\n      <td>log_loss</td>\n      <td>15</td>\n      <td>4</td>\n      <td>{'criterion': 'log_loss', 'max_depth': 15, 'mi...</td>\n      <td>0.958333</td>\n      <td>0.916667</td>\n      <td>0.916667</td>\n      <td>0.875</td>\n      <td>0.958333</td>\n      <td>0.925000</td>\n      <td>0.031180</td>\n      <td>13</td>\n    </tr>\n    <tr>\n      <th>26</th>\n      <td>0.001071</td>\n      <td>0.000024</td>\n      <td>0.000857</td>\n      <td>0.000430</td>\n      <td>log_loss</td>\n      <td>15</td>\n      <td>6</td>\n      <td>{'criterion': 'log_loss', 'max_depth': 15, 'mi...</td>\n      <td>0.958333</td>\n      <td>0.916667</td>\n      <td>0.916667</td>\n      <td>1.000</td>\n      <td>0.958333</td>\n      <td>0.950000</td>\n      <td>0.031180</td>\n      <td>1</td>\n    </tr>\n  </tbody>\n</table>\n</div>"
     },
     "execution_count": 48,
     "metadata": {},
     "output_type": "execute_result"
    }
   ],
   "source": [
    "# 학습 후 저장된 모델 파라미터 확인\n",
    "cv_resultsDF = pd.DataFrame(gs.cv_results_)  # 교차학습 결과  (gs.cv_results_ : dict)\n",
    "cv_resultsDF    # 조합된 모델의 개수 : 27개 (3x3x3)"
   ],
   "metadata": {
    "collapsed": false,
    "ExecuteTime": {
     "end_time": "2024-03-07T02:05:01.147789Z",
     "start_time": "2024-03-07T02:05:00.644501500Z"
    }
   },
   "id": "af498f7aef06e7e9",
   "execution_count": 48
  },
  {
   "cell_type": "code",
   "outputs": [
    {
     "data": {
      "text/plain": "{'criterion': 'entropy', 'max_depth': 5, 'min_samples_split': 6}"
     },
     "execution_count": 49,
     "metadata": {},
     "output_type": "execute_result"
    }
   ],
   "source": [
    "# 조합된 모델 중 최고의 성능을 내는 하이퍼 파라미터 값\n",
    "gs.best_params_"
   ],
   "metadata": {
    "collapsed": false,
    "ExecuteTime": {
     "end_time": "2024-03-07T02:07:33.899653700Z",
     "start_time": "2024-03-07T02:07:33.867092Z"
    }
   },
   "id": "7b0dc62d052000b6",
   "execution_count": 49
  },
  {
   "cell_type": "code",
   "outputs": [
    {
     "data": {
      "text/plain": "0.95"
     },
     "execution_count": 50,
     "metadata": {},
     "output_type": "execute_result"
    }
   ],
   "source": [
    "# 조합된 모델 중 최고의 (테스트) 점수\n",
    "gs.best_score_"
   ],
   "metadata": {
    "collapsed": false,
    "ExecuteTime": {
     "end_time": "2024-03-07T02:08:03.511988Z",
     "start_time": "2024-03-07T02:08:03.483556800Z"
    }
   },
   "id": "28f51218df4f1483",
   "execution_count": 50
  },
  {
   "cell_type": "code",
   "outputs": [],
   "source": [
    "# 조합된 모델 중 최고의 성능을 내는 모델 인스턴스\n",
    "my_best_model = gs.best_estimator_"
   ],
   "metadata": {
    "collapsed": false,
    "ExecuteTime": {
     "end_time": "2024-03-07T02:09:18.576535400Z",
     "start_time": "2024-03-07T02:09:18.549432900Z"
    }
   },
   "id": "345ad9bb3b231cab",
   "execution_count": 51
  },
  {
   "cell_type": "markdown",
   "source": [
    "(6) 학습 및 튜닝 후 모델 저장 <hr>\n",
    "- 다른 파일에서 활용이 가능한 파일 형태로 저장\n",
    "- 웹/앱 원하는 곳에서 활용 가능\n",
    "- scikit-learn에서는 pickle 포맷으로 저장\n",
    "- joblib 모듈에 해당 기능 포함되어 있음"
   ],
   "metadata": {
    "collapsed": false
   },
   "id": "159e93539ab9ac4c"
  },
  {
   "cell_type": "code",
   "outputs": [],
   "source": [
    "import joblib\n",
    "import os"
   ],
   "metadata": {
    "collapsed": false,
    "ExecuteTime": {
     "end_time": "2024-03-07T02:17:34.544161500Z",
     "start_time": "2024-03-07T02:17:34.526160400Z"
    }
   },
   "id": "59133863383b9e9d",
   "execution_count": 54
  },
  {
   "cell_type": "code",
   "outputs": [
    {
     "data": {
      "text/plain": "['../model/iris_best_model.pkl']"
     },
     "execution_count": 57,
     "metadata": {},
     "output_type": "execute_result"
    }
   ],
   "source": [
    "# 모델 저장\n",
    "model_dir = '../model/'\n",
    "model_filename = model_dir + 'iris_best_model.pkl'\n",
    "\n",
    "# 저장 폴더 존재여부 확인 후 저장\n",
    "if not os.path.exists(model_dir):\n",
    "    os.mkdir(model_dir)\n",
    "\n",
    "joblib.dump(my_best_model, model_filename)"
   ],
   "metadata": {
    "collapsed": false,
    "ExecuteTime": {
     "end_time": "2024-03-07T02:22:17.526992Z",
     "start_time": "2024-03-07T02:22:17.507992800Z"
    }
   },
   "id": "89ef10b851b51145",
   "execution_count": 57
  },
  {
   "cell_type": "code",
   "outputs": [],
   "source": [],
   "metadata": {
    "collapsed": false
   },
   "id": "80f79243dac06529"
  }
 ],
 "metadata": {
  "kernelspec": {
   "display_name": "Python 3",
   "language": "python",
   "name": "python3"
  },
  "language_info": {
   "codemirror_mode": {
    "name": "ipython",
    "version": 2
   },
   "file_extension": ".py",
   "mimetype": "text/x-python",
   "name": "python",
   "nbconvert_exporter": "python",
   "pygments_lexer": "ipython2",
   "version": "2.7.6"
  }
 },
 "nbformat": 4,
 "nbformat_minor": 5
}
