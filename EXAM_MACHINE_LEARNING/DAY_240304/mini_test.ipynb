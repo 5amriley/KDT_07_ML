{
 "cells": [
  {
   "cell_type": "markdown",
   "source": [
    "머신러닝 미니 테스트 2024/03/04"
   ],
   "metadata": {
    "collapsed": false
   },
   "id": "657ca3944d13b0d0"
  },
  {
   "cell_type": "markdown",
   "source": [
    "1. 기계학습 프로세스에 대해 간략하게 설명하세요  \n",
    "학습시킬 데이터를 확보한 뒤, 그 데이터의 속성이 어떻게 구성되었고, 각 속성들에 대해 이해한 후,\n",
    "중복된 값이 있는지, 이상치가 있는지 확인하여 학습시키기에 적합하게 데이터를 전처리 합니다. 필요하다면 각 컬럼들 간의 값의 크기/단위를 통일하기 위해 '피쳐 스케일링'을 할 수도 있습니다.\n",
    "그 다음, 학습에 사용할 데이터셋과 학습 모델의 평가에 사용할 데이터셋으로 분리한 후, 학습에 사용할 정답이 있다면 지도학습을, 없다면 비지도학습 방식을 택합니다. 그리고, 도출해야 할 결과값이 연속형이라면 회귀 등을, 특정 카테고리라면 분류(Classification)의 방식을 사용하여 모델을 생성하고, 학습시킵니다.  \n",
    "2. 기계학습에 사용되는 데이터셋에 대해 설명하세요  \n",
    "여러 컬럼들로 구성되어 있고, 범주형 데이터일 수도, 수치형 데이터일 수도 있습니다.  \n",
    "3. 지도학습의 특징을 설명하세요  \n",
    "학습의 결과로 도출하고 싶은 정답이 각 데이터마다 존재하는 경우 사용하는 방식으로, '정답'에 해당하는 라벨이 있다는 것이 특징입니다.  \n",
    "4. 데이터 전처리 중 처음 데이터 수집 후 데이터 정제하는 과정에 진행되는 작업을 설명하세요  \n",
    "중복값이 있다면 제거하고, 결측치 또는 이상치가 존재할 경우 이 값을 어떻게 처리할 지 개발자가 선택해야 합니다.\n",
    "사용하지 않겠다고 판단하여 제거할 수도 있고, 이상치의 portion이 꽤 크다면 이상치만 따로 빼서 이상치 전용 예측모델을 만들 수도 있습니다.  \n",
    "5. 모델 개념을 설명해 주세요  \n",
    "학습을 시킬 때 컴퓨터가 사용할 방식에 종속되는 개념입니다. 예를 들어, 각 값들과의 오차가 최소가 되도록 하는 함수를 도출하겠다고 하면 '회귀분석' 모델을 사용하고, 주변에 존재하는 k개의 값들 중 가장 많이 나타나는 쪽의 값이 정답일 것이라 추정하는 방식을 사용하겠다고 하면 KNN 모델을 사용하는 것입니다.  \n",
    "6. 모델의 결과 값이 수치를 예측해주는 기계학습은 무엇인가요 ?  \n",
    "회귀분석입니다. 훈련 데이터셋 각각의 값들과의 오차가 가장 적은 함수를 찾아내어, 새로운 값을 그 함수에 적용시켜 y값을 도출합니다.  \n",
    "7. 모델 파라미터는 무엇인가요 ?  \n",
    "특정 모델을 사용할 경우 지정해줘야 하는 값입니다. KNN 모델의 경우, 해당 값의 주변에 있는 데이터들을 확인할 때, 몇 개의 데이터들을 확인할 지 정해줘야 하기 때문에 통칭, k값이라는 파라미터를 지정해줘야 합니다.  \n",
    "8. KNN 알고리즘에 대해 설명해 주세요  \n",
    "특정 값이 입력되었을 때, 기존 훈련 데이터셋과 대조해서 해당 값에 가장 비슷한 k개의 값들을 조사하고, 그 값들 중 가장 자주 등장하는 클래스 값을 예측값으로 선정하는 알고리즘입니다. 비슷한 것 끼리 뭉칠 것이라는 추정에 기반합니다.  \n",
    "9. 하이퍼 파라미터는 무엇인가요 ?  \n",
    "해당 모델을 학습한 후, 얻을 수 있는 파라미터를 의미합니다. 예를 들어, 회귀 분석의 경우, 학습을 끝마친 후에야 회귀함수의 계수값, y절편 값을 얻을 수 있으므로, 이러한 값들이 하이퍼 파라미터입니다.  \n",
    "10. Regression 의 성능평가 지표들을 설명하세요  \n",
    "도출하는 예측값이 수치형(연속형)이므로, MAE, MSE, RMSE, r2 (결정계수) 등을 성능평가 지표로 사용할 수 있습니다.\n",
    "MAE의 경우, 예측값이 실제값과 이루는 편차에 절대값을 취하여 평균을 낸 값이고,\n",
    "MSE의 경우, 예측값이 실제값과 이루는 편차에 제곱을 취하여 평균을 낸 값,\n",
    "RMSE는, MSE에 루트를 취한 값입니다.  \n",
    "11. LinearRegression 알고리즘에 대해 설명해 주세요  \n",
    "회귀분석 중, 도출할 함수로 선형적 함수를 사용하는 알고리즘입니다. 각 피쳐값에 곱해지는 계수값과, y절편(상수) 값을 바꿔가며 최적의 함수를 찾습니다.  \n",
    "12. Classification 의 성능평가 지표들을 설명하세요   \n",
    "도출하는 예측값이 범주형이므로, 재현율, 정확도, f1-score 등을 성능평가 지표로 사용할 수 있습니다.\n",
    "재현율은  \n",
    "13. 피쳐공학에 대해 설명하세요  \n",
    "14. LogisticRegression 알고리즘에 대해 설명해 주세요  \n",
    "오차값이 최소가 되는 값을 찾는 과정에서, 계수 값들을 계속 바꾸게 되는데, 바꾼 값을 사용했을 때 이전에 비해 오차값이 더 적어진다면 계속 그 방향으로 바꿔나가고, 바꾼 값을 사용했을 때 이전보다 오차값이 더 커진다면 다른 방향을 찾는 방식으로 최적함수에 도달해 가는 알고리즘입니다.  \n",
    "15. 과대적합 / 과소적합에 대해 설명해 주세요  \n",
    "과대적합 : 훈련 데이터셋에 너무 잘 맞는 모델이 되어버려, 훈련 데이터가 아닌 새로운 데이터를 입력했을 경우에는 정확도가 저조한 경우를 말합니다.\n",
    "과소적합 : 훈련 데이터셋 조차 점수가 잘 나오지 않고, 새로운 데이터를 입력했을 때 또한 점수가 저조한 경우를 말합니다."
   ],
   "metadata": {
    "collapsed": false
   },
   "id": "4bb10b2d4461e7a2"
  },
  {
   "cell_type": "markdown",
   "source": [
    "16. 아래 데이터셋을 기반으로 분류 회귀 모델을 완성 후 성능평가까지 구현하세요  - : iris.csv 데이터셋  \n",
    " - 조건  \n",
    " * : 3개 품종 중 2개 선택하여 이진 분류 진행  \n",
    " * : 3개 품종 중 1개 선택, 4개 피쳐 중 꽃잎의 길이값 예측 회귀 "
   ],
   "metadata": {
    "collapsed": false
   },
   "id": "4145a9c3ceccb889"
  },
  {
   "cell_type": "code",
   "outputs": [],
   "source": [
    "import pandas as pd\n",
    "import numpy as np"
   ],
   "metadata": {
    "collapsed": false,
    "ExecuteTime": {
     "end_time": "2024-03-04T02:15:31.830419200Z",
     "start_time": "2024-03-04T02:15:31.402938400Z"
    }
   },
   "id": "463f63a9c7ed014",
   "execution_count": 1
  },
  {
   "cell_type": "code",
   "outputs": [],
   "source": [
    "filename = '../Data/iris.csv'\n",
    "irisDF = pd.read_csv(filename)"
   ],
   "metadata": {
    "collapsed": false,
    "ExecuteTime": {
     "end_time": "2024-03-04T02:15:49.320450600Z",
     "start_time": "2024-03-04T02:15:49.291788200Z"
    }
   },
   "id": "1eb67d6214cf154",
   "execution_count": 2
  },
  {
   "cell_type": "code",
   "outputs": [
    {
     "data": {
      "text/plain": "   sepal_length  sepal_width  petal_length  petal_width species\n0           5.1          3.5           1.4          0.2  setosa\n1           4.9          3.0           1.4          0.2  setosa\n2           4.7          3.2           1.3          0.2  setosa\n3           4.6          3.1           1.5          0.2  setosa\n4           5.0          3.6           1.4          0.2  setosa",
      "text/html": "<div>\n<style scoped>\n    .dataframe tbody tr th:only-of-type {\n        vertical-align: middle;\n    }\n\n    .dataframe tbody tr th {\n        vertical-align: top;\n    }\n\n    .dataframe thead th {\n        text-align: right;\n    }\n</style>\n<table border=\"1\" class=\"dataframe\">\n  <thead>\n    <tr style=\"text-align: right;\">\n      <th></th>\n      <th>sepal_length</th>\n      <th>sepal_width</th>\n      <th>petal_length</th>\n      <th>petal_width</th>\n      <th>species</th>\n    </tr>\n  </thead>\n  <tbody>\n    <tr>\n      <th>0</th>\n      <td>5.1</td>\n      <td>3.5</td>\n      <td>1.4</td>\n      <td>0.2</td>\n      <td>setosa</td>\n    </tr>\n    <tr>\n      <th>1</th>\n      <td>4.9</td>\n      <td>3.0</td>\n      <td>1.4</td>\n      <td>0.2</td>\n      <td>setosa</td>\n    </tr>\n    <tr>\n      <th>2</th>\n      <td>4.7</td>\n      <td>3.2</td>\n      <td>1.3</td>\n      <td>0.2</td>\n      <td>setosa</td>\n    </tr>\n    <tr>\n      <th>3</th>\n      <td>4.6</td>\n      <td>3.1</td>\n      <td>1.5</td>\n      <td>0.2</td>\n      <td>setosa</td>\n    </tr>\n    <tr>\n      <th>4</th>\n      <td>5.0</td>\n      <td>3.6</td>\n      <td>1.4</td>\n      <td>0.2</td>\n      <td>setosa</td>\n    </tr>\n  </tbody>\n</table>\n</div>"
     },
     "execution_count": 3,
     "metadata": {},
     "output_type": "execute_result"
    }
   ],
   "source": [
    "irisDF.head()"
   ],
   "metadata": {
    "collapsed": false,
    "ExecuteTime": {
     "end_time": "2024-03-04T02:15:52.472417500Z",
     "start_time": "2024-03-04T02:15:52.451171Z"
    }
   },
   "id": "ff103ed61bb93df0",
   "execution_count": 3
  },
  {
   "cell_type": "code",
   "outputs": [
    {
     "data": {
      "text/plain": "array(['setosa', 'versicolor', 'virginica'], dtype=object)"
     },
     "execution_count": 4,
     "metadata": {},
     "output_type": "execute_result"
    }
   ],
   "source": [
    "irisDF.species.unique()"
   ],
   "metadata": {
    "collapsed": false,
    "ExecuteTime": {
     "end_time": "2024-03-04T02:16:06.586648100Z",
     "start_time": "2024-03-04T02:16:06.553757500Z"
    }
   },
   "id": "39ebc30e1c58529e",
   "execution_count": 4
  },
  {
   "cell_type": "code",
   "outputs": [
    {
     "data": {
      "text/plain": "species\nsetosa        50\nversicolor    50\nvirginica     50\nName: count, dtype: int64"
     },
     "execution_count": 12,
     "metadata": {},
     "output_type": "execute_result"
    }
   ],
   "source": [
    "irisDF.species.value_counts()"
   ],
   "metadata": {
    "collapsed": false,
    "ExecuteTime": {
     "end_time": "2024-03-04T02:19:33.505937300Z",
     "start_time": "2024-03-04T02:19:33.486703900Z"
    }
   },
   "id": "155b0e37e94ed367",
   "execution_count": 12
  },
  {
   "cell_type": "markdown",
   "source": [
    "3개 품종 중 2개 선택하여 이진 분류 진행 "
   ],
   "metadata": {
    "collapsed": false
   },
   "id": "c7ddc79eb15533d9"
  },
  {
   "cell_type": "code",
   "outputs": [],
   "source": [
    "# 'setosa', 'versicolor' 만 선택\n",
    "speciesList = ['setosa', 'versicolor']\n",
    "speciesMask = irisDF['species'].isin(speciesList)\n",
    "irisDF2 = irisDF[speciesMask]   # 두 개의 species 만 존재하는 DF"
   ],
   "metadata": {
    "collapsed": false,
    "ExecuteTime": {
     "end_time": "2024-03-04T02:18:31.209438800Z",
     "start_time": "2024-03-04T02:18:31.177877600Z"
    }
   },
   "id": "c724626e62446d1f",
   "execution_count": 7
  },
  {
   "cell_type": "code",
   "outputs": [
    {
     "data": {
      "text/plain": "array(['setosa', 'versicolor'], dtype=object)"
     },
     "execution_count": 8,
     "metadata": {},
     "output_type": "execute_result"
    }
   ],
   "source": [
    "irisDF2.species.unique()"
   ],
   "metadata": {
    "collapsed": false,
    "ExecuteTime": {
     "end_time": "2024-03-04T02:18:37.426839100Z",
     "start_time": "2024-03-04T02:18:37.382346600Z"
    }
   },
   "id": "f7bdc3ca3322aaa0",
   "execution_count": 8
  },
  {
   "cell_type": "code",
   "outputs": [
    {
     "name": "stderr",
     "output_type": "stream",
     "text": [
      "C:\\Users\\kdp\\AppData\\Local\\Temp\\ipykernel_32416\\727388353.py:1: SettingWithCopyWarning: \n",
      "A value is trying to be set on a copy of a slice from a DataFrame\n",
      "\n",
      "See the caveats in the documentation: https://pandas.pydata.org/pandas-docs/stable/user_guide/indexing.html#returning-a-view-versus-a-copy\n",
      "  irisDF2.species.replace({'setosa': 0, 'versicolor': 1}, inplace=True)\n"
     ]
    }
   ],
   "source": [
    "irisDF2.species.replace({'setosa': 0, 'versicolor': 1}, inplace=True)"
   ],
   "metadata": {
    "collapsed": false,
    "ExecuteTime": {
     "end_time": "2024-03-04T02:19:05.887677200Z",
     "start_time": "2024-03-04T02:19:05.868754800Z"
    }
   },
   "id": "f8b6a45feda08f43",
   "execution_count": 9
  },
  {
   "cell_type": "code",
   "outputs": [
    {
     "data": {
      "text/plain": "species\n0    50\n1    50\nName: count, dtype: int64"
     },
     "execution_count": 11,
     "metadata": {},
     "output_type": "execute_result"
    }
   ],
   "source": [
    "irisDF2.species.value_counts()"
   ],
   "metadata": {
    "collapsed": false,
    "ExecuteTime": {
     "end_time": "2024-03-04T02:19:18.232962800Z",
     "start_time": "2024-03-04T02:19:18.219916600Z"
    }
   },
   "id": "ee5b8226ff578272",
   "execution_count": 11
  },
  {
   "cell_type": "code",
   "outputs": [],
   "source": [
    "featureDF = irisDF2"
   ],
   "metadata": {
    "collapsed": false
   },
   "id": "cc02250a85fd986"
  },
  {
   "cell_type": "code",
   "outputs": [],
   "source": [
    "featureDF = irisDF2.iloc[:, :-1]"
   ],
   "metadata": {
    "collapsed": false,
    "ExecuteTime": {
     "end_time": "2024-03-04T02:22:04.460973800Z",
     "start_time": "2024-03-04T02:22:04.443375Z"
    }
   },
   "id": "e45baab07e84565d",
   "execution_count": 13
  },
  {
   "cell_type": "code",
   "outputs": [
    {
     "data": {
      "text/plain": "   sepal_length  sepal_width  petal_length  petal_width\n0           5.1          3.5           1.4          0.2\n1           4.9          3.0           1.4          0.2\n2           4.7          3.2           1.3          0.2\n3           4.6          3.1           1.5          0.2\n4           5.0          3.6           1.4          0.2",
      "text/html": "<div>\n<style scoped>\n    .dataframe tbody tr th:only-of-type {\n        vertical-align: middle;\n    }\n\n    .dataframe tbody tr th {\n        vertical-align: top;\n    }\n\n    .dataframe thead th {\n        text-align: right;\n    }\n</style>\n<table border=\"1\" class=\"dataframe\">\n  <thead>\n    <tr style=\"text-align: right;\">\n      <th></th>\n      <th>sepal_length</th>\n      <th>sepal_width</th>\n      <th>petal_length</th>\n      <th>petal_width</th>\n    </tr>\n  </thead>\n  <tbody>\n    <tr>\n      <th>0</th>\n      <td>5.1</td>\n      <td>3.5</td>\n      <td>1.4</td>\n      <td>0.2</td>\n    </tr>\n    <tr>\n      <th>1</th>\n      <td>4.9</td>\n      <td>3.0</td>\n      <td>1.4</td>\n      <td>0.2</td>\n    </tr>\n    <tr>\n      <th>2</th>\n      <td>4.7</td>\n      <td>3.2</td>\n      <td>1.3</td>\n      <td>0.2</td>\n    </tr>\n    <tr>\n      <th>3</th>\n      <td>4.6</td>\n      <td>3.1</td>\n      <td>1.5</td>\n      <td>0.2</td>\n    </tr>\n    <tr>\n      <th>4</th>\n      <td>5.0</td>\n      <td>3.6</td>\n      <td>1.4</td>\n      <td>0.2</td>\n    </tr>\n  </tbody>\n</table>\n</div>"
     },
     "execution_count": 14,
     "metadata": {},
     "output_type": "execute_result"
    }
   ],
   "source": [
    "featureDF.head()"
   ],
   "metadata": {
    "collapsed": false,
    "ExecuteTime": {
     "end_time": "2024-03-04T02:22:09.144357300Z",
     "start_time": "2024-03-04T02:22:09.116451400Z"
    }
   },
   "id": "ee226cd28b667010",
   "execution_count": 14
  },
  {
   "cell_type": "code",
   "outputs": [],
   "source": [
    "targetSR = irisDF2['species']"
   ],
   "metadata": {
    "collapsed": false,
    "ExecuteTime": {
     "end_time": "2024-03-04T02:22:42.847884200Z",
     "start_time": "2024-03-04T02:22:42.803863800Z"
    }
   },
   "id": "961db02d0e91a196",
   "execution_count": 15
  },
  {
   "cell_type": "code",
   "outputs": [
    {
     "data": {
      "text/plain": "0    0\n1    0\n2    0\n3    0\n4    0\nName: species, dtype: int64"
     },
     "execution_count": 16,
     "metadata": {},
     "output_type": "execute_result"
    }
   ],
   "source": [
    "targetSR.head()"
   ],
   "metadata": {
    "collapsed": false,
    "ExecuteTime": {
     "end_time": "2024-03-04T02:22:47.866534500Z",
     "start_time": "2024-03-04T02:22:47.794785900Z"
    }
   },
   "id": "f4e100dfd95db30",
   "execution_count": 16
  },
  {
   "cell_type": "code",
   "outputs": [
    {
     "data": {
      "text/plain": "((100, 4), (100,))"
     },
     "execution_count": 17,
     "metadata": {},
     "output_type": "execute_result"
    }
   ],
   "source": [
    "featureDF.shape, targetSR.shape"
   ],
   "metadata": {
    "collapsed": false,
    "ExecuteTime": {
     "end_time": "2024-03-04T02:23:01.404974400Z",
     "start_time": "2024-03-04T02:23:01.396003300Z"
    }
   },
   "id": "74861ad0169023ba",
   "execution_count": 17
  },
  {
   "cell_type": "code",
   "outputs": [
    {
     "data": {
      "text/plain": "((80, 4), (80,), (20, 4), (20,))"
     },
     "execution_count": 19,
     "metadata": {},
     "output_type": "execute_result"
    }
   ],
   "source": [
    "from sklearn.model_selection import train_test_split\n",
    "x_train, x_test, y_train, y_test = train_test_split(featureDF, targetSR, test_size=0.2, random_state=2024, stratify=targetSR)\n",
    "x_train.shape, y_train.shape, x_test.shape, y_test.shape"
   ],
   "metadata": {
    "collapsed": false,
    "ExecuteTime": {
     "end_time": "2024-03-04T02:24:35.930491800Z",
     "start_time": "2024-03-04T02:24:35.863171400Z"
    }
   },
   "id": "bf78db49aa84e7b7",
   "execution_count": 19
  },
  {
   "cell_type": "code",
   "outputs": [
    {
     "data": {
      "text/plain": "StandardScaler()",
      "text/html": "<style>#sk-container-id-1 {color: black;}#sk-container-id-1 pre{padding: 0;}#sk-container-id-1 div.sk-toggleable {background-color: white;}#sk-container-id-1 label.sk-toggleable__label {cursor: pointer;display: block;width: 100%;margin-bottom: 0;padding: 0.3em;box-sizing: border-box;text-align: center;}#sk-container-id-1 label.sk-toggleable__label-arrow:before {content: \"▸\";float: left;margin-right: 0.25em;color: #696969;}#sk-container-id-1 label.sk-toggleable__label-arrow:hover:before {color: black;}#sk-container-id-1 div.sk-estimator:hover label.sk-toggleable__label-arrow:before {color: black;}#sk-container-id-1 div.sk-toggleable__content {max-height: 0;max-width: 0;overflow: hidden;text-align: left;background-color: #f0f8ff;}#sk-container-id-1 div.sk-toggleable__content pre {margin: 0.2em;color: black;border-radius: 0.25em;background-color: #f0f8ff;}#sk-container-id-1 input.sk-toggleable__control:checked~div.sk-toggleable__content {max-height: 200px;max-width: 100%;overflow: auto;}#sk-container-id-1 input.sk-toggleable__control:checked~label.sk-toggleable__label-arrow:before {content: \"▾\";}#sk-container-id-1 div.sk-estimator input.sk-toggleable__control:checked~label.sk-toggleable__label {background-color: #d4ebff;}#sk-container-id-1 div.sk-label input.sk-toggleable__control:checked~label.sk-toggleable__label {background-color: #d4ebff;}#sk-container-id-1 input.sk-hidden--visually {border: 0;clip: rect(1px 1px 1px 1px);clip: rect(1px, 1px, 1px, 1px);height: 1px;margin: -1px;overflow: hidden;padding: 0;position: absolute;width: 1px;}#sk-container-id-1 div.sk-estimator {font-family: monospace;background-color: #f0f8ff;border: 1px dotted black;border-radius: 0.25em;box-sizing: border-box;margin-bottom: 0.5em;}#sk-container-id-1 div.sk-estimator:hover {background-color: #d4ebff;}#sk-container-id-1 div.sk-parallel-item::after {content: \"\";width: 100%;border-bottom: 1px solid gray;flex-grow: 1;}#sk-container-id-1 div.sk-label:hover label.sk-toggleable__label {background-color: #d4ebff;}#sk-container-id-1 div.sk-serial::before {content: \"\";position: absolute;border-left: 1px solid gray;box-sizing: border-box;top: 0;bottom: 0;left: 50%;z-index: 0;}#sk-container-id-1 div.sk-serial {display: flex;flex-direction: column;align-items: center;background-color: white;padding-right: 0.2em;padding-left: 0.2em;position: relative;}#sk-container-id-1 div.sk-item {position: relative;z-index: 1;}#sk-container-id-1 div.sk-parallel {display: flex;align-items: stretch;justify-content: center;background-color: white;position: relative;}#sk-container-id-1 div.sk-item::before, #sk-container-id-1 div.sk-parallel-item::before {content: \"\";position: absolute;border-left: 1px solid gray;box-sizing: border-box;top: 0;bottom: 0;left: 50%;z-index: -1;}#sk-container-id-1 div.sk-parallel-item {display: flex;flex-direction: column;z-index: 1;position: relative;background-color: white;}#sk-container-id-1 div.sk-parallel-item:first-child::after {align-self: flex-end;width: 50%;}#sk-container-id-1 div.sk-parallel-item:last-child::after {align-self: flex-start;width: 50%;}#sk-container-id-1 div.sk-parallel-item:only-child::after {width: 0;}#sk-container-id-1 div.sk-dashed-wrapped {border: 1px dashed gray;margin: 0 0.4em 0.5em 0.4em;box-sizing: border-box;padding-bottom: 0.4em;background-color: white;}#sk-container-id-1 div.sk-label label {font-family: monospace;font-weight: bold;display: inline-block;line-height: 1.2em;}#sk-container-id-1 div.sk-label-container {text-align: center;}#sk-container-id-1 div.sk-container {/* jupyter's `normalize.less` sets `[hidden] { display: none; }` but bootstrap.min.css set `[hidden] { display: none !important; }` so we also need the `!important` here to be able to override the default hidden behavior on the sphinx rendered scikit-learn.org. See: https://github.com/scikit-learn/scikit-learn/issues/21755 */display: inline-block !important;position: relative;}#sk-container-id-1 div.sk-text-repr-fallback {display: none;}</style><div id=\"sk-container-id-1\" class=\"sk-top-container\"><div class=\"sk-text-repr-fallback\"><pre>StandardScaler()</pre><b>In a Jupyter environment, please rerun this cell to show the HTML representation or trust the notebook. <br />On GitHub, the HTML representation is unable to render, please try loading this page with nbviewer.org.</b></div><div class=\"sk-container\" hidden><div class=\"sk-item\"><div class=\"sk-estimator sk-toggleable\"><input class=\"sk-toggleable__control sk-hidden--visually\" id=\"sk-estimator-id-1\" type=\"checkbox\" checked><label for=\"sk-estimator-id-1\" class=\"sk-toggleable__label sk-toggleable__label-arrow\">StandardScaler</label><div class=\"sk-toggleable__content\"><pre>StandardScaler()</pre></div></div></div></div></div>"
     },
     "execution_count": 18,
     "metadata": {},
     "output_type": "execute_result"
    }
   ],
   "source": [
    "from sklearn.preprocessing import StandardScaler\n",
    "\n",
    "scaler = StandardScaler()\n",
    "scaler.fit(featureDF)"
   ],
   "metadata": {
    "collapsed": false,
    "ExecuteTime": {
     "end_time": "2024-03-04T02:23:17.084467200Z",
     "start_time": "2024-03-04T02:23:16.375758600Z"
    }
   },
   "id": "635ae66a1ef8d0eb",
   "execution_count": 18
  },
  {
   "cell_type": "code",
   "outputs": [],
   "source": [
    "scaled_x_train = scaler.transform(x_train)\n",
    "scaled_x_test = scaler.transform(x_test)"
   ],
   "metadata": {
    "collapsed": false,
    "ExecuteTime": {
     "end_time": "2024-03-04T02:25:06.280222900Z",
     "start_time": "2024-03-04T02:25:06.252418400Z"
    }
   },
   "id": "567dfbbb2ef607da",
   "execution_count": 20
  },
  {
   "cell_type": "code",
   "outputs": [],
   "source": [
    "from sklearn.neighbors import KNeighborsClassifier"
   ],
   "metadata": {
    "collapsed": false,
    "ExecuteTime": {
     "end_time": "2024-03-04T02:25:25.873650900Z",
     "start_time": "2024-03-04T02:25:25.790928Z"
    }
   },
   "id": "eeae939886f0faa6",
   "execution_count": 22
  },
  {
   "cell_type": "code",
   "outputs": [
    {
     "data": {
      "text/plain": "1.0"
     },
     "execution_count": 24,
     "metadata": {},
     "output_type": "execute_result"
    }
   ],
   "source": [
    "knn = KNeighborsClassifier(n_neighbors=5)\n",
    "knn.fit(scaled_x_train, y_train)\n",
    "knn.score(scaled_x_train, y_train)"
   ],
   "metadata": {
    "collapsed": false,
    "ExecuteTime": {
     "end_time": "2024-03-04T02:26:12.810956200Z",
     "start_time": "2024-03-04T02:26:12.793393300Z"
    }
   },
   "id": "9382aa19366eece5",
   "execution_count": 24
  },
  {
   "cell_type": "code",
   "outputs": [
    {
     "data": {
      "text/plain": "1.0"
     },
     "execution_count": 25,
     "metadata": {},
     "output_type": "execute_result"
    }
   ],
   "source": [
    "knn.score(scaled_x_test, y_test)"
   ],
   "metadata": {
    "collapsed": false,
    "ExecuteTime": {
     "end_time": "2024-03-04T02:26:17.077814700Z",
     "start_time": "2024-03-04T02:26:17.055816300Z"
    }
   },
   "id": "e65cf2847ee4ea45",
   "execution_count": 25
  },
  {
   "cell_type": "markdown",
   "source": [
    "3개 품종 중 1개 선택, 4개 피쳐 중 꽃잎의 길이값 예측 회귀"
   ],
   "metadata": {
    "collapsed": false
   },
   "id": "64daf203d1f66f96"
  },
  {
   "cell_type": "code",
   "outputs": [],
   "source": [
    "setosaMask = irisDF['species'] == 'setosa'\n",
    "setosaDF = irisDF[setosaMask]"
   ],
   "metadata": {
    "collapsed": false,
    "ExecuteTime": {
     "end_time": "2024-03-04T02:28:15.406336600Z",
     "start_time": "2024-03-04T02:28:15.385319200Z"
    }
   },
   "id": "2c0686ee4db5436d",
   "execution_count": 27
  },
  {
   "cell_type": "code",
   "outputs": [],
   "source": [
    "featureDF = setosaDF.iloc[:, [0, 1, 3]]\n",
    "targetSR = setosaDF['petal_length']"
   ],
   "metadata": {
    "collapsed": false,
    "ExecuteTime": {
     "end_time": "2024-03-04T02:30:50.024985800Z",
     "start_time": "2024-03-04T02:30:50.000070800Z"
    }
   },
   "id": "7419ee29982a3835",
   "execution_count": 30
  },
  {
   "cell_type": "code",
   "outputs": [
    {
     "data": {
      "text/plain": "((50, 3), (50,))"
     },
     "execution_count": 34,
     "metadata": {},
     "output_type": "execute_result"
    }
   ],
   "source": [
    "featureDF.shape, targetSR.shape"
   ],
   "metadata": {
    "collapsed": false,
    "ExecuteTime": {
     "end_time": "2024-03-04T02:31:19.642308Z",
     "start_time": "2024-03-04T02:31:19.606840200Z"
    }
   },
   "id": "15fb7182cfd6cba5",
   "execution_count": 34
  },
  {
   "cell_type": "code",
   "outputs": [],
   "source": [
    "x_train, x_test, y_train, y_test = train_test_split(featureDF, targetSR, test_size=0.2, random_state=2024)"
   ],
   "metadata": {
    "collapsed": false,
    "ExecuteTime": {
     "end_time": "2024-03-04T02:35:48.758421700Z",
     "start_time": "2024-03-04T02:35:48.738483100Z"
    }
   },
   "id": "17c6dfe0dffada9e",
   "execution_count": 48
  },
  {
   "cell_type": "code",
   "outputs": [
    {
     "data": {
      "text/plain": "((40, 3), (40,), (10, 3), (10,))"
     },
     "execution_count": 52,
     "metadata": {},
     "output_type": "execute_result"
    }
   ],
   "source": [
    "x_train.shape, y_train.shape, x_test.shape, y_test.shape"
   ],
   "metadata": {
    "collapsed": false,
    "ExecuteTime": {
     "end_time": "2024-03-04T02:36:15.313174200Z",
     "start_time": "2024-03-04T02:36:15.276251900Z"
    }
   },
   "id": "b2c3f173bac88111",
   "execution_count": 52
  },
  {
   "cell_type": "code",
   "outputs": [],
   "source": [
    "scaler = StandardScaler()\n",
    "scaler.fit(featureDF)\n",
    "scaled_x_train = scaler.transform(x_train)\n",
    "scaled_x_test = scaler.transform(x_test)"
   ],
   "metadata": {
    "collapsed": false,
    "ExecuteTime": {
     "end_time": "2024-03-04T02:35:49.041048100Z",
     "start_time": "2024-03-04T02:35:49.017116800Z"
    }
   },
   "id": "baa82d8d8189980a",
   "execution_count": 49
  },
  {
   "cell_type": "code",
   "outputs": [],
   "source": [
    "from sklearn.linear_model import LinearRegression"
   ],
   "metadata": {
    "collapsed": false,
    "ExecuteTime": {
     "end_time": "2024-03-04T02:35:49.278456600Z",
     "start_time": "2024-03-04T02:35:49.250925900Z"
    }
   },
   "id": "4b670b743a81d2d4",
   "execution_count": 50
  },
  {
   "cell_type": "code",
   "outputs": [
    {
     "data": {
      "text/plain": "0.14458818204156187"
     },
     "execution_count": 51,
     "metadata": {},
     "output_type": "execute_result"
    }
   ],
   "source": [
    "linearModel = LinearRegression()\n",
    "linearModel.fit(scaled_x_train, y_train)\n",
    "linearModel.score(scaled_x_train, y_train)"
   ],
   "metadata": {
    "collapsed": false,
    "ExecuteTime": {
     "end_time": "2024-03-04T02:35:49.590477800Z",
     "start_time": "2024-03-04T02:35:49.531219600Z"
    }
   },
   "id": "214ccc91988550a3",
   "execution_count": 51
  },
  {
   "cell_type": "code",
   "outputs": [
    {
     "data": {
      "text/plain": "-0.1293779030910054"
     },
     "execution_count": 58,
     "metadata": {},
     "output_type": "execute_result"
    }
   ],
   "source": [
    "linearModel.score(scaled_x_test, y_test)"
   ],
   "metadata": {
    "collapsed": false,
    "ExecuteTime": {
     "end_time": "2024-03-04T02:38:17.826854600Z",
     "start_time": "2024-03-04T02:38:17.811319700Z"
    }
   },
   "id": "45ba9211e09333ed",
   "execution_count": 58
  },
  {
   "cell_type": "code",
   "outputs": [],
   "source": [
    "from sklearn.neighbors import KNeighborsRegressor"
   ],
   "metadata": {
    "collapsed": false,
    "ExecuteTime": {
     "end_time": "2024-03-04T02:37:07.289775800Z",
     "start_time": "2024-03-04T02:37:07.280798100Z"
    }
   },
   "id": "483e497c209b6ef8",
   "execution_count": 55
  },
  {
   "cell_type": "code",
   "outputs": [
    {
     "data": {
      "text/plain": "0.3020242914979756"
     },
     "execution_count": 57,
     "metadata": {},
     "output_type": "execute_result"
    }
   ],
   "source": [
    "model = KNeighborsRegressor(n_neighbors=5)\n",
    "model.fit(scaled_x_train, y_train)\n",
    "model.score(scaled_x_train, y_train)"
   ],
   "metadata": {
    "collapsed": false,
    "ExecuteTime": {
     "end_time": "2024-03-04T02:38:07.266712600Z",
     "start_time": "2024-03-04T02:38:07.227771700Z"
    }
   },
   "id": "246bd1f62834f425",
   "execution_count": 57
  },
  {
   "cell_type": "code",
   "outputs": [
    {
     "data": {
      "text/plain": "-0.3611111111111118"
     },
     "execution_count": 59,
     "metadata": {},
     "output_type": "execute_result"
    }
   ],
   "source": [
    "model.score(scaled_x_test, y_test)"
   ],
   "metadata": {
    "collapsed": false,
    "ExecuteTime": {
     "end_time": "2024-03-04T02:38:27.193281Z",
     "start_time": "2024-03-04T02:38:27.170687800Z"
    }
   },
   "id": "472d9b18d36a796a",
   "execution_count": 59
  },
  {
   "cell_type": "code",
   "outputs": [],
   "source": [],
   "metadata": {
    "collapsed": false
   },
   "id": "eba334e1313711b2"
  }
 ],
 "metadata": {
  "kernelspec": {
   "display_name": "Python 3",
   "language": "python",
   "name": "python3"
  },
  "language_info": {
   "codemirror_mode": {
    "name": "ipython",
    "version": 2
   },
   "file_extension": ".py",
   "mimetype": "text/x-python",
   "name": "python",
   "nbconvert_exporter": "python",
   "pygments_lexer": "ipython2",
   "version": "2.7.6"
  }
 },
 "nbformat": 4,
 "nbformat_minor": 5
}
