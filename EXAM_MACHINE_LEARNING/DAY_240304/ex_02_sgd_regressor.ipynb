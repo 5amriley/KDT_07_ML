{
 "cells": [
  {
   "cell_type": "markdown",
   "source": [
    "### 목표 : 미니배치 기반 기계학습 진행 실습\n",
    "- 확률적 경사하강법 (SGD) 기반의 알고리즘 적용 모델\n",
    "- 배치 경사하강법 (BGD) 비해 다소 부정확할 수 있지만, 속도가 훨씬 빠름\n",
    "- 데이터의 처음부터 끝까지 (에포크) 학습 후, 가중치(W)와 절편(b) 업데이트 하는 방식에서 에포크를 미니배치 크기만큼 나누어서 학습 후 가중치(W)와 절편(b) 업데이트 진행 함\n",
    "- 장점\n",
    "    - 온라인 학습, 즉 점진적 학습 가능 => partial_fit() : 기존 모델에 추가로 1에포크 학습\n",
    "    - 기존의 다른 모델보다 학습속도가 빠름 => 랜덤으로 한 개 데이터 추출 후 학습 진행\n",
    "    - 조기 학습 중단 설정 가능\n",
    "- 단점\n",
    "    - 전체 학습보다 정확도는 떨어질 수 있음!"
   ],
   "metadata": {
    "collapsed": false
   },
   "id": "eec00a1494f7e08a"
  },
  {
   "cell_type": "markdown",
   "source": [
    "(1) 모듈 로딩 및 데이터 준비"
   ],
   "metadata": {
    "collapsed": false
   },
   "id": "ecec47aeb82228f5"
  },
  {
   "cell_type": "code",
   "outputs": [],
   "source": [
    "# 모듈 로딩\n",
    "import pandas as pd\n",
    "\n",
    "filename = '../DATA/iris.csv'"
   ],
   "metadata": {
    "collapsed": false,
    "ExecuteTime": {
     "end_time": "2024-03-04T07:38:35.219219400Z",
     "start_time": "2024-03-04T07:38:34.821858800Z"
    }
   },
   "id": "bd9662ac26eedb09",
   "execution_count": 1
  },
  {
   "cell_type": "code",
   "outputs": [
    {
     "data": {
      "text/plain": "   sepal_length  sepal_width  petal_length  petal_width species\n0           5.1          3.5           1.4          0.2  setosa\n1           4.9          3.0           1.4          0.2  setosa\n2           4.7          3.2           1.3          0.2  setosa\n3           4.6          3.1           1.5          0.2  setosa\n4           5.0          3.6           1.4          0.2  setosa",
      "text/html": "<div>\n<style scoped>\n    .dataframe tbody tr th:only-of-type {\n        vertical-align: middle;\n    }\n\n    .dataframe tbody tr th {\n        vertical-align: top;\n    }\n\n    .dataframe thead th {\n        text-align: right;\n    }\n</style>\n<table border=\"1\" class=\"dataframe\">\n  <thead>\n    <tr style=\"text-align: right;\">\n      <th></th>\n      <th>sepal_length</th>\n      <th>sepal_width</th>\n      <th>petal_length</th>\n      <th>petal_width</th>\n      <th>species</th>\n    </tr>\n  </thead>\n  <tbody>\n    <tr>\n      <th>0</th>\n      <td>5.1</td>\n      <td>3.5</td>\n      <td>1.4</td>\n      <td>0.2</td>\n      <td>setosa</td>\n    </tr>\n    <tr>\n      <th>1</th>\n      <td>4.9</td>\n      <td>3.0</td>\n      <td>1.4</td>\n      <td>0.2</td>\n      <td>setosa</td>\n    </tr>\n    <tr>\n      <th>2</th>\n      <td>4.7</td>\n      <td>3.2</td>\n      <td>1.3</td>\n      <td>0.2</td>\n      <td>setosa</td>\n    </tr>\n    <tr>\n      <th>3</th>\n      <td>4.6</td>\n      <td>3.1</td>\n      <td>1.5</td>\n      <td>0.2</td>\n      <td>setosa</td>\n    </tr>\n    <tr>\n      <th>4</th>\n      <td>5.0</td>\n      <td>3.6</td>\n      <td>1.4</td>\n      <td>0.2</td>\n      <td>setosa</td>\n    </tr>\n  </tbody>\n</table>\n</div>"
     },
     "execution_count": 2,
     "metadata": {},
     "output_type": "execute_result"
    }
   ],
   "source": [
    "# 데이터 로딩\n",
    "fishDF = pd.read_csv(filename)\n",
    "fishDF.head()"
   ],
   "metadata": {
    "collapsed": false,
    "ExecuteTime": {
     "end_time": "2024-03-04T07:38:35.263074900Z",
     "start_time": "2024-03-04T07:38:35.222209800Z"
    }
   },
   "id": "f396fc1745d82c2",
   "execution_count": 2
  },
  {
   "cell_type": "markdown",
   "source": [
    "(2) 데이터 전처리 => 학습을 위한 가공"
   ],
   "metadata": {
    "collapsed": false
   },
   "id": "3c46bed6dc48c922"
  },
  {
   "cell_type": "code",
   "outputs": [
    {
     "data": {
      "text/plain": "((150, 4), (150,))"
     },
     "execution_count": 3,
     "metadata": {},
     "output_type": "execute_result"
    }
   ],
   "source": [
    "# (2-1) 피쳐/타겟 분리\n",
    "featureDF = fishDF[fishDF.columns[:-1]]\n",
    "targetSR = fishDF['species']\n",
    "\n",
    "featureDF.shape, targetSR.shape"
   ],
   "metadata": {
    "collapsed": false,
    "ExecuteTime": {
     "end_time": "2024-03-04T07:38:35.286006500Z",
     "start_time": "2024-03-04T07:38:35.255100400Z"
    }
   },
   "id": "ee91b3bb4ece67df",
   "execution_count": 3
  },
  {
   "cell_type": "code",
   "outputs": [
    {
     "data": {
      "text/plain": "((112, 4), (112,), (38, 4), (38,))"
     },
     "execution_count": 4,
     "metadata": {},
     "output_type": "execute_result"
    }
   ],
   "source": [
    "# (2-2) 학습/테스트 데이터셋 분리\n",
    "from sklearn.model_selection import train_test_split\n",
    "\n",
    "x_train, x_test, y_train, y_test = train_test_split(featureDF, targetSR,\n",
    "                                                    stratify=targetSR,\n",
    "                                                    random_state=41)\n",
    "x_train.shape, y_train.shape, x_test.shape, y_test.shape"
   ],
   "metadata": {
    "collapsed": false,
    "ExecuteTime": {
     "end_time": "2024-03-04T07:38:35.915641700Z",
     "start_time": "2024-03-04T07:38:35.272044200Z"
    }
   },
   "id": "8b9cfb5b809dff9b",
   "execution_count": 4
  },
  {
   "cell_type": "code",
   "outputs": [],
   "source": [
    "# (2-3) 피쳐 스케일링\n",
    "from sklearn.preprocessing import StandardScaler\n",
    "\n",
    "sdScaler = StandardScaler()\n",
    "sdScaler.fit(x_train)\n",
    "\n",
    "# 훈련용 데이터셋 스케일링\n",
    "scaled_x_train = sdScaler.transform(x_train)\n",
    "# 테스트용 데이터셋 스케일링\n",
    "scaled_x_test = sdScaler.transform(x_test)"
   ],
   "metadata": {
    "collapsed": false,
    "ExecuteTime": {
     "end_time": "2024-03-04T07:38:35.945552700Z",
     "start_time": "2024-03-04T07:38:35.923621800Z"
    }
   },
   "id": "39c182c9a6f11df",
   "execution_count": 5
  },
  {
   "cell_type": "markdown",
   "source": [
    "(3) 학습 진행 <hr>\n",
    "- 학습 방법 : 확률적 경사하강법 (SGD) 기반의 분류"
   ],
   "metadata": {
    "collapsed": false
   },
   "id": "276eadae0d7494fa"
  },
  {
   "cell_type": "code",
   "outputs": [
    {
     "name": "stdout",
     "output_type": "stream",
     "text": [
      "-- Epoch 1\n",
      "Norm: 14.42, NNZs: 4, Bias: -3.830381, T: 112, Avg. loss: 0.024669\n",
      "Total training time: 0.00 seconds.\n",
      "-- Epoch 2\n",
      "Norm: 13.11, NNZs: 4, Bias: -3.874694, T: 224, Avg. loss: 0.000051\n",
      "Total training time: 0.00 seconds.\n",
      "-- Epoch 3\n",
      "Norm: 12.03, NNZs: 4, Bias: -3.927205, T: 336, Avg. loss: 0.000068\n",
      "Total training time: 0.00 seconds.\n",
      "-- Epoch 4\n",
      "Norm: 11.12, NNZs: 4, Bias: -3.984366, T: 448, Avg. loss: 0.000090\n",
      "Total training time: 0.00 seconds.\n",
      "-- Epoch 5\n",
      "Norm: 10.36, NNZs: 4, Bias: -4.031797, T: 560, Avg. loss: 0.000129\n",
      "Total training time: 0.00 seconds.\n",
      "-- Epoch 6\n",
      "Norm: 9.73, NNZs: 4, Bias: -4.076174, T: 672, Avg. loss: 0.000170\n",
      "Total training time: 0.00 seconds.\n",
      "-- Epoch 7\n",
      "Norm: 9.18, NNZs: 4, Bias: -4.115277, T: 784, Avg. loss: 0.000197\n",
      "Total training time: 0.00 seconds.\n",
      "-- Epoch 8\n",
      "Norm: 8.71, NNZs: 4, Bias: -4.164883, T: 896, Avg. loss: 0.000237\n",
      "Total training time: 0.00 seconds.\n",
      "-- Epoch 9\n",
      "Norm: 8.33, NNZs: 4, Bias: -4.194982, T: 1008, Avg. loss: 0.000295\n",
      "Total training time: 0.00 seconds.\n",
      "Convergence after 9 epochs took 0.00 seconds\n",
      "-- Epoch 1\n",
      "Norm: 34.39, NNZs: 4, Bias: -5.729699, T: 112, Avg. loss: 7.912906\n",
      "Total training time: 0.00 seconds.\n",
      "-- Epoch 2\n",
      "Norm: 50.44, NNZs: 4, Bias: -9.211628, T: 224, Avg. loss: 5.435913\n",
      "Total training time: 0.00 seconds.\n",
      "-- Epoch 3\n",
      "Norm: 43.23, NNZs: 4, Bias: -6.414167, T: 336, Avg. loss: 5.335281\n",
      "Total training time: 0.00 seconds.\n",
      "-- Epoch 4\n",
      "Norm: 42.97, NNZs: 4, Bias: -6.717021, T: 448, Avg. loss: 5.232821\n",
      "Total training time: 0.00 seconds.\n",
      "-- Epoch 5\n",
      "Norm: 42.03, NNZs: 4, Bias: -11.542629, T: 560, Avg. loss: 4.098187\n",
      "Total training time: 0.00 seconds.\n",
      "-- Epoch 6\n",
      "Norm: 41.64, NNZs: 4, Bias: -8.239370, T: 672, Avg. loss: 3.852855\n",
      "Total training time: 0.00 seconds.\n",
      "-- Epoch 7\n",
      "Norm: 44.27, NNZs: 4, Bias: -9.891897, T: 784, Avg. loss: 3.222358\n",
      "Total training time: 0.00 seconds.\n",
      "-- Epoch 8\n",
      "Norm: 41.10, NNZs: 4, Bias: -11.464597, T: 896, Avg. loss: 3.015474\n",
      "Total training time: 0.00 seconds.\n",
      "-- Epoch 9\n",
      "Norm: 42.69, NNZs: 4, Bias: -12.895574, T: 1008, Avg. loss: 3.569776\n",
      "Total training time: 0.00 seconds.\n",
      "-- Epoch 10\n",
      "Norm: 41.80, NNZs: 4, Bias: -3.242221, T: 1120, Avg. loss: 2.651116\n",
      "Total training time: 0.00 seconds.\n",
      "-- Epoch 11\n",
      "Norm: 36.92, NNZs: 4, Bias: -13.880525, T: 1232, Avg. loss: 3.105227\n",
      "Total training time: 0.00 seconds.\n",
      "-- Epoch 12\n",
      "Norm: 39.17, NNZs: 4, Bias: -1.921991, T: 1344, Avg. loss: 2.907544\n",
      "Total training time: 0.00 seconds.\n",
      "-- Epoch 13\n",
      "Norm: 36.68, NNZs: 4, Bias: -8.906554, T: 1456, Avg. loss: 2.580389\n",
      "Total training time: 0.00 seconds.\n",
      "-- Epoch 14\n",
      "Norm: 33.13, NNZs: 4, Bias: -12.016533, T: 1568, Avg. loss: 2.519473\n",
      "Total training time: 0.00 seconds.\n",
      "-- Epoch 15\n",
      "Norm: 34.28, NNZs: 4, Bias: -7.525108, T: 1680, Avg. loss: 2.421909\n",
      "Total training time: 0.00 seconds.\n",
      "-- Epoch 16\n",
      "Norm: 30.64, NNZs: 4, Bias: -7.232552, T: 1792, Avg. loss: 2.489962\n",
      "Total training time: 0.00 seconds.\n",
      "-- Epoch 17\n",
      "Norm: 30.97, NNZs: 4, Bias: -10.564777, T: 1904, Avg. loss: 2.466381\n",
      "Total training time: 0.00 seconds.\n",
      "-- Epoch 18\n",
      "Norm: 27.28, NNZs: 4, Bias: -8.356978, T: 2016, Avg. loss: 2.107293\n",
      "Total training time: 0.00 seconds.\n",
      "-- Epoch 19\n",
      "Norm: 23.71, NNZs: 4, Bias: -6.461291, T: 2128, Avg. loss: 1.498379\n",
      "Total training time: 0.00 seconds.\n",
      "-- Epoch 20\n",
      "Norm: 25.64, NNZs: 4, Bias: -3.091225, T: 2240, Avg. loss: 1.560022\n",
      "Total training time: 0.00 seconds.\n",
      "-- Epoch 21\n",
      "Norm: 24.89, NNZs: 4, Bias: -2.051678, T: 2352, Avg. loss: 1.849304\n",
      "Total training time: 0.00 seconds.\n",
      "-- Epoch 22\n",
      "Norm: 22.57, NNZs: 4, Bias: -5.485883, T: 2464, Avg. loss: 2.004772\n",
      "Total training time: 0.00 seconds.\n",
      "-- Epoch 23\n",
      "Norm: 21.12, NNZs: 4, Bias: -8.382002, T: 2576, Avg. loss: 1.591407\n",
      "Total training time: 0.00 seconds.\n",
      "-- Epoch 24\n",
      "Norm: 21.17, NNZs: 4, Bias: -7.954309, T: 2688, Avg. loss: 1.698608\n",
      "Total training time: 0.00 seconds.\n",
      "-- Epoch 25\n",
      "Norm: 22.92, NNZs: 4, Bias: -2.564860, T: 2800, Avg. loss: 1.482144\n",
      "Total training time: 0.00 seconds.\n",
      "-- Epoch 26\n",
      "Norm: 22.27, NNZs: 4, Bias: -4.110121, T: 2912, Avg. loss: 1.402337\n",
      "Total training time: 0.00 seconds.\n",
      "-- Epoch 27\n",
      "Norm: 19.86, NNZs: 4, Bias: -5.102872, T: 3024, Avg. loss: 1.739950\n",
      "Total training time: 0.00 seconds.\n",
      "-- Epoch 28\n",
      "Norm: 21.95, NNZs: 4, Bias: -6.544091, T: 3136, Avg. loss: 1.281690\n",
      "Total training time: 0.00 seconds.\n",
      "-- Epoch 29\n",
      "Norm: 22.10, NNZs: 4, Bias: -4.551265, T: 3248, Avg. loss: 1.525706\n",
      "Total training time: 0.00 seconds.\n",
      "-- Epoch 30\n",
      "Norm: 20.19, NNZs: 4, Bias: -3.098670, T: 3360, Avg. loss: 1.732520\n",
      "Total training time: 0.00 seconds.\n",
      "-- Epoch 31\n",
      "Norm: 21.56, NNZs: 4, Bias: -1.986640, T: 3472, Avg. loss: 1.187195\n",
      "Total training time: 0.00 seconds.\n",
      "-- Epoch 32\n",
      "Norm: 19.75, NNZs: 4, Bias: -4.248475, T: 3584, Avg. loss: 1.597928\n",
      "Total training time: 0.00 seconds.\n",
      "-- Epoch 33\n",
      "Norm: 19.12, NNZs: 4, Bias: -6.006874, T: 3696, Avg. loss: 1.301088\n",
      "Total training time: 0.00 seconds.\n",
      "-- Epoch 34\n",
      "Norm: 19.31, NNZs: 4, Bias: -4.876093, T: 3808, Avg. loss: 1.095004\n",
      "Total training time: 0.00 seconds.\n",
      "-- Epoch 35\n",
      "Norm: 18.50, NNZs: 4, Bias: -4.421775, T: 3920, Avg. loss: 1.470749\n",
      "Total training time: 0.00 seconds.\n",
      "-- Epoch 36\n",
      "Norm: 17.76, NNZs: 4, Bias: -3.321481, T: 4032, Avg. loss: 1.131884\n",
      "Total training time: 0.00 seconds.\n",
      "-- Epoch 37\n",
      "Norm: 17.24, NNZs: 4, Bias: -0.325328, T: 4144, Avg. loss: 1.398086\n",
      "Total training time: 0.00 seconds.\n",
      "-- Epoch 38\n",
      "Norm: 16.02, NNZs: 4, Bias: 0.029460, T: 4256, Avg. loss: 1.219532\n",
      "Total training time: 0.00 seconds.\n",
      "-- Epoch 39\n",
      "Norm: 17.03, NNZs: 4, Bias: -2.646741, T: 4368, Avg. loss: 1.085982\n",
      "Total training time: 0.00 seconds.\n",
      "-- Epoch 40\n",
      "Norm: 17.21, NNZs: 4, Bias: -0.786600, T: 4480, Avg. loss: 1.128034\n",
      "Total training time: 0.00 seconds.\n",
      "-- Epoch 41\n",
      "Norm: 17.41, NNZs: 4, Bias: -2.553460, T: 4592, Avg. loss: 1.153192\n",
      "Total training time: 0.00 seconds.\n",
      "-- Epoch 42\n",
      "Norm: 17.60, NNZs: 4, Bias: -5.095097, T: 4704, Avg. loss: 0.955731\n",
      "Total training time: 0.00 seconds.\n",
      "-- Epoch 43\n",
      "Norm: 17.79, NNZs: 4, Bias: 0.229591, T: 4816, Avg. loss: 1.007186\n",
      "Total training time: 0.00 seconds.\n",
      "-- Epoch 44\n",
      "Norm: 17.32, NNZs: 4, Bias: -4.976562, T: 4928, Avg. loss: 0.895760\n",
      "Total training time: 0.00 seconds.\n",
      "-- Epoch 45\n",
      "Norm: 17.69, NNZs: 4, Bias: -4.707080, T: 5040, Avg. loss: 1.030110\n",
      "Total training time: 0.00 seconds.\n",
      "-- Epoch 46\n",
      "Norm: 17.23, NNZs: 4, Bias: -4.611475, T: 5152, Avg. loss: 1.067113\n",
      "Total training time: 0.00 seconds.\n",
      "-- Epoch 47\n",
      "Norm: 17.18, NNZs: 4, Bias: -1.835396, T: 5264, Avg. loss: 0.899408\n",
      "Total training time: 0.00 seconds.\n",
      "-- Epoch 48\n",
      "Norm: 15.97, NNZs: 4, Bias: -0.311158, T: 5376, Avg. loss: 1.152635\n",
      "Total training time: 0.00 seconds.\n",
      "-- Epoch 49\n",
      "Norm: 16.41, NNZs: 4, Bias: 0.019206, T: 5488, Avg. loss: 0.916871\n",
      "Total training time: 0.00 seconds.\n",
      "-- Epoch 50\n",
      "Norm: 15.63, NNZs: 4, Bias: -3.634920, T: 5600, Avg. loss: 1.126775\n",
      "Total training time: 0.00 seconds.\n",
      "-- Epoch 51\n",
      "Norm: 15.45, NNZs: 4, Bias: -3.326219, T: 5712, Avg. loss: 1.057123\n",
      "Total training time: 0.00 seconds.\n",
      "Convergence after 51 epochs took 0.00 seconds\n",
      "-- Epoch 1\n",
      "Norm: 37.38, NNZs: 4, Bias: -30.166640, T: 112, Avg. loss: 0.914293\n",
      "Total training time: 0.00 seconds.\n",
      "-- Epoch 2\n",
      "Norm: 45.15, NNZs: 4, Bias: -30.700862, T: 224, Avg. loss: 0.178349\n",
      "Total training time: 0.00 seconds.\n",
      "-- Epoch 3\n",
      "Norm: 41.13, NNZs: 4, Bias: -35.436091, T: 336, Avg. loss: 0.591924\n",
      "Total training time: 0.00 seconds.\n",
      "-- Epoch 4\n",
      "Norm: 39.20, NNZs: 4, Bias: -40.840337, T: 448, Avg. loss: 0.471766\n",
      "Total training time: 0.00 seconds.\n",
      "-- Epoch 5\n",
      "Norm: 43.71, NNZs: 4, Bias: -33.722179, T: 560, Avg. loss: 0.357166\n",
      "Total training time: 0.00 seconds.\n",
      "-- Epoch 6\n",
      "Norm: 43.27, NNZs: 4, Bias: -32.330790, T: 672, Avg. loss: 0.208773\n",
      "Total training time: 0.00 seconds.\n",
      "-- Epoch 7\n",
      "Norm: 45.77, NNZs: 4, Bias: -32.695009, T: 784, Avg. loss: 0.253954\n",
      "Total training time: 0.00 seconds.\n",
      "-- Epoch 8\n",
      "Norm: 44.22, NNZs: 4, Bias: -31.632530, T: 896, Avg. loss: 0.212030\n",
      "Total training time: 0.00 seconds.\n",
      "-- Epoch 9\n",
      "Norm: 44.39, NNZs: 4, Bias: -30.974925, T: 1008, Avg. loss: 0.189457\n",
      "Total training time: 0.00 seconds.\n",
      "Convergence after 9 epochs took 0.00 seconds\n"
     ]
    },
    {
     "name": "stderr",
     "output_type": "stream",
     "text": [
      "[Parallel(n_jobs=1)]: Using backend SequentialBackend with 1 concurrent workers.\n",
      "[Parallel(n_jobs=1)]: Done   3 out of   3 | elapsed:    0.0s finished\n"
     ]
    },
    {
     "data": {
      "text/plain": "SGDClassifier(loss='log_loss', n_iter_no_change=7, random_state=41,\n              verbose=True)",
      "text/html": "<style>#sk-container-id-7 {color: black;}#sk-container-id-7 pre{padding: 0;}#sk-container-id-7 div.sk-toggleable {background-color: white;}#sk-container-id-7 label.sk-toggleable__label {cursor: pointer;display: block;width: 100%;margin-bottom: 0;padding: 0.3em;box-sizing: border-box;text-align: center;}#sk-container-id-7 label.sk-toggleable__label-arrow:before {content: \"▸\";float: left;margin-right: 0.25em;color: #696969;}#sk-container-id-7 label.sk-toggleable__label-arrow:hover:before {color: black;}#sk-container-id-7 div.sk-estimator:hover label.sk-toggleable__label-arrow:before {color: black;}#sk-container-id-7 div.sk-toggleable__content {max-height: 0;max-width: 0;overflow: hidden;text-align: left;background-color: #f0f8ff;}#sk-container-id-7 div.sk-toggleable__content pre {margin: 0.2em;color: black;border-radius: 0.25em;background-color: #f0f8ff;}#sk-container-id-7 input.sk-toggleable__control:checked~div.sk-toggleable__content {max-height: 200px;max-width: 100%;overflow: auto;}#sk-container-id-7 input.sk-toggleable__control:checked~label.sk-toggleable__label-arrow:before {content: \"▾\";}#sk-container-id-7 div.sk-estimator input.sk-toggleable__control:checked~label.sk-toggleable__label {background-color: #d4ebff;}#sk-container-id-7 div.sk-label input.sk-toggleable__control:checked~label.sk-toggleable__label {background-color: #d4ebff;}#sk-container-id-7 input.sk-hidden--visually {border: 0;clip: rect(1px 1px 1px 1px);clip: rect(1px, 1px, 1px, 1px);height: 1px;margin: -1px;overflow: hidden;padding: 0;position: absolute;width: 1px;}#sk-container-id-7 div.sk-estimator {font-family: monospace;background-color: #f0f8ff;border: 1px dotted black;border-radius: 0.25em;box-sizing: border-box;margin-bottom: 0.5em;}#sk-container-id-7 div.sk-estimator:hover {background-color: #d4ebff;}#sk-container-id-7 div.sk-parallel-item::after {content: \"\";width: 100%;border-bottom: 1px solid gray;flex-grow: 1;}#sk-container-id-7 div.sk-label:hover label.sk-toggleable__label {background-color: #d4ebff;}#sk-container-id-7 div.sk-serial::before {content: \"\";position: absolute;border-left: 1px solid gray;box-sizing: border-box;top: 0;bottom: 0;left: 50%;z-index: 0;}#sk-container-id-7 div.sk-serial {display: flex;flex-direction: column;align-items: center;background-color: white;padding-right: 0.2em;padding-left: 0.2em;position: relative;}#sk-container-id-7 div.sk-item {position: relative;z-index: 1;}#sk-container-id-7 div.sk-parallel {display: flex;align-items: stretch;justify-content: center;background-color: white;position: relative;}#sk-container-id-7 div.sk-item::before, #sk-container-id-7 div.sk-parallel-item::before {content: \"\";position: absolute;border-left: 1px solid gray;box-sizing: border-box;top: 0;bottom: 0;left: 50%;z-index: -1;}#sk-container-id-7 div.sk-parallel-item {display: flex;flex-direction: column;z-index: 1;position: relative;background-color: white;}#sk-container-id-7 div.sk-parallel-item:first-child::after {align-self: flex-end;width: 50%;}#sk-container-id-7 div.sk-parallel-item:last-child::after {align-self: flex-start;width: 50%;}#sk-container-id-7 div.sk-parallel-item:only-child::after {width: 0;}#sk-container-id-7 div.sk-dashed-wrapped {border: 1px dashed gray;margin: 0 0.4em 0.5em 0.4em;box-sizing: border-box;padding-bottom: 0.4em;background-color: white;}#sk-container-id-7 div.sk-label label {font-family: monospace;font-weight: bold;display: inline-block;line-height: 1.2em;}#sk-container-id-7 div.sk-label-container {text-align: center;}#sk-container-id-7 div.sk-container {/* jupyter's `normalize.less` sets `[hidden] { display: none; }` but bootstrap.min.css set `[hidden] { display: none !important; }` so we also need the `!important` here to be able to override the default hidden behavior on the sphinx rendered scikit-learn.org. See: https://github.com/scikit-learn/scikit-learn/issues/21755 */display: inline-block !important;position: relative;}#sk-container-id-7 div.sk-text-repr-fallback {display: none;}</style><div id=\"sk-container-id-7\" class=\"sk-top-container\"><div class=\"sk-text-repr-fallback\"><pre>SGDClassifier(loss=&#x27;log_loss&#x27;, n_iter_no_change=7, random_state=41,\n              verbose=True)</pre><b>In a Jupyter environment, please rerun this cell to show the HTML representation or trust the notebook. <br />On GitHub, the HTML representation is unable to render, please try loading this page with nbviewer.org.</b></div><div class=\"sk-container\" hidden><div class=\"sk-item\"><div class=\"sk-estimator sk-toggleable\"><input class=\"sk-toggleable__control sk-hidden--visually\" id=\"sk-estimator-id-7\" type=\"checkbox\" checked><label for=\"sk-estimator-id-7\" class=\"sk-toggleable__label sk-toggleable__label-arrow\">SGDClassifier</label><div class=\"sk-toggleable__content\"><pre>SGDClassifier(loss=&#x27;log_loss&#x27;, n_iter_no_change=7, random_state=41,\n              verbose=True)</pre></div></div></div></div></div>"
     },
     "execution_count": 27,
     "metadata": {},
     "output_type": "execute_result"
    }
   ],
   "source": [
    "# 모델 인스턴스 생성\n",
    "from sklearn.linear_model import SGDRegressor, SGDClassifier\n",
    "\n",
    "# penalty 파라미터 : 과대적합 방지, 가중치 규제 방식\n",
    "# alpha   파라미터 : penalty 적용 강도 설정 (값이 커질수록 규제도 강함)\n",
    "model1 = SGDClassifier(random_state=41, verbose=True, loss='log_loss', n_iter_no_change=7, alpha=0.0001)\n",
    "model1.fit(scaled_x_train, y_train)"
   ],
   "metadata": {
    "collapsed": false,
    "ExecuteTime": {
     "end_time": "2024-03-04T07:51:23.099145700Z",
     "start_time": "2024-03-04T07:51:23.069246300Z"
    }
   },
   "id": "1920e3615cb8cb58",
   "execution_count": 27
  },
  {
   "cell_type": "code",
   "outputs": [],
   "source": [
    "train_score1 = model1.score(scaled_x_train, y_train)\n",
    "test_score1 = model1.score(scaled_x_test, y_test)"
   ],
   "metadata": {
    "collapsed": false,
    "ExecuteTime": {
     "end_time": "2024-03-04T07:51:23.490487800Z",
     "start_time": "2024-03-04T07:51:23.460084700Z"
    }
   },
   "id": "a1087d6c63e26b9a",
   "execution_count": 28
  },
  {
   "cell_type": "code",
   "outputs": [
    {
     "data": {
      "text/plain": "(0.9642857142857143, 0.9736842105263158)"
     },
     "execution_count": 29,
     "metadata": {},
     "output_type": "execute_result"
    }
   ],
   "source": [
    "train_score1, test_score1"
   ],
   "metadata": {
    "collapsed": false,
    "ExecuteTime": {
     "end_time": "2024-03-04T07:51:23.927278500Z",
     "start_time": "2024-03-04T07:51:23.906222100Z"
    }
   },
   "id": "54b262e1f1fc4464",
   "execution_count": 29
  },
  {
   "cell_type": "code",
   "outputs": [
    {
     "name": "stdout",
     "output_type": "stream",
     "text": [
      "n_iter_ : 51\n"
     ]
    }
   ],
   "source": [
    "# 학습 후 설정된 파라미터 즉 모델 파라미터\n",
    "print(f'n_iter_ : {model1.n_iter_}')"
   ],
   "metadata": {
    "collapsed": false,
    "ExecuteTime": {
     "end_time": "2024-03-04T07:38:36.049489800Z",
     "start_time": "2024-03-04T07:38:36.026565800Z"
    }
   },
   "id": "a028d4dcde7cded1",
   "execution_count": 9
  },
  {
   "cell_type": "code",
   "outputs": [
    {
     "data": {
      "text/plain": "SGDClassifier(loss='log_loss')",
      "text/html": "<style>#sk-container-id-2 {color: black;}#sk-container-id-2 pre{padding: 0;}#sk-container-id-2 div.sk-toggleable {background-color: white;}#sk-container-id-2 label.sk-toggleable__label {cursor: pointer;display: block;width: 100%;margin-bottom: 0;padding: 0.3em;box-sizing: border-box;text-align: center;}#sk-container-id-2 label.sk-toggleable__label-arrow:before {content: \"▸\";float: left;margin-right: 0.25em;color: #696969;}#sk-container-id-2 label.sk-toggleable__label-arrow:hover:before {color: black;}#sk-container-id-2 div.sk-estimator:hover label.sk-toggleable__label-arrow:before {color: black;}#sk-container-id-2 div.sk-toggleable__content {max-height: 0;max-width: 0;overflow: hidden;text-align: left;background-color: #f0f8ff;}#sk-container-id-2 div.sk-toggleable__content pre {margin: 0.2em;color: black;border-radius: 0.25em;background-color: #f0f8ff;}#sk-container-id-2 input.sk-toggleable__control:checked~div.sk-toggleable__content {max-height: 200px;max-width: 100%;overflow: auto;}#sk-container-id-2 input.sk-toggleable__control:checked~label.sk-toggleable__label-arrow:before {content: \"▾\";}#sk-container-id-2 div.sk-estimator input.sk-toggleable__control:checked~label.sk-toggleable__label {background-color: #d4ebff;}#sk-container-id-2 div.sk-label input.sk-toggleable__control:checked~label.sk-toggleable__label {background-color: #d4ebff;}#sk-container-id-2 input.sk-hidden--visually {border: 0;clip: rect(1px 1px 1px 1px);clip: rect(1px, 1px, 1px, 1px);height: 1px;margin: -1px;overflow: hidden;padding: 0;position: absolute;width: 1px;}#sk-container-id-2 div.sk-estimator {font-family: monospace;background-color: #f0f8ff;border: 1px dotted black;border-radius: 0.25em;box-sizing: border-box;margin-bottom: 0.5em;}#sk-container-id-2 div.sk-estimator:hover {background-color: #d4ebff;}#sk-container-id-2 div.sk-parallel-item::after {content: \"\";width: 100%;border-bottom: 1px solid gray;flex-grow: 1;}#sk-container-id-2 div.sk-label:hover label.sk-toggleable__label {background-color: #d4ebff;}#sk-container-id-2 div.sk-serial::before {content: \"\";position: absolute;border-left: 1px solid gray;box-sizing: border-box;top: 0;bottom: 0;left: 50%;z-index: 0;}#sk-container-id-2 div.sk-serial {display: flex;flex-direction: column;align-items: center;background-color: white;padding-right: 0.2em;padding-left: 0.2em;position: relative;}#sk-container-id-2 div.sk-item {position: relative;z-index: 1;}#sk-container-id-2 div.sk-parallel {display: flex;align-items: stretch;justify-content: center;background-color: white;position: relative;}#sk-container-id-2 div.sk-item::before, #sk-container-id-2 div.sk-parallel-item::before {content: \"\";position: absolute;border-left: 1px solid gray;box-sizing: border-box;top: 0;bottom: 0;left: 50%;z-index: -1;}#sk-container-id-2 div.sk-parallel-item {display: flex;flex-direction: column;z-index: 1;position: relative;background-color: white;}#sk-container-id-2 div.sk-parallel-item:first-child::after {align-self: flex-end;width: 50%;}#sk-container-id-2 div.sk-parallel-item:last-child::after {align-self: flex-start;width: 50%;}#sk-container-id-2 div.sk-parallel-item:only-child::after {width: 0;}#sk-container-id-2 div.sk-dashed-wrapped {border: 1px dashed gray;margin: 0 0.4em 0.5em 0.4em;box-sizing: border-box;padding-bottom: 0.4em;background-color: white;}#sk-container-id-2 div.sk-label label {font-family: monospace;font-weight: bold;display: inline-block;line-height: 1.2em;}#sk-container-id-2 div.sk-label-container {text-align: center;}#sk-container-id-2 div.sk-container {/* jupyter's `normalize.less` sets `[hidden] { display: none; }` but bootstrap.min.css set `[hidden] { display: none !important; }` so we also need the `!important` here to be able to override the default hidden behavior on the sphinx rendered scikit-learn.org. See: https://github.com/scikit-learn/scikit-learn/issues/21755 */display: inline-block !important;position: relative;}#sk-container-id-2 div.sk-text-repr-fallback {display: none;}</style><div id=\"sk-container-id-2\" class=\"sk-top-container\"><div class=\"sk-text-repr-fallback\"><pre>SGDClassifier(loss=&#x27;log_loss&#x27;)</pre><b>In a Jupyter environment, please rerun this cell to show the HTML representation or trust the notebook. <br />On GitHub, the HTML representation is unable to render, please try loading this page with nbviewer.org.</b></div><div class=\"sk-container\" hidden><div class=\"sk-item\"><div class=\"sk-estimator sk-toggleable\"><input class=\"sk-toggleable__control sk-hidden--visually\" id=\"sk-estimator-id-2\" type=\"checkbox\" checked><label for=\"sk-estimator-id-2\" class=\"sk-toggleable__label sk-toggleable__label-arrow\">SGDClassifier</label><div class=\"sk-toggleable__content\"><pre>SGDClassifier(loss=&#x27;log_loss&#x27;)</pre></div></div></div></div></div>"
     },
     "execution_count": 10,
     "metadata": {},
     "output_type": "execute_result"
    }
   ],
   "source": [
    "## 1에포크씩 점진적으로 학습 진행 => partial_fit()\n",
    "model2 = SGDClassifier(loss='log_loss')\n",
    "model2.partial_fit(scaled_x_train, y_train, y_train.unique())"
   ],
   "metadata": {
    "collapsed": false,
    "ExecuteTime": {
     "end_time": "2024-03-04T07:38:36.083377200Z",
     "start_time": "2024-03-04T07:38:36.044507700Z"
    }
   },
   "id": "436f0aa123596686",
   "execution_count": 10
  },
  {
   "cell_type": "code",
   "outputs": [],
   "source": [
    "train_score2 = model2.score(scaled_x_train, y_train)\n",
    "test_score2 = model2.score(scaled_x_test, y_test)"
   ],
   "metadata": {
    "collapsed": false,
    "ExecuteTime": {
     "end_time": "2024-03-04T07:38:36.083377200Z",
     "start_time": "2024-03-04T07:38:36.058461200Z"
    }
   },
   "id": "abfa1cca1d0ac0bc",
   "execution_count": 11
  },
  {
   "cell_type": "code",
   "outputs": [
    {
     "data": {
      "text/plain": "(0.8571428571428571, 0.868421052631579)"
     },
     "execution_count": 12,
     "metadata": {},
     "output_type": "execute_result"
    }
   ],
   "source": [
    "train_score2, test_score2"
   ],
   "metadata": {
    "collapsed": false,
    "ExecuteTime": {
     "end_time": "2024-03-04T07:38:36.120253700Z",
     "start_time": "2024-03-04T07:38:36.073410300Z"
    }
   },
   "id": "737472ba39270efa",
   "execution_count": 12
  },
  {
   "cell_type": "code",
   "outputs": [],
   "source": [
    "train_score, test_score = [], []\n",
    "for n in range(100):\n",
    "    model2.partial_fit(scaled_x_train, y_train, y_train.unique())   # 누적학습\n",
    "    train_score2 = model2.score(scaled_x_train, y_train)\n",
    "    test_score2 = model2.score(scaled_x_test, y_test)\n",
    "    \n",
    "    # print(f'[{n}번 학습] [기본 SGD] 학습 점수 : {train_score2:.4f}, 테스트 점수 : {test_score2:.4f}')\n",
    "    train_score.append(train_score2)\n",
    "    test_score.append(test_score2)\n",
    "    \n",
    "    # if abs(test_score2 - train_score2) >= 0.03:\n",
    "    #     break"
   ],
   "metadata": {
    "collapsed": false,
    "ExecuteTime": {
     "end_time": "2024-03-04T07:38:36.324569100Z",
     "start_time": "2024-03-04T07:38:36.090353100Z"
    }
   },
   "id": "6a4a7c67574fa91e",
   "execution_count": 13
  },
  {
   "cell_type": "code",
   "outputs": [
    {
     "data": {
      "text/plain": "<Figure size 640x480 with 1 Axes>",
      "image/png": "[encoded data removed]"
     },
     "metadata": {},
     "output_type": "display_data"
    }
   ],
   "source": [
    "# 시각화\n",
    "import matplotlib.pyplot as plt\n",
    "\n",
    "plt.plot(train_score, 'b-', label='train')\n",
    "plt.plot(test_score, 'r-', label='test')\n",
    "plt.legend()\n",
    "plt.show()"
   ],
   "metadata": {
    "collapsed": false,
    "ExecuteTime": {
     "end_time": "2024-03-04T07:38:36.816614100Z",
     "start_time": "2024-03-04T07:38:36.329913Z"
    }
   },
   "id": "11bf6bc70627d25f",
   "execution_count": 14
  },
  {
   "cell_type": "code",
   "outputs": [],
   "source": [],
   "metadata": {
    "collapsed": false,
    "ExecuteTime": {
     "end_time": "2024-03-04T07:38:36.856879200Z",
     "start_time": "2024-03-04T07:38:36.832860300Z"
    }
   },
   "id": "be6e33ee4d4c45bc",
   "execution_count": 14
  }
 ],
 "metadata": {
  "kernelspec": {
   "display_name": "Python 3",
   "language": "python",
   "name": "python3"
  },
  "language_info": {
   "codemirror_mode": {
    "name": "ipython",
    "version": 2
   },
   "file_extension": ".py",
   "mimetype": "text/x-python",
   "name": "python",
   "nbconvert_exporter": "python",
   "pygments_lexer": "ipython2",
   "version": "2.7.6"
  }
 },
 "nbformat": 4,
 "nbformat_minor": 5
}
