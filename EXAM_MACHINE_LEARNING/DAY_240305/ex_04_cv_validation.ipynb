{
 "cells": [
  {
   "cell_type": "markdown",
   "source": [
    "### 교차 검증 단순화\n",
    "- scikit-learn.model_selection 모듈 내에 모델 검증관련 기능 활용\n",
    "- 교차 검증 데이터 기반 검증 결과 처리"
   ],
   "metadata": {
    "collapsed": false
   },
   "id": "fb4c10535c1422a2"
  },
  {
   "cell_type": "markdown",
   "source": [
    "(1) 모듈 로딩 및 데이터 준비 <hr>"
   ],
   "metadata": {
    "collapsed": false
   },
   "id": "2bde9662593d894a"
  },
  {
   "cell_type": "code",
   "outputs": [],
   "source": [
    "import pandas as pd\n",
    "\n",
    "# 생선 데이터 준비\n",
    "fishDF = pd.read_csv('../DATA/fish.csv')\n",
    "\n",
    "# 붓꽃 데이터 준비\n",
    "irisDF = pd.read_csv('../DATA/iris.csv')"
   ],
   "metadata": {
    "collapsed": false,
    "ExecuteTime": {
     "end_time": "2024-03-05T07:48:10.431347400Z",
     "start_time": "2024-03-05T07:48:09.988887Z"
    }
   },
   "id": "8b37770e06f944a9",
   "execution_count": 1
  },
  {
   "cell_type": "code",
   "outputs": [
    {
     "data": {
      "text/plain": "  Species  Weight  Length  Diagonal   Height   Width\n0   Bream   242.0    25.4      30.0  11.5200  4.0200\n1   Bream   290.0    26.3      31.2  12.4800  4.3056\n2   Bream   340.0    26.5      31.1  12.3778  4.6961",
      "text/html": "<div>\n<style scoped>\n    .dataframe tbody tr th:only-of-type {\n        vertical-align: middle;\n    }\n\n    .dataframe tbody tr th {\n        vertical-align: top;\n    }\n\n    .dataframe thead th {\n        text-align: right;\n    }\n</style>\n<table border=\"1\" class=\"dataframe\">\n  <thead>\n    <tr style=\"text-align: right;\">\n      <th></th>\n      <th>Species</th>\n      <th>Weight</th>\n      <th>Length</th>\n      <th>Diagonal</th>\n      <th>Height</th>\n      <th>Width</th>\n    </tr>\n  </thead>\n  <tbody>\n    <tr>\n      <th>0</th>\n      <td>Bream</td>\n      <td>242.0</td>\n      <td>25.4</td>\n      <td>30.0</td>\n      <td>11.5200</td>\n      <td>4.0200</td>\n    </tr>\n    <tr>\n      <th>1</th>\n      <td>Bream</td>\n      <td>290.0</td>\n      <td>26.3</td>\n      <td>31.2</td>\n      <td>12.4800</td>\n      <td>4.3056</td>\n    </tr>\n    <tr>\n      <th>2</th>\n      <td>Bream</td>\n      <td>340.0</td>\n      <td>26.5</td>\n      <td>31.1</td>\n      <td>12.3778</td>\n      <td>4.6961</td>\n    </tr>\n  </tbody>\n</table>\n</div>"
     },
     "execution_count": 2,
     "metadata": {},
     "output_type": "execute_result"
    }
   ],
   "source": [
    "fishDF.head(3)"
   ],
   "metadata": {
    "collapsed": false,
    "ExecuteTime": {
     "end_time": "2024-03-05T07:48:10.466199300Z",
     "start_time": "2024-03-05T07:48:10.435525700Z"
    }
   },
   "id": "30b79ca81946595a",
   "execution_count": 2
  },
  {
   "cell_type": "code",
   "outputs": [
    {
     "data": {
      "text/plain": "   sepal_length  sepal_width  petal_length  petal_width species\n0           5.1          3.5           1.4          0.2  setosa\n1           4.9          3.0           1.4          0.2  setosa\n2           4.7          3.2           1.3          0.2  setosa",
      "text/html": "<div>\n<style scoped>\n    .dataframe tbody tr th:only-of-type {\n        vertical-align: middle;\n    }\n\n    .dataframe tbody tr th {\n        vertical-align: top;\n    }\n\n    .dataframe thead th {\n        text-align: right;\n    }\n</style>\n<table border=\"1\" class=\"dataframe\">\n  <thead>\n    <tr style=\"text-align: right;\">\n      <th></th>\n      <th>sepal_length</th>\n      <th>sepal_width</th>\n      <th>petal_length</th>\n      <th>petal_width</th>\n      <th>species</th>\n    </tr>\n  </thead>\n  <tbody>\n    <tr>\n      <th>0</th>\n      <td>5.1</td>\n      <td>3.5</td>\n      <td>1.4</td>\n      <td>0.2</td>\n      <td>setosa</td>\n    </tr>\n    <tr>\n      <th>1</th>\n      <td>4.9</td>\n      <td>3.0</td>\n      <td>1.4</td>\n      <td>0.2</td>\n      <td>setosa</td>\n    </tr>\n    <tr>\n      <th>2</th>\n      <td>4.7</td>\n      <td>3.2</td>\n      <td>1.3</td>\n      <td>0.2</td>\n      <td>setosa</td>\n    </tr>\n  </tbody>\n</table>\n</div>"
     },
     "execution_count": 3,
     "metadata": {},
     "output_type": "execute_result"
    }
   ],
   "source": [
    "irisDF.head(3)"
   ],
   "metadata": {
    "collapsed": false,
    "ExecuteTime": {
     "end_time": "2024-03-05T07:48:10.521721800Z",
     "start_time": "2024-03-05T07:48:10.464132200Z"
    }
   },
   "id": "73e9e807dd147cdf",
   "execution_count": 3
  },
  {
   "cell_type": "markdown",
   "source": [
    "(2) 데이터 준비 => 피쳐 / 타겟 분리 <hr>"
   ],
   "metadata": {
    "collapsed": false
   },
   "id": "e27a19b91b05bcf0"
  },
  {
   "cell_type": "code",
   "outputs": [
    {
     "data": {
      "text/plain": "(0    242.0\n 1    290.0\n Name: Weight, dtype: float64,\n    Length  Diagonal  Height   Width\n 0    25.4      30.0   11.52  4.0200\n 1    26.3      31.2   12.48  4.3056)"
     },
     "execution_count": 4,
     "metadata": {},
     "output_type": "execute_result"
    }
   ],
   "source": [
    "# 타겟 : Weight, 피쳐 : Length, Diagonal, Height, Width\n",
    "fish_targetSR = fishDF[fishDF.columns[1]]\n",
    "fish_featureDF = fishDF[fishDF.columns[2:]]\n",
    "\n",
    "fish_targetSR.head(2), fish_featureDF.head(2)"
   ],
   "metadata": {
    "collapsed": false,
    "ExecuteTime": {
     "end_time": "2024-03-05T07:48:10.571463300Z",
     "start_time": "2024-03-05T07:48:10.484436900Z"
    }
   },
   "id": "13700eb982a20693",
   "execution_count": 4
  },
  {
   "cell_type": "code",
   "outputs": [
    {
     "data": {
      "text/plain": "(0    setosa\n 1    setosa\n Name: species, dtype: object,\n    sepal_length  sepal_width  petal_length  petal_width\n 0           5.1          3.5           1.4          0.2\n 1           4.9          3.0           1.4          0.2)"
     },
     "execution_count": 5,
     "metadata": {},
     "output_type": "execute_result"
    }
   ],
   "source": [
    "# 타겟 : species, 피쳐 : sepal_length, sepal_width, petal_length, petal_width\n",
    "iris_targetSR = irisDF['species']\n",
    "iris_featureDF = irisDF[irisDF.columns[:-1]]\n",
    "\n",
    "iris_targetSR.head(2), iris_featureDF.head(2)"
   ],
   "metadata": {
    "collapsed": false,
    "ExecuteTime": {
     "end_time": "2024-03-05T07:48:10.572462600Z",
     "start_time": "2024-03-05T07:48:10.496594100Z"
    }
   },
   "id": "ca68897c0a864fa6",
   "execution_count": 5
  },
  {
   "cell_type": "code",
   "outputs": [],
   "source": [
    "# 학습용, 테스트용 데이터 분리\n",
    "from sklearn.model_selection import train_test_split\n",
    "\n",
    "# 생선 데이터\n",
    "fish_x_train, fish_x_test, fish_y_train, fish_y_test = train_test_split(fish_featureDF, fish_targetSR, \n",
    "                                                                        test_size=0.2, random_state=5)\n",
    "\n",
    "# 붗꽃 데이터\n",
    "iris_x_train, iris_x_test, iris_y_train, iris_y_test = train_test_split(iris_featureDF, iris_targetSR, \n",
    "                                                                        test_size=0.2, random_state=5, stratify=iris_targetSR)"
   ],
   "metadata": {
    "collapsed": false,
    "ExecuteTime": {
     "end_time": "2024-03-05T07:48:11.209350900Z",
     "start_time": "2024-03-05T07:48:10.512920600Z"
    }
   },
   "id": "6d4d26f66edb455c",
   "execution_count": 6
  },
  {
   "cell_type": "markdown",
   "source": [
    "(3) 데이터 전처리 <hr>\n",
    "- 피쳐 스케일링"
   ],
   "metadata": {
    "collapsed": false
   },
   "id": "91a98cfb92aa31bf"
  },
  {
   "cell_type": "code",
   "outputs": [],
   "source": [
    "from sklearn.preprocessing import StandardScaler\n",
    "\n",
    "# 생선 데이터셋 피쳐 스케일링\n",
    "fish_scaler = StandardScaler()\n",
    "fish_scaler.fit(fish_x_train)\n",
    "\n",
    "scaled_fish_x_train = fish_scaler.transform(fish_x_train)\n",
    "scaled_fish_x_test = fish_scaler.transform(fish_x_test)\n",
    "\n",
    "# 붓꽃 데이터셋 피쳐 스케일링\n",
    "iris_scaler = StandardScaler()\n",
    "iris_scaler.fit(iris_x_train)\n",
    "\n",
    "scaled_iris_x_train = iris_scaler.transform(iris_x_train)\n",
    "scaled_iris_x_test = iris_scaler.transform(iris_x_test)"
   ],
   "metadata": {
    "collapsed": false,
    "ExecuteTime": {
     "end_time": "2024-03-05T07:49:55.336193900Z",
     "start_time": "2024-03-05T07:49:55.312274Z"
    }
   },
   "id": "b47c25b5a01dce5",
   "execution_count": 11
  },
  {
   "cell_type": "markdown",
   "source": [
    "(4) 학습 <hr>"
   ],
   "metadata": {
    "collapsed": false
   },
   "id": "83b7b5b3a1b6488"
  },
  {
   "cell_type": "markdown",
   "source": [
    "(4-1) 생선 무게 예측 모델 (회귀)"
   ],
   "metadata": {
    "collapsed": false
   },
   "id": "5e32170448c06f74"
  },
  {
   "cell_type": "code",
   "outputs": [],
   "source": [
    "# 모듈 로딩\n",
    "from sklearn.linear_model import LinearRegression, Ridge, Lasso\n",
    "from sklearn.model_selection import cross_validate, cross_val_score, cross_val_predict"
   ],
   "metadata": {
    "collapsed": false,
    "ExecuteTime": {
     "end_time": "2024-03-05T07:52:20.334062Z",
     "start_time": "2024-03-05T07:52:20.321382500Z"
    }
   },
   "id": "ce20aacb33aa932b",
   "execution_count": 13
  },
  {
   "cell_type": "code",
   "outputs": [],
   "source": [
    "# 교차 검증으로 학습 진행\n",
    "# => 준비 : 모델 인스턴스, 학습용 피쳐 데이터, 학습용 라벨 데이터\n",
    "lr_model = LinearRegression()"
   ],
   "metadata": {
    "collapsed": false,
    "ExecuteTime": {
     "end_time": "2024-03-05T07:53:03.658261800Z",
     "start_time": "2024-03-05T07:53:03.645594800Z"
    }
   },
   "id": "2c7b658ce66995a1",
   "execution_count": 14
  },
  {
   "cell_type": "code",
   "outputs": [
    {
     "name": "stdout",
     "output_type": "stream",
     "text": [
      "{'fit_time': array([9.99212265e-04, 1.08361244e-03, 1.99437141e-03, 9.98258591e-04,\n",
      "       7.20024109e-05]), 'score_time': array([0.00206709, 0.00133729, 0.00111938, 0.0009973 , 0.00099444]), 'estimator': [LinearRegression(), LinearRegression(), LinearRegression(), LinearRegression(), LinearRegression()], 'test_r2': array([0.92104683, 0.84385378, 0.88592423, 0.64671954, 0.79031905]), 'train_r2': array([0.87426416, 0.88779401, 0.88061108, 0.90297504, 0.89833592]), 'test_neg_mean_squared_error': array([ -8767.84902315, -17815.75093903, -12344.87825138, -22006.47049028,\n",
      "       -39450.52608702]), 'train_neg_mean_squared_error': array([-16078.44783606, -13972.57866943, -15268.42472495, -13223.98109532,\n",
      "       -10586.01039978])}\n"
     ]
    }
   ],
   "source": [
    "# 학습/검증에 대한 모든 결과에 대한 처리\n",
    "result = cross_validate(lr_model, \n",
    "                        scaled_fish_x_train, fish_y_train, \n",
    "                        scoring=('r2', 'neg_mean_squared_error'),\n",
    "                        return_train_score=True,\n",
    "                        return_estimator=True)\n",
    "print(result)"
   ],
   "metadata": {
    "collapsed": false,
    "ExecuteTime": {
     "end_time": "2024-03-05T08:02:32.545567200Z",
     "start_time": "2024-03-05T08:02:32.464434200Z"
    }
   },
   "id": "2f1a0b89a29f22d2",
   "execution_count": 34
  },
  {
   "cell_type": "code",
   "outputs": [
    {
     "data": {
      "text/plain": "   fit_time  score_time           estimator   test_r2  train_r2  \\\n0  0.000999    0.002067  LinearRegression()  0.921047  0.874264   \n1  0.001084    0.001337  LinearRegression()  0.843854  0.887794   \n2  0.001994    0.001119  LinearRegression()  0.885924  0.880611   \n3  0.000998    0.000997  LinearRegression()  0.646720  0.902975   \n4  0.000072    0.000994  LinearRegression()  0.790319  0.898336   \n\n   test_neg_mean_squared_error  train_neg_mean_squared_error  \n0                 -8767.849023                 -16078.447836  \n1                -17815.750939                 -13972.578669  \n2                -12344.878251                 -15268.424725  \n3                -22006.470490                 -13223.981095  \n4                -39450.526087                 -10586.010400  ",
      "text/html": "<div>\n<style scoped>\n    .dataframe tbody tr th:only-of-type {\n        vertical-align: middle;\n    }\n\n    .dataframe tbody tr th {\n        vertical-align: top;\n    }\n\n    .dataframe thead th {\n        text-align: right;\n    }\n</style>\n<table border=\"1\" class=\"dataframe\">\n  <thead>\n    <tr style=\"text-align: right;\">\n      <th></th>\n      <th>fit_time</th>\n      <th>score_time</th>\n      <th>estimator</th>\n      <th>test_r2</th>\n      <th>train_r2</th>\n      <th>test_neg_mean_squared_error</th>\n      <th>train_neg_mean_squared_error</th>\n    </tr>\n  </thead>\n  <tbody>\n    <tr>\n      <th>0</th>\n      <td>0.000999</td>\n      <td>0.002067</td>\n      <td>LinearRegression()</td>\n      <td>0.921047</td>\n      <td>0.874264</td>\n      <td>-8767.849023</td>\n      <td>-16078.447836</td>\n    </tr>\n    <tr>\n      <th>1</th>\n      <td>0.001084</td>\n      <td>0.001337</td>\n      <td>LinearRegression()</td>\n      <td>0.843854</td>\n      <td>0.887794</td>\n      <td>-17815.750939</td>\n      <td>-13972.578669</td>\n    </tr>\n    <tr>\n      <th>2</th>\n      <td>0.001994</td>\n      <td>0.001119</td>\n      <td>LinearRegression()</td>\n      <td>0.885924</td>\n      <td>0.880611</td>\n      <td>-12344.878251</td>\n      <td>-15268.424725</td>\n    </tr>\n    <tr>\n      <th>3</th>\n      <td>0.000998</td>\n      <td>0.000997</td>\n      <td>LinearRegression()</td>\n      <td>0.646720</td>\n      <td>0.902975</td>\n      <td>-22006.470490</td>\n      <td>-13223.981095</td>\n    </tr>\n    <tr>\n      <th>4</th>\n      <td>0.000072</td>\n      <td>0.000994</td>\n      <td>LinearRegression()</td>\n      <td>0.790319</td>\n      <td>0.898336</td>\n      <td>-39450.526087</td>\n      <td>-10586.010400</td>\n    </tr>\n  </tbody>\n</table>\n</div>"
     },
     "execution_count": 35,
     "metadata": {},
     "output_type": "execute_result"
    }
   ],
   "source": [
    "resultDF = pd.DataFrame(result)\n",
    "resultDF"
   ],
   "metadata": {
    "collapsed": false,
    "ExecuteTime": {
     "end_time": "2024-03-05T08:02:33.246462700Z",
     "start_time": "2024-03-05T08:02:33.232736900Z"
    }
   },
   "id": "1440ddb4234710b7",
   "execution_count": 35
  },
  {
   "cell_type": "code",
   "outputs": [
    {
     "data": {
      "text/plain": "(array([ 373.98470744, -159.77931033,   90.53431501,   50.22123874]),\n 408.52250924970195)"
     },
     "execution_count": 36,
     "metadata": {},
     "output_type": "execute_result"
    }
   ],
   "source": [
    "best_model = resultDF.iloc[0]['estimator']\n",
    "best_model.coef_, best_model.intercept_"
   ],
   "metadata": {
    "collapsed": false,
    "ExecuteTime": {
     "end_time": "2024-03-05T08:02:34.888519600Z",
     "start_time": "2024-03-05T08:02:34.864764800Z"
    }
   },
   "id": "1ae46e66b7490d7b",
   "execution_count": 36
  },
  {
   "cell_type": "code",
   "outputs": [
    {
     "data": {
      "text/plain": "array([0.92104683, 0.84385378, 0.88592423, 0.64671954, 0.79031905])"
     },
     "execution_count": 37,
     "metadata": {},
     "output_type": "execute_result"
    }
   ],
   "source": [
    "### CV에서 score만 추출\n",
    "cross_val_score(lr_model, scaled_fish_x_train, fish_y_train)"
   ],
   "metadata": {
    "collapsed": false,
    "ExecuteTime": {
     "end_time": "2024-03-05T08:03:56.185030500Z",
     "start_time": "2024-03-05T08:03:56.150536200Z"
    }
   },
   "id": "77e7feb739f64197",
   "execution_count": 37
  },
  {
   "cell_type": "code",
   "outputs": [
    {
     "data": {
      "text/plain": "array([ 622.9370399 ,  190.32868097,  367.23105864,  177.61960659,\n        217.04446718,  475.09635801,  617.48701967,    2.18489816,\n        347.19295855,  623.02091668,  360.15563829,  194.11457966,\n        225.89235241, 1243.33282317, 1358.91524558,  355.4838006 ,\n        672.73652147,  349.46697396,  719.4008871 ,  142.66810206,\n        248.11096427, -197.37549711,   71.76179815,   98.99430885,\n        155.66806474, -345.54229042,  537.92791374,  134.89750312,\n        625.38205691, -186.9521243 ,  181.81549631,  688.90322353])"
     },
     "execution_count": 38,
     "metadata": {},
     "output_type": "execute_result"
    }
   ],
   "source": [
    "### CV에서 predict만 추출\n",
    "cross_val_predict(lr_model, scaled_fish_x_test, fish_y_test)"
   ],
   "metadata": {
    "collapsed": false,
    "ExecuteTime": {
     "end_time": "2024-03-05T08:05:48.326509200Z",
     "start_time": "2024-03-05T08:05:48.290995600Z"
    }
   },
   "id": "f8a35ddabd4d74c",
   "execution_count": 38
  },
  {
   "cell_type": "markdown",
   "source": [
    "### 교차검증과 튜닝까지 한꺼번에 진행\n",
    "- 단점 : 시간이 오래 걸림"
   ],
   "metadata": {
    "collapsed": false
   },
   "id": "723b901779b7e6f1"
  },
  {
   "cell_type": "code",
   "outputs": [],
   "source": [
    "from sklearn.model_selection import GridSearchCV, RandomizedSearchCV\n",
    "from sklearn.linear_model import LogisticRegression"
   ],
   "metadata": {
    "collapsed": false,
    "ExecuteTime": {
     "end_time": "2024-03-05T08:45:12.630357800Z",
     "start_time": "2024-03-05T08:45:12.626296100Z"
    }
   },
   "id": "ab05776b91a0222a",
   "execution_count": 40
  },
  {
   "cell_type": "code",
   "outputs": [],
   "source": [
    "est = LogisticRegression(max_iter=10000, solver='liblinear')\n",
    "params = {'penalty': ['l1', 'l2'],\n",
    "          # 'solver': ['lbfgs', 'liblinear', 'newton-cg', 'newton-cholesky', 'sag', 'saga']\n",
    "    }"
   ],
   "metadata": {
    "collapsed": false,
    "ExecuteTime": {
     "end_time": "2024-03-05T08:55:48.947347Z",
     "start_time": "2024-03-05T08:55:48.933952500Z"
    }
   },
   "id": "81af96795d99c375",
   "execution_count": 49
  },
  {
   "cell_type": "code",
   "outputs": [
    {
     "data": {
      "text/plain": "GridSearchCV(estimator=LogisticRegression(max_iter=10000, solver='liblinear'),\n             param_grid={'penalty': ['l1', 'l2']}, return_train_score=True)",
      "text/html": "<style>#sk-container-id-5 {color: black;}#sk-container-id-5 pre{padding: 0;}#sk-container-id-5 div.sk-toggleable {background-color: white;}#sk-container-id-5 label.sk-toggleable__label {cursor: pointer;display: block;width: 100%;margin-bottom: 0;padding: 0.3em;box-sizing: border-box;text-align: center;}#sk-container-id-5 label.sk-toggleable__label-arrow:before {content: \"▸\";float: left;margin-right: 0.25em;color: #696969;}#sk-container-id-5 label.sk-toggleable__label-arrow:hover:before {color: black;}#sk-container-id-5 div.sk-estimator:hover label.sk-toggleable__label-arrow:before {color: black;}#sk-container-id-5 div.sk-toggleable__content {max-height: 0;max-width: 0;overflow: hidden;text-align: left;background-color: #f0f8ff;}#sk-container-id-5 div.sk-toggleable__content pre {margin: 0.2em;color: black;border-radius: 0.25em;background-color: #f0f8ff;}#sk-container-id-5 input.sk-toggleable__control:checked~div.sk-toggleable__content {max-height: 200px;max-width: 100%;overflow: auto;}#sk-container-id-5 input.sk-toggleable__control:checked~label.sk-toggleable__label-arrow:before {content: \"▾\";}#sk-container-id-5 div.sk-estimator input.sk-toggleable__control:checked~label.sk-toggleable__label {background-color: #d4ebff;}#sk-container-id-5 div.sk-label input.sk-toggleable__control:checked~label.sk-toggleable__label {background-color: #d4ebff;}#sk-container-id-5 input.sk-hidden--visually {border: 0;clip: rect(1px 1px 1px 1px);clip: rect(1px, 1px, 1px, 1px);height: 1px;margin: -1px;overflow: hidden;padding: 0;position: absolute;width: 1px;}#sk-container-id-5 div.sk-estimator {font-family: monospace;background-color: #f0f8ff;border: 1px dotted black;border-radius: 0.25em;box-sizing: border-box;margin-bottom: 0.5em;}#sk-container-id-5 div.sk-estimator:hover {background-color: #d4ebff;}#sk-container-id-5 div.sk-parallel-item::after {content: \"\";width: 100%;border-bottom: 1px solid gray;flex-grow: 1;}#sk-container-id-5 div.sk-label:hover label.sk-toggleable__label {background-color: #d4ebff;}#sk-container-id-5 div.sk-serial::before {content: \"\";position: absolute;border-left: 1px solid gray;box-sizing: border-box;top: 0;bottom: 0;left: 50%;z-index: 0;}#sk-container-id-5 div.sk-serial {display: flex;flex-direction: column;align-items: center;background-color: white;padding-right: 0.2em;padding-left: 0.2em;position: relative;}#sk-container-id-5 div.sk-item {position: relative;z-index: 1;}#sk-container-id-5 div.sk-parallel {display: flex;align-items: stretch;justify-content: center;background-color: white;position: relative;}#sk-container-id-5 div.sk-item::before, #sk-container-id-5 div.sk-parallel-item::before {content: \"\";position: absolute;border-left: 1px solid gray;box-sizing: border-box;top: 0;bottom: 0;left: 50%;z-index: -1;}#sk-container-id-5 div.sk-parallel-item {display: flex;flex-direction: column;z-index: 1;position: relative;background-color: white;}#sk-container-id-5 div.sk-parallel-item:first-child::after {align-self: flex-end;width: 50%;}#sk-container-id-5 div.sk-parallel-item:last-child::after {align-self: flex-start;width: 50%;}#sk-container-id-5 div.sk-parallel-item:only-child::after {width: 0;}#sk-container-id-5 div.sk-dashed-wrapped {border: 1px dashed gray;margin: 0 0.4em 0.5em 0.4em;box-sizing: border-box;padding-bottom: 0.4em;background-color: white;}#sk-container-id-5 div.sk-label label {font-family: monospace;font-weight: bold;display: inline-block;line-height: 1.2em;}#sk-container-id-5 div.sk-label-container {text-align: center;}#sk-container-id-5 div.sk-container {/* jupyter's `normalize.less` sets `[hidden] { display: none; }` but bootstrap.min.css set `[hidden] { display: none !important; }` so we also need the `!important` here to be able to override the default hidden behavior on the sphinx rendered scikit-learn.org. See: https://github.com/scikit-learn/scikit-learn/issues/21755 */display: inline-block !important;position: relative;}#sk-container-id-5 div.sk-text-repr-fallback {display: none;}</style><div id=\"sk-container-id-5\" class=\"sk-top-container\"><div class=\"sk-text-repr-fallback\"><pre>GridSearchCV(estimator=LogisticRegression(max_iter=10000, solver=&#x27;liblinear&#x27;),\n             param_grid={&#x27;penalty&#x27;: [&#x27;l1&#x27;, &#x27;l2&#x27;]}, return_train_score=True)</pre><b>In a Jupyter environment, please rerun this cell to show the HTML representation or trust the notebook. <br />On GitHub, the HTML representation is unable to render, please try loading this page with nbviewer.org.</b></div><div class=\"sk-container\" hidden><div class=\"sk-item sk-dashed-wrapped\"><div class=\"sk-label-container\"><div class=\"sk-label sk-toggleable\"><input class=\"sk-toggleable__control sk-hidden--visually\" id=\"sk-estimator-id-11\" type=\"checkbox\" ><label for=\"sk-estimator-id-11\" class=\"sk-toggleable__label sk-toggleable__label-arrow\">GridSearchCV</label><div class=\"sk-toggleable__content\"><pre>GridSearchCV(estimator=LogisticRegression(max_iter=10000, solver=&#x27;liblinear&#x27;),\n             param_grid={&#x27;penalty&#x27;: [&#x27;l1&#x27;, &#x27;l2&#x27;]}, return_train_score=True)</pre></div></div></div><div class=\"sk-parallel\"><div class=\"sk-parallel-item\"><div class=\"sk-item\"><div class=\"sk-label-container\"><div class=\"sk-label sk-toggleable\"><input class=\"sk-toggleable__control sk-hidden--visually\" id=\"sk-estimator-id-12\" type=\"checkbox\" ><label for=\"sk-estimator-id-12\" class=\"sk-toggleable__label sk-toggleable__label-arrow\">estimator: LogisticRegression</label><div class=\"sk-toggleable__content\"><pre>LogisticRegression(max_iter=10000, solver=&#x27;liblinear&#x27;)</pre></div></div></div><div class=\"sk-serial\"><div class=\"sk-item\"><div class=\"sk-estimator sk-toggleable\"><input class=\"sk-toggleable__control sk-hidden--visually\" id=\"sk-estimator-id-13\" type=\"checkbox\" ><label for=\"sk-estimator-id-13\" class=\"sk-toggleable__label sk-toggleable__label-arrow\">LogisticRegression</label><div class=\"sk-toggleable__content\"><pre>LogisticRegression(max_iter=10000, solver=&#x27;liblinear&#x27;)</pre></div></div></div></div></div></div></div></div></div></div>"
     },
     "execution_count": 50,
     "metadata": {},
     "output_type": "execute_result"
    }
   ],
   "source": [
    "gscv = GridSearchCV(est, param_grid=params, return_train_score=True)\n",
    "gscv.fit(scaled_iris_x_train, iris_y_train)"
   ],
   "metadata": {
    "collapsed": false,
    "ExecuteTime": {
     "end_time": "2024-03-05T08:55:49.291209800Z",
     "start_time": "2024-03-05T08:55:49.226232300Z"
    }
   },
   "id": "bd7be53fc31e3922",
   "execution_count": 50
  },
  {
   "cell_type": "code",
   "outputs": [
    {
     "data": {
      "text/plain": "   mean_fit_time  std_fit_time  mean_score_time  std_score_time param_penalty  \\\n0       0.001923      0.000272         0.000798        0.000399            l1   \n1       0.001471      0.000448         0.000599        0.000489            l2   \n\n              params  split0_test_score  split1_test_score  split2_test_score  \\\n0  {'penalty': 'l1'}              0.875           1.000000           0.958333   \n1  {'penalty': 'l2'}              0.875           0.958333           0.958333   \n\n   split3_test_score  ...  mean_test_score  std_test_score  rank_test_score  \\\n0           0.958333  ...         0.941667        0.042492                1   \n1           0.958333  ...         0.908333        0.066667                2   \n\n   split0_train_score  split1_train_score  split2_train_score  \\\n0             0.93750            0.927083            0.937500   \n1             0.90625            0.916667            0.916667   \n\n   split3_train_score  split4_train_score  mean_train_score  std_train_score  \n0            0.947917             0.93750          0.937500         0.006588  \n1            0.927083             0.90625          0.914583         0.007795  \n\n[2 rows x 21 columns]",
      "text/html": "<div>\n<style scoped>\n    .dataframe tbody tr th:only-of-type {\n        vertical-align: middle;\n    }\n\n    .dataframe tbody tr th {\n        vertical-align: top;\n    }\n\n    .dataframe thead th {\n        text-align: right;\n    }\n</style>\n<table border=\"1\" class=\"dataframe\">\n  <thead>\n    <tr style=\"text-align: right;\">\n      <th></th>\n      <th>mean_fit_time</th>\n      <th>std_fit_time</th>\n      <th>mean_score_time</th>\n      <th>std_score_time</th>\n      <th>param_penalty</th>\n      <th>params</th>\n      <th>split0_test_score</th>\n      <th>split1_test_score</th>\n      <th>split2_test_score</th>\n      <th>split3_test_score</th>\n      <th>...</th>\n      <th>mean_test_score</th>\n      <th>std_test_score</th>\n      <th>rank_test_score</th>\n      <th>split0_train_score</th>\n      <th>split1_train_score</th>\n      <th>split2_train_score</th>\n      <th>split3_train_score</th>\n      <th>split4_train_score</th>\n      <th>mean_train_score</th>\n      <th>std_train_score</th>\n    </tr>\n  </thead>\n  <tbody>\n    <tr>\n      <th>0</th>\n      <td>0.001923</td>\n      <td>0.000272</td>\n      <td>0.000798</td>\n      <td>0.000399</td>\n      <td>l1</td>\n      <td>{'penalty': 'l1'}</td>\n      <td>0.875</td>\n      <td>1.000000</td>\n      <td>0.958333</td>\n      <td>0.958333</td>\n      <td>...</td>\n      <td>0.941667</td>\n      <td>0.042492</td>\n      <td>1</td>\n      <td>0.93750</td>\n      <td>0.927083</td>\n      <td>0.937500</td>\n      <td>0.947917</td>\n      <td>0.93750</td>\n      <td>0.937500</td>\n      <td>0.006588</td>\n    </tr>\n    <tr>\n      <th>1</th>\n      <td>0.001471</td>\n      <td>0.000448</td>\n      <td>0.000599</td>\n      <td>0.000489</td>\n      <td>l2</td>\n      <td>{'penalty': 'l2'}</td>\n      <td>0.875</td>\n      <td>0.958333</td>\n      <td>0.958333</td>\n      <td>0.958333</td>\n      <td>...</td>\n      <td>0.908333</td>\n      <td>0.066667</td>\n      <td>2</td>\n      <td>0.90625</td>\n      <td>0.916667</td>\n      <td>0.916667</td>\n      <td>0.927083</td>\n      <td>0.90625</td>\n      <td>0.914583</td>\n      <td>0.007795</td>\n    </tr>\n  </tbody>\n</table>\n<p>2 rows × 21 columns</p>\n</div>"
     },
     "execution_count": 51,
     "metadata": {},
     "output_type": "execute_result"
    }
   ],
   "source": [
    "cv_resultsDF = pd.DataFrame(gscv.cv_results_)\n",
    "cv_resultsDF"
   ],
   "metadata": {
    "collapsed": false,
    "ExecuteTime": {
     "end_time": "2024-03-05T08:56:16.886786900Z",
     "start_time": "2024-03-05T08:56:16.863267700Z"
    }
   },
   "id": "5348fdeb29a5c270",
   "execution_count": 51
  },
  {
   "cell_type": "code",
   "outputs": [
    {
     "data": {
      "text/plain": "({'penalty': 'l1'}, 0, 0.9416666666666668)"
     },
     "execution_count": 52,
     "metadata": {},
     "output_type": "execute_result"
    }
   ],
   "source": [
    "gscv.best_params_, gscv.best_index_, gscv.best_score_"
   ],
   "metadata": {
    "collapsed": false,
    "ExecuteTime": {
     "end_time": "2024-03-05T08:56:17.941005400Z",
     "start_time": "2024-03-05T08:56:17.911817200Z"
    }
   },
   "id": "e825e425b94a60e1",
   "execution_count": 52
  },
  {
   "cell_type": "code",
   "outputs": [],
   "source": [
    "best_model = gscv.best_estimator_"
   ],
   "metadata": {
    "collapsed": false,
    "ExecuteTime": {
     "end_time": "2024-03-05T08:56:18.720090200Z",
     "start_time": "2024-03-05T08:56:18.692652100Z"
    }
   },
   "id": "bf0cc327dc3dbaaa",
   "execution_count": 53
  },
  {
   "cell_type": "markdown",
   "source": [
    "### 데이터에 적합한 모델 찾기"
   ],
   "metadata": {
    "collapsed": false
   },
   "id": "5ff9f66b550e2ac7"
  },
  {
   "cell_type": "code",
   "outputs": [],
   "source": [
    "from sklearn.utils.discovery import all_estimators"
   ],
   "metadata": {
    "collapsed": false,
    "ExecuteTime": {
     "end_time": "2024-03-05T08:58:34.242362800Z",
     "start_time": "2024-03-05T08:58:34.223125300Z"
    }
   },
   "id": "a73b7319b0c4083b",
   "execution_count": 54
  },
  {
   "cell_type": "code",
   "outputs": [
    {
     "name": "stdout",
     "output_type": "stream",
     "text": [
      "오류 발생 : <class 'sklearn.ensemble._weight_boosting.AdaBoostClassifier'>\n",
      "BaggingClassifier(estimator=array([[-0.67338676,  1.45883235, -1.31265713, -1.32669067],\n",
      "       [-1.04981414,  0.99995979, -1.42826729, -1.19533516],\n",
      "       [-1.30076572, -0.14722161, -1.37046221, -1.19533516],\n",
      "       [ 0.58137117,  0.54108723,  0.53710558,  0.5122865 ],\n",
      "       [ 0.70684697, -0.60609417,  1.05735134,  1.16906405],\n",
      "       [ 0.95779855, -0.37665789,  0.47930049,  0.11821996],\n",
      "       [ 2.33803228, -0.14722161,  1.34...\n",
      "       [-0.17148358, -0.60609417,  0.19027507,  0.11821996],\n",
      "       [ 0.45589538, -0.37665789,  0.30588524,  0.11821996],\n",
      "       [-1.6771931 , -1.75327557, -1.42826729, -1.19533516],\n",
      "       [-0.79886255,  2.37657747, -1.31265713, -1.45804618],\n",
      "       [-0.29695938, -0.14722161,  0.42149541,  0.38093098]]),\n",
      "                  n_estimators=48         setosa\n",
      "40         setosa\n",
      "45         setosa\n",
      "56     versicolor\n",
      "128     virginica\n",
      "          ...    \n",
      "99     versicolor\n",
      "97     versicolor\n",
      "41         setosa\n",
      "32         setosa\n",
      "66     versicolor\n",
      "Name: species, Length: 120, dtype: object)\n",
      "오류 발생 : <class 'sklearn.naive_bayes.BernoulliNB'>\n",
      "오류 발생 : <class 'sklearn.calibration.CalibratedClassifierCV'>\n",
      "오류 발생 : <class 'sklearn.naive_bayes.CategoricalNB'>\n",
      "오류 발생 : <class 'sklearn.multioutput.ClassifierChain'>\n",
      "오류 발생 : <class 'sklearn.naive_bayes.ComplementNB'>\n",
      "오류 발생 : <class 'sklearn.tree._classes.DecisionTreeClassifier'>\n",
      "오류 발생 : <class 'sklearn.dummy.DummyClassifier'>\n",
      "오류 발생 : <class 'sklearn.tree._classes.ExtraTreeClassifier'>\n",
      "오류 발생 : <class 'sklearn.ensemble._forest.ExtraTreesClassifier'>\n",
      "오류 발생 : <class 'sklearn.naive_bayes.GaussianNB'>\n",
      "오류 발생 : <class 'sklearn.gaussian_process._gpc.GaussianProcessClassifier'>\n",
      "오류 발생 : <class 'sklearn.ensemble._gb.GradientBoostingClassifier'>\n",
      "오류 발생 : <class 'sklearn.ensemble._hist_gradient_boosting.gradient_boosting.HistGradientBoostingClassifier'>\n",
      "오류 발생 : <class 'sklearn.neighbors._classification.KNeighborsClassifier'>\n",
      "오류 발생 : <class 'sklearn.semi_supervised._label_propagation.LabelPropagation'>\n",
      "오류 발생 : <class 'sklearn.semi_supervised._label_propagation.LabelSpreading'>\n",
      "LinearDiscriminantAnalysis(shrinkage=48         setosa\n",
      "40         setosa\n",
      "45         setosa\n",
      "56     versicolor\n",
      "128     virginica\n",
      "          ...    \n",
      "99     versicolor\n",
      "97     versicolor\n",
      "41         setosa\n",
      "32         setosa\n",
      "66     versicolor\n",
      "Name: species, Length: 120, dtype: object,\n",
      "                           solver=array([[-0.67338676,  1.45883235, -1.31265713, -1.32669067],\n",
      "       [-1.04981414,  0.99995979, -1.42826729, -1.19533516],\n",
      "       [-1.30076572, -0.14722161, -1.37046221, -1.19533516],\n",
      "       [ 0.58137117...\n",
      "       [ 1.33422593,  0.31165095,  1.11515642,  1.43177508],\n",
      "       [-0.04600779, -0.83553045,  0.76832591,  0.90635303],\n",
      "       [ 0.95779855, -0.14722161,  0.36369032,  0.24957547],\n",
      "       [-0.17148358, -0.60609417,  0.19027507,  0.11821996],\n",
      "       [ 0.45589538, -0.37665789,  0.30588524,  0.11821996],\n",
      "       [-1.6771931 , -1.75327557, -1.42826729, -1.19533516],\n",
      "       [-0.79886255,  2.37657747, -1.31265713, -1.45804618],\n",
      "       [-0.29695938, -0.14722161,  0.42149541,  0.38093098]]))\n",
      "LinearSVC(loss=48         setosa\n",
      "40         setosa\n",
      "45         setosa\n",
      "56     versicolor\n",
      "128     virginica\n",
      "          ...    \n",
      "99     versicolor\n",
      "97     versicolor\n",
      "41         setosa\n",
      "32         setosa\n",
      "66     versicolor\n",
      "Name: species, Length: 120, dtype: object,\n",
      "          penalty=array([[-0.67338676,  1.45883235, -1.31265713, -1.32669067],\n",
      "       [-1.04981414,  0.99995979, -1.42826729, -1.19533516],\n",
      "       [-1.30076572, -0.14722161, -1.37046221, -1.19533516],\n",
      "       [ 0.58137117,  0.54108723,  0.5371055...\n",
      "       [ 1.33422593,  0.31165095,  1.11515642,  1.43177508],\n",
      "       [-0.04600779, -0.83553045,  0.76832591,  0.90635303],\n",
      "       [ 0.95779855, -0.14722161,  0.36369032,  0.24957547],\n",
      "       [-0.17148358, -0.60609417,  0.19027507,  0.11821996],\n",
      "       [ 0.45589538, -0.37665789,  0.30588524,  0.11821996],\n",
      "       [-1.6771931 , -1.75327557, -1.42826729, -1.19533516],\n",
      "       [-0.79886255,  2.37657747, -1.31265713, -1.45804618],\n",
      "       [-0.29695938, -0.14722161,  0.42149541,  0.38093098]]))\n",
      "오류 발생 : <class 'sklearn.linear_model._logistic.LogisticRegression'>\n",
      "오류 발생 : <class 'sklearn.linear_model._logistic.LogisticRegressionCV'>\n",
      "MLPClassifier(activation=48         setosa\n",
      "40         setosa\n",
      "45         setosa\n",
      "56     versicolor\n",
      "128     virginica\n",
      "          ...    \n",
      "99     versicolor\n",
      "97     versicolor\n",
      "41         setosa\n",
      "32         setosa\n",
      "66     versicolor\n",
      "Name: species, Length: 120, dtype: object,\n",
      "              hidden_layer_sizes=array([[-0.67338676,  1.45883235, -1.31265713, -1.32669067],\n",
      "       [-1.04981414,  0.99995979, -1.42826729, -1.19533516],\n",
      "       [-1.30076572, -0.14722161, -1.37046221, -1.19533516],\n",
      "       [ 0.58137117...\n",
      "       [ 1.33422593,  0.31165095,  1.11515642,  1.43177508],\n",
      "       [-0.04600779, -0.83553045,  0.76832591,  0.90635303],\n",
      "       [ 0.95779855, -0.14722161,  0.36369032,  0.24957547],\n",
      "       [-0.17148358, -0.60609417,  0.19027507,  0.11821996],\n",
      "       [ 0.45589538, -0.37665789,  0.30588524,  0.11821996],\n",
      "       [-1.6771931 , -1.75327557, -1.42826729, -1.19533516],\n",
      "       [-0.79886255,  2.37657747, -1.31265713, -1.45804618],\n",
      "       [-0.29695938, -0.14722161,  0.42149541,  0.38093098]]))\n",
      "오류 발생 : <class 'sklearn.multioutput.MultiOutputClassifier'>\n",
      "오류 발생 : <class 'sklearn.naive_bayes.MultinomialNB'>\n",
      "오류 발생 : <class 'sklearn.neighbors._nearest_centroid.NearestCentroid'>\n",
      "오류 발생 : <class 'sklearn.svm._classes.NuSVC'>\n",
      "오류 발생 : <class 'sklearn.multiclass.OneVsOneClassifier'>\n",
      "오류 발생 : <class 'sklearn.multiclass.OneVsRestClassifier'>\n",
      "오류 발생 : <class 'sklearn.multiclass.OutputCodeClassifier'>\n",
      "오류 발생 : <class 'sklearn.linear_model._passive_aggressive.PassiveAggressiveClassifier'>\n",
      "오류 발생 : <class 'sklearn.linear_model._perceptron.Perceptron'>\n",
      "오류 발생 : <class 'sklearn.discriminant_analysis.QuadraticDiscriminantAnalysis'>\n",
      "오류 발생 : <class 'sklearn.neighbors._classification.RadiusNeighborsClassifier'>\n",
      "오류 발생 : <class 'sklearn.ensemble._forest.RandomForestClassifier'>\n",
      "오류 발생 : <class 'sklearn.linear_model._ridge.RidgeClassifier'>\n",
      "오류 발생 : <class 'sklearn.linear_model._ridge.RidgeClassifierCV'>\n",
      "오류 발생 : <class 'sklearn.linear_model._stochastic_gradient.SGDClassifier'>\n",
      "오류 발생 : <class 'sklearn.svm._classes.SVC'>\n",
      "StackingClassifier(estimators=array([[-0.67338676,  1.45883235, -1.31265713, -1.32669067],\n",
      "       [-1.04981414,  0.99995979, -1.42826729, -1.19533516],\n",
      "       [-1.30076572, -0.14722161, -1.37046221, -1.19533516],\n",
      "       [ 0.58137117,  0.54108723,  0.53710558,  0.5122865 ],\n",
      "       [ 0.70684697, -0.60609417,  1.05735134,  1.16906405],\n",
      "       [ 0.95779855, -0.37665789,  0.47930049,  0.11821996],\n",
      "       [ 2.33803228, -0.14722161,  1....\n",
      "       [ 0.45589538, -0.37665789,  0.30588524,  0.11821996],\n",
      "       [-1.6771931 , -1.75327557, -1.42826729, -1.19533516],\n",
      "       [-0.79886255,  2.37657747, -1.31265713, -1.45804618],\n",
      "       [-0.29695938, -0.14722161,  0.42149541,  0.38093098]]),\n",
      "                   final_estimator=48         setosa\n",
      "40         setosa\n",
      "45         setosa\n",
      "56     versicolor\n",
      "128     virginica\n",
      "          ...    \n",
      "99     versicolor\n",
      "97     versicolor\n",
      "41         setosa\n",
      "32         setosa\n",
      "66     versicolor\n",
      "Name: species, Length: 120, dtype: object)\n",
      "오류 발생 : <class 'sklearn.ensemble._voting.VotingClassifier'>\n"
     ]
    }
   ],
   "source": [
    "models = all_estimators('classifier')\n",
    "\n",
    "for model_name, model in models:\n",
    "    # print(model)\n",
    "    try:\n",
    "        print(model(scaled_iris_x_train, iris_y_train))\n",
    "    except Exception as e:\n",
    "        print(f'오류 발생 : {model}')"
   ],
   "metadata": {
    "collapsed": false,
    "ExecuteTime": {
     "end_time": "2024-03-05T09:02:54.524510800Z",
     "start_time": "2024-03-05T09:02:54.378888400Z"
    }
   },
   "id": "ffd0a7bcf87179d3",
   "execution_count": 60
  },
  {
   "cell_type": "code",
   "outputs": [],
   "source": [],
   "metadata": {
    "collapsed": false
   },
   "id": "babd17a4ab0d9fad"
  }
 ],
 "metadata": {
  "kernelspec": {
   "display_name": "Python 3",
   "language": "python",
   "name": "python3"
  },
  "language_info": {
   "codemirror_mode": {
    "name": "ipython",
    "version": 2
   },
   "file_extension": ".py",
   "mimetype": "text/x-python",
   "name": "python",
   "nbconvert_exporter": "python",
   "pygments_lexer": "ipython2",
   "version": "2.7.6"
  }
 },
 "nbformat": 4,
 "nbformat_minor": 5
}
