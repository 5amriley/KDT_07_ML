{
 "cells": [
  {
   "cell_type": "markdown",
   "source": [
    "### 교차 검증\n",
    "- 부족한 데이터셋 및 특정 데이터에 과대적합되는 문제를 해결하기 위한 방안\n",
    "- 학습 데이터셋을 일정 크기의 데이터로 n개 분리 후, 1/n은 검증용, 나머지는 학습용으로 사용"
   ],
   "metadata": {
    "collapsed": false
   },
   "id": "b836194120d198af"
  },
  {
   "cell_type": "markdown",
   "source": [
    "(1) 모듈 로딩 및 데이터 준비 <hr>"
   ],
   "metadata": {
    "collapsed": false
   },
   "id": "3dd238acb106bb4b"
  },
  {
   "cell_type": "code",
   "outputs": [],
   "source": [
    "import numpy as np\n",
    "from sklearn.model_selection import KFold\n",
    "\n",
    "x = np.array([[1, 2], [3, 4], [1, 2], [3, 4]])\n",
    "y = np.array([1, 2, 3, 4])"
   ],
   "metadata": {
    "collapsed": false,
    "ExecuteTime": {
     "end_time": "2024-03-05T06:24:20.310358200Z",
     "start_time": "2024-03-05T06:24:18.776375Z"
    }
   },
   "id": "9fa16a3fd25aa2b5",
   "execution_count": 2
  },
  {
   "cell_type": "code",
   "outputs": [],
   "source": [
    "# KFold 인스턴스 생성 => 데이터를 2개로 분할해주는 객체\n",
    "k_fold = KFold(n_splits=2)"
   ],
   "metadata": {
    "collapsed": false,
    "ExecuteTime": {
     "end_time": "2024-03-05T06:24:20.330501900Z",
     "start_time": "2024-03-05T06:24:20.315298500Z"
    }
   },
   "id": "cdd84864a528d33",
   "execution_count": 3
  },
  {
   "cell_type": "code",
   "outputs": [
    {
     "name": "stdout",
     "output_type": "stream",
     "text": [
      "[2 3] [0 1]\n",
      "[0 1] [2 3]\n"
     ]
    }
   ],
   "source": [
    "# 데이터 분할\n",
    "datasets = k_fold.split(x)  # <generator object _BaseKFold.split at 0x0000021756531900>\n",
    "\n",
    "for train, test in datasets:\n",
    "    print(train, test)      # 출력되는 숫자들은 해당하는 데이터의 행번호"
   ],
   "metadata": {
    "collapsed": false,
    "ExecuteTime": {
     "end_time": "2024-03-05T06:24:20.370126Z",
     "start_time": "2024-03-05T06:24:20.330501900Z"
    }
   },
   "id": "546a1c04b81dd42c",
   "execution_count": 4
  },
  {
   "cell_type": "code",
   "outputs": [
    {
     "name": "stdout",
     "output_type": "stream",
     "text": [
      "<class 'pandas.core.frame.DataFrame'>\n",
      "RangeIndex: 56 entries, 0 to 55\n",
      "Data columns (total 4 columns):\n",
      " #   Column  Non-Null Count  Dtype  \n",
      "---  ------  --------------  -----  \n",
      " 0   Weight  56 non-null     float64\n",
      " 1   Length  56 non-null     float64\n",
      " 2   Height  56 non-null     float64\n",
      " 3   Width   56 non-null     float64\n",
      "dtypes: float64(4)\n",
      "memory usage: 1.9 KB\n"
     ]
    }
   ],
   "source": [
    "### perch3.csv 파일 데이터 5등분\n",
    "import pandas as pd\n",
    "\n",
    "filename = '../DATA/perch3.csv'\n",
    "perchDF = pd.read_csv(filename)\n",
    "perchDF.info()"
   ],
   "metadata": {
    "collapsed": false,
    "ExecuteTime": {
     "end_time": "2024-03-05T06:24:21.120235900Z",
     "start_time": "2024-03-05T06:24:20.358404Z"
    }
   },
   "id": "b15f1a5a89ef0e70",
   "execution_count": 5
  },
  {
   "cell_type": "code",
   "outputs": [
    {
     "name": "stdout",
     "output_type": "stream",
     "text": [
      "0 -> [12 13 14 15 16 17 18 19 20 21 22 23 24 25 26 27 28 29 30 31 32 33 34 35\n",
      " 36 37 38 39 40 41 42 43 44 45 46 47 48 49 50 51 52 53 54 55] [ 0  1  2  3  4  5  6  7  8  9 10 11]\n",
      "1 -> [ 0  1  2  3  4  5  6  7  8  9 10 11 23 24 25 26 27 28 29 30 31 32 33 34\n",
      " 35 36 37 38 39 40 41 42 43 44 45 46 47 48 49 50 51 52 53 54 55] [12 13 14 15 16 17 18 19 20 21 22]\n",
      "2 -> [ 0  1  2  3  4  5  6  7  8  9 10 11 12 13 14 15 16 17 18 19 20 21 22 34\n",
      " 35 36 37 38 39 40 41 42 43 44 45 46 47 48 49 50 51 52 53 54 55] [23 24 25 26 27 28 29 30 31 32 33]\n",
      "3 -> [ 0  1  2  3  4  5  6  7  8  9 10 11 12 13 14 15 16 17 18 19 20 21 22 23\n",
      " 24 25 26 27 28 29 30 31 32 33 45 46 47 48 49 50 51 52 53 54 55] [34 35 36 37 38 39 40 41 42 43 44]\n",
      "4 -> [ 0  1  2  3  4  5  6  7  8  9 10 11 12 13 14 15 16 17 18 19 20 21 22 23\n",
      " 24 25 26 27 28 29 30 31 32 33 34 35 36 37 38 39 40 41 42 43 44] [45 46 47 48 49 50 51 52 53 54 55]\n"
     ]
    }
   ],
   "source": [
    "# perchDF => 5등분 (default 값)\n",
    "fold_5 = KFold()\n",
    "\n",
    "datasets = fold_5.split(perchDF)\n",
    "\n",
    "for index, (train, test) in enumerate(datasets):\n",
    "    print(f'{index} -> {train} {test}')     # 출력되는 숫자들은 해당하는 데이터의 행번호"
   ],
   "metadata": {
    "collapsed": false,
    "ExecuteTime": {
     "end_time": "2024-03-05T06:24:21.163623400Z",
     "start_time": "2024-03-05T06:24:21.120235900Z"
    }
   },
   "id": "a366b0060c3de0cf",
   "execution_count": 6
  },
  {
   "cell_type": "code",
   "outputs": [
    {
     "data": {
      "text/plain": "   sepal_length  sepal_width  petal_length  petal_width species\n0           5.1          3.5           1.4          0.2  setosa\n1           4.9          3.0           1.4          0.2  setosa\n2           4.7          3.2           1.3          0.2  setosa\n3           4.6          3.1           1.5          0.2  setosa\n4           5.0          3.6           1.4          0.2  setosa",
      "text/html": "<div>\n<style scoped>\n    .dataframe tbody tr th:only-of-type {\n        vertical-align: middle;\n    }\n\n    .dataframe tbody tr th {\n        vertical-align: top;\n    }\n\n    .dataframe thead th {\n        text-align: right;\n    }\n</style>\n<table border=\"1\" class=\"dataframe\">\n  <thead>\n    <tr style=\"text-align: right;\">\n      <th></th>\n      <th>sepal_length</th>\n      <th>sepal_width</th>\n      <th>petal_length</th>\n      <th>petal_width</th>\n      <th>species</th>\n    </tr>\n  </thead>\n  <tbody>\n    <tr>\n      <th>0</th>\n      <td>5.1</td>\n      <td>3.5</td>\n      <td>1.4</td>\n      <td>0.2</td>\n      <td>setosa</td>\n    </tr>\n    <tr>\n      <th>1</th>\n      <td>4.9</td>\n      <td>3.0</td>\n      <td>1.4</td>\n      <td>0.2</td>\n      <td>setosa</td>\n    </tr>\n    <tr>\n      <th>2</th>\n      <td>4.7</td>\n      <td>3.2</td>\n      <td>1.3</td>\n      <td>0.2</td>\n      <td>setosa</td>\n    </tr>\n    <tr>\n      <th>3</th>\n      <td>4.6</td>\n      <td>3.1</td>\n      <td>1.5</td>\n      <td>0.2</td>\n      <td>setosa</td>\n    </tr>\n    <tr>\n      <th>4</th>\n      <td>5.0</td>\n      <td>3.6</td>\n      <td>1.4</td>\n      <td>0.2</td>\n      <td>setosa</td>\n    </tr>\n  </tbody>\n</table>\n</div>"
     },
     "execution_count": 7,
     "metadata": {},
     "output_type": "execute_result"
    }
   ],
   "source": [
    "## 타겟이 분류인 경우\n",
    "irisDF = pd.read_csv('../DATA/iris.csv')\n",
    "irisDF.head()"
   ],
   "metadata": {
    "collapsed": false,
    "ExecuteTime": {
     "end_time": "2024-03-05T06:24:21.319137Z",
     "start_time": "2024-03-05T06:24:21.132253500Z"
    }
   },
   "id": "f95ef2d74f899935",
   "execution_count": 7
  },
  {
   "cell_type": "code",
   "outputs": [],
   "source": [
    "k_fold = KFold(n_splits=3, shuffle=True)\n",
    "ret = k_fold.split(irisDF[irisDF.columns[:-1]])"
   ],
   "metadata": {
    "collapsed": false,
    "ExecuteTime": {
     "end_time": "2024-03-05T06:55:09.979111700Z",
     "start_time": "2024-03-05T06:55:09.950458500Z"
    }
   },
   "id": "cb10e9cc35bce0c3",
   "execution_count": 51
  },
  {
   "cell_type": "code",
   "outputs": [],
   "source": [
    "from sklearn.linear_model import LogisticRegression\n",
    "\n",
    "train_score, test_score = [], []\n",
    "\n",
    "for idx, (train, test) in enumerate(ret):\n",
    "    # 학습용, 테스트용 인덱스 반환\n",
    "    train_idx = train.tolist()\n",
    "    test_idx = test.tolist()\n",
    "    \n",
    "    # 인덱스에 해당하는 데이터 셋 추출\n",
    "    trainDF = irisDF.iloc[train_idx]\n",
    "    testDF = irisDF.iloc[test_idx]\n",
    "    \n",
    "    # print(trainDF.iloc[:, 4].value_counts() / trainDF.shape[0])\n",
    "    # print(testDF.iloc[:, 4].value_counts() / testDF.shape[0])\n",
    "    \n",
    "    x_train = trainDF[trainDF.columns[:-1]]\n",
    "    y_train = trainDF[trainDF.columns[-1]]\n",
    "    \n",
    "    x_test = testDF[testDF.columns[:-1]]\n",
    "    y_test = testDF[testDF.columns[-1]]\n",
    "    \n",
    "    # 분류 모델 학습\n",
    "    log_model = LogisticRegression(max_iter=1000, solver='liblinear')   # penalty 파라미터 예시 ['l1', 'l2', 'elasticnet']\n",
    "    log_model.fit(x_train, y_train)\n",
    "    \n",
    "    # 훈련 및 검증용 성능 점수 저장\n",
    "    train_score.append(log_model.score(x_train, y_train))\n",
    "    test_score.append(log_model.score(x_test, y_test))\n",
    "    \n",
    "    # 예측\n",
    "    # pred_y = log_model.predict(x_test)"
   ],
   "metadata": {
    "collapsed": false,
    "ExecuteTime": {
     "end_time": "2024-03-05T06:55:10.257619200Z",
     "start_time": "2024-03-05T06:55:10.221602800Z"
    }
   },
   "id": "fd9cbd6875299fe9",
   "execution_count": 52
  },
  {
   "cell_type": "code",
   "outputs": [],
   "source": [
    "def mean(some_list: list):\n",
    "    if len(some_list) == 0:\n",
    "        print('빈 리스트')\n",
    "    else:\n",
    "        return sum(some_list) / len(some_list)"
   ],
   "metadata": {
    "collapsed": false,
    "ExecuteTime": {
     "end_time": "2024-03-05T06:55:10.770254800Z",
     "start_time": "2024-03-05T06:55:10.762276200Z"
    }
   },
   "id": "9192e5a890e2e6b4",
   "execution_count": 53
  },
  {
   "cell_type": "code",
   "outputs": [
    {
     "data": {
      "text/plain": "(0.96, 0.96)"
     },
     "execution_count": 54,
     "metadata": {},
     "output_type": "execute_result"
    }
   ],
   "source": [
    "mean(train_score), mean(test_score)"
   ],
   "metadata": {
    "collapsed": false,
    "ExecuteTime": {
     "end_time": "2024-03-05T06:55:11.257204700Z",
     "start_time": "2024-03-05T06:55:11.237787600Z"
    }
   },
   "id": "a839fe6646831c6",
   "execution_count": 54
  },
  {
   "cell_type": "code",
   "outputs": [
    {
     "data": {
      "text/plain": "[0.97, 0.96, 0.95]"
     },
     "execution_count": 55,
     "metadata": {},
     "output_type": "execute_result"
    }
   ],
   "source": [
    "train_score"
   ],
   "metadata": {
    "collapsed": false,
    "ExecuteTime": {
     "end_time": "2024-03-05T06:55:12.098532300Z",
     "start_time": "2024-03-05T06:55:12.073784900Z"
    }
   },
   "id": "d292fa8a0076dd22",
   "execution_count": 55
  },
  {
   "cell_type": "code",
   "outputs": [],
   "source": [],
   "metadata": {
    "collapsed": false
   },
   "id": "833f527b141d03c0"
  }
 ],
 "metadata": {
  "kernelspec": {
   "display_name": "Python 3",
   "language": "python",
   "name": "python3"
  },
  "language_info": {
   "codemirror_mode": {
    "name": "ipython",
    "version": 2
   },
   "file_extension": ".py",
   "mimetype": "text/x-python",
   "name": "python",
   "nbconvert_exporter": "python",
   "pygments_lexer": "ipython2",
   "version": "2.7.6"
  }
 },
 "nbformat": 4,
 "nbformat_minor": 5
}
