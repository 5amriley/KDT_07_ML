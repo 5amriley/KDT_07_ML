{
 "cells": [
  {
   "cell_type": "markdown",
   "source": [
    "### 목표 : 생선 분류 모델\n",
    "- 데이터 : fish.csv\n",
    "- 피쳐 : 5개 [Weight, Length, Diagonal, Height, Width]\n",
    "- 타겟 : 1개 [Species]\n",
    "- 방법 : 지도학습 + 다중분류 (Species가 2개 보다 많아서)"
   ],
   "metadata": {
    "collapsed": false
   },
   "id": "da5e8d3242c499d7"
  },
  {
   "cell_type": "markdown",
   "source": [
    "(1) 모듈 로딩 및 데이터 준비"
   ],
   "metadata": {
    "collapsed": false
   },
   "id": "53e4ec5ae43b9cea"
  },
  {
   "cell_type": "code",
   "outputs": [],
   "source": [
    "# 모듈 로딩\n",
    "import pandas as pd\n",
    "import numpy as np"
   ],
   "metadata": {
    "collapsed": false,
    "ExecuteTime": {
     "end_time": "2024-03-04T05:39:25.892341200Z",
     "start_time": "2024-03-04T05:39:25.740846800Z"
    }
   },
   "id": "b2ca87af46cba6e6",
   "execution_count": 54
  },
  {
   "cell_type": "code",
   "outputs": [
    {
     "data": {
      "text/plain": "  Species  Weight  Length  Diagonal  Height   Width\n0   Bream   242.0    25.4      30.0   11.52  4.0200\n1   Bream   290.0    26.3      31.2   12.48  4.3056",
      "text/html": "<div>\n<style scoped>\n    .dataframe tbody tr th:only-of-type {\n        vertical-align: middle;\n    }\n\n    .dataframe tbody tr th {\n        vertical-align: top;\n    }\n\n    .dataframe thead th {\n        text-align: right;\n    }\n</style>\n<table border=\"1\" class=\"dataframe\">\n  <thead>\n    <tr style=\"text-align: right;\">\n      <th></th>\n      <th>Species</th>\n      <th>Weight</th>\n      <th>Length</th>\n      <th>Diagonal</th>\n      <th>Height</th>\n      <th>Width</th>\n    </tr>\n  </thead>\n  <tbody>\n    <tr>\n      <th>0</th>\n      <td>Bream</td>\n      <td>242.0</td>\n      <td>25.4</td>\n      <td>30.0</td>\n      <td>11.52</td>\n      <td>4.0200</td>\n    </tr>\n    <tr>\n      <th>1</th>\n      <td>Bream</td>\n      <td>290.0</td>\n      <td>26.3</td>\n      <td>31.2</td>\n      <td>12.48</td>\n      <td>4.3056</td>\n    </tr>\n  </tbody>\n</table>\n</div>"
     },
     "execution_count": 55,
     "metadata": {},
     "output_type": "execute_result"
    }
   ],
   "source": [
    "# 데이터 준비\n",
    "data_file = '../Data/fish.csv'\n",
    "\n",
    "fishDF = pd.read_csv(data_file)\n",
    "fishDF.head(2)"
   ],
   "metadata": {
    "collapsed": false,
    "ExecuteTime": {
     "end_time": "2024-03-04T05:39:25.939185700Z",
     "start_time": "2024-03-04T05:39:25.885363800Z"
    }
   },
   "id": "fed498af8761793e",
   "execution_count": 55
  },
  {
   "cell_type": "markdown",
   "source": [
    "(2) 학습을 위한 데이터 준비 <hr>"
   ],
   "metadata": {
    "collapsed": false
   },
   "id": "40093754985aa1f1"
  },
  {
   "cell_type": "markdown",
   "source": [
    "(2-1) 피쳐, 타겟 분리"
   ],
   "metadata": {
    "collapsed": false
   },
   "id": "fe0e92fc9904f73"
  },
  {
   "cell_type": "code",
   "outputs": [
    {
     "data": {
      "text/plain": "((159, 5), (159,))"
     },
     "execution_count": 56,
     "metadata": {},
     "output_type": "execute_result"
    }
   ],
   "source": [
    "featureDF = fishDF[fishDF.columns[1:]]\n",
    "targetSR = fishDF[fishDF.columns[0]]\n",
    "\n",
    "featureDF.shape, targetSR.shape"
   ],
   "metadata": {
    "collapsed": false,
    "ExecuteTime": {
     "end_time": "2024-03-04T05:39:25.944166400Z",
     "start_time": "2024-03-04T05:39:25.914266500Z"
    }
   },
   "id": "f750ebd14a2a7cf1",
   "execution_count": 56
  },
  {
   "cell_type": "code",
   "outputs": [
    {
     "data": {
      "text/plain": "LabelEncoder()",
      "text/html": "<style>#sk-container-id-5 {color: black;}#sk-container-id-5 pre{padding: 0;}#sk-container-id-5 div.sk-toggleable {background-color: white;}#sk-container-id-5 label.sk-toggleable__label {cursor: pointer;display: block;width: 100%;margin-bottom: 0;padding: 0.3em;box-sizing: border-box;text-align: center;}#sk-container-id-5 label.sk-toggleable__label-arrow:before {content: \"▸\";float: left;margin-right: 0.25em;color: #696969;}#sk-container-id-5 label.sk-toggleable__label-arrow:hover:before {color: black;}#sk-container-id-5 div.sk-estimator:hover label.sk-toggleable__label-arrow:before {color: black;}#sk-container-id-5 div.sk-toggleable__content {max-height: 0;max-width: 0;overflow: hidden;text-align: left;background-color: #f0f8ff;}#sk-container-id-5 div.sk-toggleable__content pre {margin: 0.2em;color: black;border-radius: 0.25em;background-color: #f0f8ff;}#sk-container-id-5 input.sk-toggleable__control:checked~div.sk-toggleable__content {max-height: 200px;max-width: 100%;overflow: auto;}#sk-container-id-5 input.sk-toggleable__control:checked~label.sk-toggleable__label-arrow:before {content: \"▾\";}#sk-container-id-5 div.sk-estimator input.sk-toggleable__control:checked~label.sk-toggleable__label {background-color: #d4ebff;}#sk-container-id-5 div.sk-label input.sk-toggleable__control:checked~label.sk-toggleable__label {background-color: #d4ebff;}#sk-container-id-5 input.sk-hidden--visually {border: 0;clip: rect(1px 1px 1px 1px);clip: rect(1px, 1px, 1px, 1px);height: 1px;margin: -1px;overflow: hidden;padding: 0;position: absolute;width: 1px;}#sk-container-id-5 div.sk-estimator {font-family: monospace;background-color: #f0f8ff;border: 1px dotted black;border-radius: 0.25em;box-sizing: border-box;margin-bottom: 0.5em;}#sk-container-id-5 div.sk-estimator:hover {background-color: #d4ebff;}#sk-container-id-5 div.sk-parallel-item::after {content: \"\";width: 100%;border-bottom: 1px solid gray;flex-grow: 1;}#sk-container-id-5 div.sk-label:hover label.sk-toggleable__label {background-color: #d4ebff;}#sk-container-id-5 div.sk-serial::before {content: \"\";position: absolute;border-left: 1px solid gray;box-sizing: border-box;top: 0;bottom: 0;left: 50%;z-index: 0;}#sk-container-id-5 div.sk-serial {display: flex;flex-direction: column;align-items: center;background-color: white;padding-right: 0.2em;padding-left: 0.2em;position: relative;}#sk-container-id-5 div.sk-item {position: relative;z-index: 1;}#sk-container-id-5 div.sk-parallel {display: flex;align-items: stretch;justify-content: center;background-color: white;position: relative;}#sk-container-id-5 div.sk-item::before, #sk-container-id-5 div.sk-parallel-item::before {content: \"\";position: absolute;border-left: 1px solid gray;box-sizing: border-box;top: 0;bottom: 0;left: 50%;z-index: -1;}#sk-container-id-5 div.sk-parallel-item {display: flex;flex-direction: column;z-index: 1;position: relative;background-color: white;}#sk-container-id-5 div.sk-parallel-item:first-child::after {align-self: flex-end;width: 50%;}#sk-container-id-5 div.sk-parallel-item:last-child::after {align-self: flex-start;width: 50%;}#sk-container-id-5 div.sk-parallel-item:only-child::after {width: 0;}#sk-container-id-5 div.sk-dashed-wrapped {border: 1px dashed gray;margin: 0 0.4em 0.5em 0.4em;box-sizing: border-box;padding-bottom: 0.4em;background-color: white;}#sk-container-id-5 div.sk-label label {font-family: monospace;font-weight: bold;display: inline-block;line-height: 1.2em;}#sk-container-id-5 div.sk-label-container {text-align: center;}#sk-container-id-5 div.sk-container {/* jupyter's `normalize.less` sets `[hidden] { display: none; }` but bootstrap.min.css set `[hidden] { display: none !important; }` so we also need the `!important` here to be able to override the default hidden behavior on the sphinx rendered scikit-learn.org. See: https://github.com/scikit-learn/scikit-learn/issues/21755 */display: inline-block !important;position: relative;}#sk-container-id-5 div.sk-text-repr-fallback {display: none;}</style><div id=\"sk-container-id-5\" class=\"sk-top-container\"><div class=\"sk-text-repr-fallback\"><pre>LabelEncoder()</pre><b>In a Jupyter environment, please rerun this cell to show the HTML representation or trust the notebook. <br />On GitHub, the HTML representation is unable to render, please try loading this page with nbviewer.org.</b></div><div class=\"sk-container\" hidden><div class=\"sk-item\"><div class=\"sk-estimator sk-toggleable\"><input class=\"sk-toggleable__control sk-hidden--visually\" id=\"sk-estimator-id-5\" type=\"checkbox\" checked><label for=\"sk-estimator-id-5\" class=\"sk-toggleable__label sk-toggleable__label-arrow\">LabelEncoder</label><div class=\"sk-toggleable__content\"><pre>LabelEncoder()</pre></div></div></div></div></div>"
     },
     "execution_count": 57,
     "metadata": {},
     "output_type": "execute_result"
    }
   ],
   "source": [
    "from sklearn.preprocessing import LabelEncoder\n",
    "\n",
    "encoder = LabelEncoder()\n",
    "encoder.fit(targetSR)"
   ],
   "metadata": {
    "collapsed": false,
    "ExecuteTime": {
     "end_time": "2024-03-04T05:39:26.003328200Z",
     "start_time": "2024-03-04T05:39:25.932206500Z"
    }
   },
   "id": "1b4939c3e5f603c1",
   "execution_count": 57
  },
  {
   "cell_type": "code",
   "outputs": [
    {
     "name": "stdout",
     "output_type": "stream",
     "text": [
      "[0 0 0 0 0 0 0 0 0 0 0 0 0 0 0 0 0 0 0 0 0 0 0 0 0 0 0 0 0 0 0 0 0 0 0 4 4\n",
      " 4 4 4 4 4 4 4 4 4 4 4 4 4 4 4 4 4 4 6 6 6 6 6 6 1 1 1 1 1 1 1 1 1 1 1 2 2\n",
      " 2 2 2 2 2 2 2 2 2 2 2 2 2 2 2 2 2 2 2 2 2 2 2 2 2 2 2 2 2 2 2 2 2 2 2 2 2\n",
      " 2 2 2 2 2 2 2 2 2 2 2 2 2 2 2 2 2 3 3 3 3 3 3 3 3 3 3 3 3 3 3 3 3 3 5 5 5\n",
      " 5 5 5 5 5 5 5 5 5 5 5]\n"
     ]
    }
   ],
   "source": [
    "targetArr = encoder.transform(targetSR)\n",
    "print(targetArr)"
   ],
   "metadata": {
    "collapsed": false,
    "ExecuteTime": {
     "end_time": "2024-03-04T05:39:26.073975600Z",
     "start_time": "2024-03-04T05:39:25.952140600Z"
    }
   },
   "id": "8182ae1024fb0b61",
   "execution_count": 58
  },
  {
   "cell_type": "code",
   "outputs": [
    {
     "data": {
      "text/plain": "array(['Bream', 'Bream', 'Bream', 'Bream', 'Bream', 'Bream', 'Bream',\n       'Bream', 'Bream', 'Bream', 'Bream', 'Bream', 'Bream', 'Bream',\n       'Bream', 'Bream', 'Bream', 'Bream', 'Bream', 'Bream', 'Bream',\n       'Bream', 'Bream', 'Bream', 'Bream', 'Bream', 'Bream', 'Bream',\n       'Bream', 'Bream', 'Bream', 'Bream', 'Bream', 'Bream', 'Bream',\n       'Roach', 'Roach', 'Roach', 'Roach', 'Roach', 'Roach', 'Roach',\n       'Roach', 'Roach', 'Roach', 'Roach', 'Roach', 'Roach', 'Roach',\n       'Roach', 'Roach', 'Roach', 'Roach', 'Roach', 'Roach', 'Whitefish',\n       'Whitefish', 'Whitefish', 'Whitefish', 'Whitefish', 'Whitefish',\n       'Parkki', 'Parkki', 'Parkki', 'Parkki', 'Parkki', 'Parkki',\n       'Parkki', 'Parkki', 'Parkki', 'Parkki', 'Parkki', 'Perch', 'Perch',\n       'Perch', 'Perch', 'Perch', 'Perch', 'Perch', 'Perch', 'Perch',\n       'Perch', 'Perch', 'Perch', 'Perch', 'Perch', 'Perch', 'Perch',\n       'Perch', 'Perch', 'Perch', 'Perch', 'Perch', 'Perch', 'Perch',\n       'Perch', 'Perch', 'Perch', 'Perch', 'Perch', 'Perch', 'Perch',\n       'Perch', 'Perch', 'Perch', 'Perch', 'Perch', 'Perch', 'Perch',\n       'Perch', 'Perch', 'Perch', 'Perch', 'Perch', 'Perch', 'Perch',\n       'Perch', 'Perch', 'Perch', 'Perch', 'Perch', 'Perch', 'Perch',\n       'Perch', 'Perch', 'Perch', 'Perch', 'Perch', 'Pike', 'Pike',\n       'Pike', 'Pike', 'Pike', 'Pike', 'Pike', 'Pike', 'Pike', 'Pike',\n       'Pike', 'Pike', 'Pike', 'Pike', 'Pike', 'Pike', 'Pike', 'Smelt',\n       'Smelt', 'Smelt', 'Smelt', 'Smelt', 'Smelt', 'Smelt', 'Smelt',\n       'Smelt', 'Smelt', 'Smelt', 'Smelt', 'Smelt', 'Smelt'], dtype=object)"
     },
     "execution_count": 59,
     "metadata": {},
     "output_type": "execute_result"
    }
   ],
   "source": [
    "encoder.inverse_transform(targetArr)"
   ],
   "metadata": {
    "collapsed": false,
    "ExecuteTime": {
     "end_time": "2024-03-04T05:39:26.141722100Z",
     "start_time": "2024-03-04T05:39:26.037292900Z"
    }
   },
   "id": "4709b8820acc48fb",
   "execution_count": 59
  },
  {
   "cell_type": "code",
   "outputs": [
    {
     "data": {
      "text/plain": "7"
     },
     "execution_count": 60,
     "metadata": {},
     "output_type": "execute_result"
    }
   ],
   "source": [
    "# 타겟의 클래스 수 확인\n",
    "targetSR.nunique()"
   ],
   "metadata": {
    "collapsed": false,
    "ExecuteTime": {
     "end_time": "2024-03-04T05:39:26.208823Z",
     "start_time": "2024-03-04T05:39:26.142718300Z"
    }
   },
   "id": "afe46a6db7f67040",
   "execution_count": 60
  },
  {
   "cell_type": "code",
   "outputs": [
    {
     "data": {
      "text/plain": "Species\nPerch        35.220126\nBream        22.012579\nRoach        12.578616\nPike         10.691824\nSmelt         8.805031\nParkki        6.918239\nWhitefish     3.773585\nName: count, dtype: float64"
     },
     "execution_count": 61,
     "metadata": {},
     "output_type": "execute_result"
    }
   ],
   "source": [
    "# 타겟 클래스 별 데이터 수 확인\n",
    "targetSR.value_counts() / targetSR.shape[0] * 100"
   ],
   "metadata": {
    "collapsed": false,
    "ExecuteTime": {
     "end_time": "2024-03-04T05:39:26.272621Z",
     "start_time": "2024-03-04T05:39:26.214801400Z"
    }
   },
   "id": "83977761431163d0",
   "execution_count": 61
  },
  {
   "cell_type": "markdown",
   "source": [
    "(2-2) 학습용, 테스트용 데이터셋 준비"
   ],
   "metadata": {
    "collapsed": false
   },
   "id": "a6e770fdba33e6ff"
  },
  {
   "cell_type": "code",
   "outputs": [],
   "source": [
    "from sklearn.model_selection import train_test_split"
   ],
   "metadata": {
    "collapsed": false,
    "ExecuteTime": {
     "end_time": "2024-03-04T05:39:26.299520900Z",
     "start_time": "2024-03-04T05:39:26.251679700Z"
    }
   },
   "id": "9eb37c705f595c1b",
   "execution_count": 62
  },
  {
   "cell_type": "code",
   "outputs": [],
   "source": [
    "x_train, x_test, y_train, y_test = train_test_split(featureDF, pd.Series(targetArr), stratify=targetSR, test_size=.3, random_state=11)"
   ],
   "metadata": {
    "collapsed": false,
    "ExecuteTime": {
     "end_time": "2024-03-04T05:39:26.336394700Z",
     "start_time": "2024-03-04T05:39:26.306497700Z"
    }
   },
   "id": "7c57c68644384bc0",
   "execution_count": 63
  },
  {
   "cell_type": "code",
   "outputs": [
    {
     "data": {
      "text/plain": "((111, 5), (111,), (48, 5), (48,))"
     },
     "execution_count": 64,
     "metadata": {},
     "output_type": "execute_result"
    }
   ],
   "source": [
    "x_train.shape, y_train.shape, x_test.shape, y_test.shape"
   ],
   "metadata": {
    "collapsed": false,
    "ExecuteTime": {
     "end_time": "2024-03-04T05:39:26.377258300Z",
     "start_time": "2024-03-04T05:39:26.323439100Z"
    }
   },
   "id": "b6cf7f41f663e82f",
   "execution_count": 64
  },
  {
   "cell_type": "markdown",
   "source": [
    "(3) 학습 진행"
   ],
   "metadata": {
    "collapsed": false
   },
   "id": "edc07871a5b874cc"
  },
  {
   "cell_type": "code",
   "outputs": [],
   "source": [
    "from sklearn.linear_model import LogisticRegression"
   ],
   "metadata": {
    "collapsed": false,
    "ExecuteTime": {
     "end_time": "2024-03-04T05:39:26.413657700Z",
     "start_time": "2024-03-04T05:39:26.345366800Z"
    }
   },
   "id": "b07980791b6d11e2",
   "execution_count": 65
  },
  {
   "cell_type": "code",
   "outputs": [
    {
     "data": {
      "text/plain": "LogisticRegression(max_iter=20000, solver='liblinear')",
      "text/html": "<style>#sk-container-id-6 {color: black;}#sk-container-id-6 pre{padding: 0;}#sk-container-id-6 div.sk-toggleable {background-color: white;}#sk-container-id-6 label.sk-toggleable__label {cursor: pointer;display: block;width: 100%;margin-bottom: 0;padding: 0.3em;box-sizing: border-box;text-align: center;}#sk-container-id-6 label.sk-toggleable__label-arrow:before {content: \"▸\";float: left;margin-right: 0.25em;color: #696969;}#sk-container-id-6 label.sk-toggleable__label-arrow:hover:before {color: black;}#sk-container-id-6 div.sk-estimator:hover label.sk-toggleable__label-arrow:before {color: black;}#sk-container-id-6 div.sk-toggleable__content {max-height: 0;max-width: 0;overflow: hidden;text-align: left;background-color: #f0f8ff;}#sk-container-id-6 div.sk-toggleable__content pre {margin: 0.2em;color: black;border-radius: 0.25em;background-color: #f0f8ff;}#sk-container-id-6 input.sk-toggleable__control:checked~div.sk-toggleable__content {max-height: 200px;max-width: 100%;overflow: auto;}#sk-container-id-6 input.sk-toggleable__control:checked~label.sk-toggleable__label-arrow:before {content: \"▾\";}#sk-container-id-6 div.sk-estimator input.sk-toggleable__control:checked~label.sk-toggleable__label {background-color: #d4ebff;}#sk-container-id-6 div.sk-label input.sk-toggleable__control:checked~label.sk-toggleable__label {background-color: #d4ebff;}#sk-container-id-6 input.sk-hidden--visually {border: 0;clip: rect(1px 1px 1px 1px);clip: rect(1px, 1px, 1px, 1px);height: 1px;margin: -1px;overflow: hidden;padding: 0;position: absolute;width: 1px;}#sk-container-id-6 div.sk-estimator {font-family: monospace;background-color: #f0f8ff;border: 1px dotted black;border-radius: 0.25em;box-sizing: border-box;margin-bottom: 0.5em;}#sk-container-id-6 div.sk-estimator:hover {background-color: #d4ebff;}#sk-container-id-6 div.sk-parallel-item::after {content: \"\";width: 100%;border-bottom: 1px solid gray;flex-grow: 1;}#sk-container-id-6 div.sk-label:hover label.sk-toggleable__label {background-color: #d4ebff;}#sk-container-id-6 div.sk-serial::before {content: \"\";position: absolute;border-left: 1px solid gray;box-sizing: border-box;top: 0;bottom: 0;left: 50%;z-index: 0;}#sk-container-id-6 div.sk-serial {display: flex;flex-direction: column;align-items: center;background-color: white;padding-right: 0.2em;padding-left: 0.2em;position: relative;}#sk-container-id-6 div.sk-item {position: relative;z-index: 1;}#sk-container-id-6 div.sk-parallel {display: flex;align-items: stretch;justify-content: center;background-color: white;position: relative;}#sk-container-id-6 div.sk-item::before, #sk-container-id-6 div.sk-parallel-item::before {content: \"\";position: absolute;border-left: 1px solid gray;box-sizing: border-box;top: 0;bottom: 0;left: 50%;z-index: -1;}#sk-container-id-6 div.sk-parallel-item {display: flex;flex-direction: column;z-index: 1;position: relative;background-color: white;}#sk-container-id-6 div.sk-parallel-item:first-child::after {align-self: flex-end;width: 50%;}#sk-container-id-6 div.sk-parallel-item:last-child::after {align-self: flex-start;width: 50%;}#sk-container-id-6 div.sk-parallel-item:only-child::after {width: 0;}#sk-container-id-6 div.sk-dashed-wrapped {border: 1px dashed gray;margin: 0 0.4em 0.5em 0.4em;box-sizing: border-box;padding-bottom: 0.4em;background-color: white;}#sk-container-id-6 div.sk-label label {font-family: monospace;font-weight: bold;display: inline-block;line-height: 1.2em;}#sk-container-id-6 div.sk-label-container {text-align: center;}#sk-container-id-6 div.sk-container {/* jupyter's `normalize.less` sets `[hidden] { display: none; }` but bootstrap.min.css set `[hidden] { display: none !important; }` so we also need the `!important` here to be able to override the default hidden behavior on the sphinx rendered scikit-learn.org. See: https://github.com/scikit-learn/scikit-learn/issues/21755 */display: inline-block !important;position: relative;}#sk-container-id-6 div.sk-text-repr-fallback {display: none;}</style><div id=\"sk-container-id-6\" class=\"sk-top-container\"><div class=\"sk-text-repr-fallback\"><pre>LogisticRegression(max_iter=20000, solver=&#x27;liblinear&#x27;)</pre><b>In a Jupyter environment, please rerun this cell to show the HTML representation or trust the notebook. <br />On GitHub, the HTML representation is unable to render, please try loading this page with nbviewer.org.</b></div><div class=\"sk-container\" hidden><div class=\"sk-item\"><div class=\"sk-estimator sk-toggleable\"><input class=\"sk-toggleable__control sk-hidden--visually\" id=\"sk-estimator-id-6\" type=\"checkbox\" checked><label for=\"sk-estimator-id-6\" class=\"sk-toggleable__label sk-toggleable__label-arrow\">LogisticRegression</label><div class=\"sk-toggleable__content\"><pre>LogisticRegression(max_iter=20000, solver=&#x27;liblinear&#x27;)</pre></div></div></div></div></div>"
     },
     "execution_count": 66,
     "metadata": {},
     "output_type": "execute_result"
    }
   ],
   "source": [
    "# 모델 인스턴스 생성 및 학습\n",
    "# - max_iter : 처음부터 끝까지 몇 번 공부할 것인가\n",
    "# - solver   : 공부 방법\n",
    "model = LogisticRegression(max_iter=20000, solver='liblinear')\n",
    "model.fit(x_train, y_train)"
   ],
   "metadata": {
    "collapsed": false,
    "ExecuteTime": {
     "end_time": "2024-03-04T05:39:26.443281500Z",
     "start_time": "2024-03-04T05:39:26.388221500Z"
    }
   },
   "id": "84ec8e8d5b3944ea",
   "execution_count": 66
  },
  {
   "cell_type": "code",
   "outputs": [
    {
     "name": "stdout",
     "output_type": "stream",
     "text": [
      "classes_ : [0 1 2 3 4 5 6]\n",
      "feature_names_in_ : ['Weight' 'Length' 'Diagonal' 'Height' 'Width']\n",
      "max_iter : 20000\n",
      "coef_ : [[ 1.28185221e-02 -1.63664985e+00  8.26097001e-01  1.38446102e+00\n",
      "  -3.70035510e-01]\n",
      " [-2.08527197e-02  3.47311157e-01 -9.73420450e-01  2.17759317e+00\n",
      "   3.60579992e-02]\n",
      " [-1.59210283e-03  2.36983999e+00 -2.47819753e+00 -5.33154928e-02\n",
      "   2.23541731e+00]\n",
      " [ 9.95091272e-03  2.48444967e-01  1.51723050e-01 -1.92391373e+00\n",
      "  -8.14114467e-01]\n",
      " [-1.26604339e-02 -1.70417943e+00  1.51385840e+00 -4.21818330e-01\n",
      "   1.61978657e+00]\n",
      " [-7.12456486e-02  3.90485479e-01  1.61167323e-01 -1.58233266e+00\n",
      "  -6.04769548e-01]\n",
      " [ 5.90142729e-03 -3.49987673e-01  1.24951040e-01 -1.70126127e-01\n",
      "   4.52752439e-01]]\n"
     ]
    }
   ],
   "source": [
    "# 모델 파라미터 확인\n",
    "print(f'classes_ : {model.classes_}')\n",
    "print(f'feature_names_in_ : {model.feature_names_in_}')\n",
    "print(f'max_iter : {model.max_iter}')\n",
    "print(f'coef_ : {model.coef_}\\n')"
   ],
   "metadata": {
    "collapsed": false,
    "ExecuteTime": {
     "end_time": "2024-03-04T05:39:26.605796400Z",
     "start_time": "2024-03-04T05:39:26.426370100Z"
    }
   },
   "id": "a30317a03999fba5",
   "execution_count": 67
  },
  {
   "cell_type": "markdown",
   "source": [
    "(4) 평가"
   ],
   "metadata": {
    "collapsed": false
   },
   "id": "2b69d84995c0e77f"
  },
  {
   "cell_type": "code",
   "outputs": [
    {
     "name": "stdout",
     "output_type": "stream",
     "text": [
      "[Train Score] 0.963963963963964\n",
      "[Test Score] 0.9375\n"
     ]
    }
   ],
   "source": [
    "print(f'[Train Score] {model.score(x_train, y_train)}\\n[Test Score] {model.score(x_test, y_test)}')"
   ],
   "metadata": {
    "collapsed": false,
    "ExecuteTime": {
     "end_time": "2024-03-04T05:39:26.623961700Z",
     "start_time": "2024-03-04T05:39:26.530161400Z"
    }
   },
   "id": "a775ee0fc2866546",
   "execution_count": 68
  },
  {
   "cell_type": "markdown",
   "source": [
    "(5) 모델 활용 <hr>"
   ],
   "metadata": {
    "collapsed": false
   },
   "id": "227929e0ffb14101"
  },
  {
   "cell_type": "code",
   "outputs": [
    {
     "data": {
      "text/plain": "(array([0]), 0)"
     },
     "execution_count": 69,
     "metadata": {},
     "output_type": "execute_result"
    }
   ],
   "source": [
    "y_pred = model.predict(x_test.iloc[[0]])\n",
    "y_pred, y_test.iloc[0]"
   ],
   "metadata": {
    "collapsed": false,
    "ExecuteTime": {
     "end_time": "2024-03-04T05:39:26.707103800Z",
     "start_time": "2024-03-04T05:39:26.615625700Z"
    }
   },
   "id": "15acb309520f0f72",
   "execution_count": 69
  },
  {
   "cell_type": "code",
   "outputs": [
    {
     "data": {
      "text/plain": "array([[9.69808851e-01, 1.94077016e-03, 6.24174785e-04, 2.39912738e-07,\n        1.78571301e-03, 4.53756032e-26, 2.58402507e-02]])"
     },
     "execution_count": 70,
     "metadata": {},
     "output_type": "execute_result"
    }
   ],
   "source": [
    "model.predict_proba(x_test.iloc[[0]])   # 각 타겟 클래스 별 답일 가능성"
   ],
   "metadata": {
    "collapsed": false,
    "ExecuteTime": {
     "end_time": "2024-03-04T05:39:26.731024100Z",
     "start_time": "2024-03-04T05:39:26.643850400Z"
    }
   },
   "id": "4c3f5a8eae6f4857",
   "execution_count": 70
  },
  {
   "cell_type": "code",
   "outputs": [
    {
     "name": "stdout",
     "output_type": "stream",
     "text": [
      "[0 1 2 3 4 5 6]\n"
     ]
    },
    {
     "data": {
      "text/plain": "(array([[0.97 , 0.002, 0.001, 0.   , 0.002, 0.   , 0.026],\n        [0.156, 0.719, 0.041, 0.   , 0.072, 0.   , 0.012],\n        [0.966, 0.012, 0.001, 0.   , 0.003, 0.   , 0.018],\n        [0.   , 0.018, 0.778, 0.005, 0.174, 0.001, 0.025],\n        [0.   , 0.   , 0.061, 0.93 , 0.   , 0.   , 0.009]]),\n [0, 1, 0, 2, 3])"
     },
     "execution_count": 71,
     "metadata": {},
     "output_type": "execute_result"
    }
   ],
   "source": [
    "# 5개 데이터에 대한 생선 분류 예측\n",
    "print(model.classes_)   # 각 클래스의 이름 출력\n",
    "np.round(model.predict_proba(x_test.iloc[:5]), 3), y_test[:5].to_list()"
   ],
   "metadata": {
    "collapsed": false,
    "ExecuteTime": {
     "end_time": "2024-03-04T05:39:26.788830400Z",
     "start_time": "2024-03-04T05:39:26.716076Z"
    }
   },
   "id": "2ce52ac9b80ae140",
   "execution_count": 71
  },
  {
   "cell_type": "code",
   "outputs": [
    {
     "data": {
      "text/plain": "{'Pred Y': [0, 1, 0, 2, 3], 'True Y': [0, 1, 0, 2, 3]}"
     },
     "execution_count": 72,
     "metadata": {},
     "output_type": "execute_result"
    }
   ],
   "source": [
    "result = model.predict_proba(x_test.iloc[:5]).argmax(axis=1)\n",
    "data = {'Pred Y': [model.classes_[idx] for idx in result],\n",
    "        'True Y': y_test[:5].to_list()}\n",
    "data"
   ],
   "metadata": {
    "collapsed": false,
    "ExecuteTime": {
     "end_time": "2024-03-04T05:39:26.808764300Z",
     "start_time": "2024-03-04T05:39:26.761921Z"
    }
   },
   "id": "cef136b7f34a0af4",
   "execution_count": 72
  },
  {
   "cell_type": "markdown",
   "source": [
    "(6) 모델 성능 평가 <hr>\n",
    "- 정확도\n",
    "- 정밀도\n",
    "- 재현율\n",
    "- F1-Score\n",
    "- Confusion Matrics\n",
    "- Classification Report"
   ],
   "metadata": {
    "collapsed": false
   },
   "id": "67ab1f1557b40cb0"
  },
  {
   "cell_type": "code",
   "outputs": [],
   "source": [
    "from sklearn.metrics import accuracy_score, f1_score\n",
    "from sklearn.metrics import precision_score, recall_score\n",
    "from sklearn.metrics import confusion_matrix, classification_report"
   ],
   "metadata": {
    "collapsed": false,
    "ExecuteTime": {
     "end_time": "2024-03-04T05:39:26.857135600Z",
     "start_time": "2024-03-04T05:39:26.812750700Z"
    }
   },
   "id": "742e14298fc8a6d5",
   "execution_count": 73
  },
  {
   "cell_type": "code",
   "outputs": [
    {
     "name": "stdout",
     "output_type": "stream",
     "text": [
      "              precision    recall  f1-score   support\n",
      "\n",
      "           0       1.00      1.00      1.00        11\n",
      "           1       1.00      1.00      1.00         3\n",
      "           2       0.85      1.00      0.92        17\n",
      "           3       1.00      1.00      1.00         5\n",
      "           4       1.00      0.83      0.91         6\n",
      "           5       1.00      1.00      1.00         4\n",
      "           6       0.00      0.00      0.00         2\n",
      "\n",
      "    accuracy                           0.94        48\n",
      "   macro avg       0.84      0.83      0.83        48\n",
      "weighted avg       0.91      0.94      0.92        48\n"
     ]
    }
   ],
   "source": [
    "print(classification_report(y_test, model.predict(x_test), zero_division=0))    # (정답, 예측값)"
   ],
   "metadata": {
    "collapsed": false,
    "ExecuteTime": {
     "end_time": "2024-03-04T05:39:26.891745600Z",
     "start_time": "2024-03-04T05:39:26.862352Z"
    }
   },
   "id": "ee53374e9e24aa6d",
   "execution_count": 74
  },
  {
   "cell_type": "code",
   "outputs": [
    {
     "data": {
      "text/plain": "0.9182534807534807"
     },
     "execution_count": 75,
     "metadata": {},
     "output_type": "execute_result"
    }
   ],
   "source": [
    "f1_score(y_test, model.predict(x_test), average='weighted')                     # (정답, 예측값, 옵션)"
   ],
   "metadata": {
    "collapsed": false,
    "ExecuteTime": {
     "end_time": "2024-03-04T05:39:26.912746700Z",
     "start_time": "2024-03-04T05:39:26.879011200Z"
    }
   },
   "id": "9b0d7eaeb01d9586",
   "execution_count": 75
  },
  {
   "cell_type": "code",
   "outputs": [
    {
     "data": {
      "text/plain": "0.9375"
     },
     "execution_count": 76,
     "metadata": {},
     "output_type": "execute_result"
    }
   ],
   "source": [
    "recall_score(y_test, model.predict(x_test), average='micro')                 # (정답, 예측값, 옵션)"
   ],
   "metadata": {
    "collapsed": false,
    "ExecuteTime": {
     "end_time": "2024-03-04T05:39:26.913749100Z",
     "start_time": "2024-03-04T05:39:26.894817Z"
    }
   },
   "id": "24130a7d9e85b91",
   "execution_count": 76
  },
  {
   "cell_type": "code",
   "outputs": [
    {
     "data": {
      "text/plain": "array([[11,  0,  0,  0,  0,  0,  0],\n       [ 0,  3,  0,  0,  0,  0,  0],\n       [ 0,  0, 17,  0,  0,  0,  0],\n       [ 0,  0,  0,  5,  0,  0,  0],\n       [ 0,  0,  1,  0,  5,  0,  0],\n       [ 0,  0,  0,  0,  0,  4,  0],\n       [ 0,  0,  2,  0,  0,  0,  0]], dtype=int64)"
     },
     "execution_count": 77,
     "metadata": {},
     "output_type": "execute_result"
    }
   ],
   "source": [
    "confusion_matrix(y_test, model.predict(x_test))"
   ],
   "metadata": {
    "collapsed": false,
    "ExecuteTime": {
     "end_time": "2024-03-04T05:39:26.942024800Z",
     "start_time": "2024-03-04T05:39:26.915801600Z"
    }
   },
   "id": "9c2bbb028f3970de",
   "execution_count": 77
  },
  {
   "cell_type": "code",
   "outputs": [
    {
     "data": {
      "text/plain": "(array([0, 1, 2, 3, 4, 5, 6]),\n array(['Bream', 'Parkki', 'Perch', 'Pike', 'Roach', 'Smelt', 'Whitefish'],\n       dtype=object))"
     },
     "execution_count": 80,
     "metadata": {},
     "output_type": "execute_result"
    }
   ],
   "source": [
    "model.classes_, encoder.inverse_transform(model.classes_)"
   ],
   "metadata": {
    "collapsed": false,
    "ExecuteTime": {
     "end_time": "2024-03-04T05:39:39.238647100Z",
     "start_time": "2024-03-04T05:39:39.199777400Z"
    }
   },
   "id": "38d82a148865dc53",
   "execution_count": 80
  },
  {
   "cell_type": "code",
   "outputs": [
    {
     "name": "stdout",
     "output_type": "stream",
     "text": [
      "타겟 라벨  [0 1 2 3 4 5 6]\n",
      "타겟 문자열 라벨  ['Bream' 'Parkki' 'Perch' 'Pike' 'Roach' 'Smelt' 'Whitefish']\n"
     ]
    }
   ],
   "source": [
    "print('타겟 라벨 ', model.classes_)\n",
    "labels = encoder.inverse_transform(model.classes_)\n",
    "print('타겟 문자열 라벨 ', labels)"
   ],
   "metadata": {
    "collapsed": false,
    "ExecuteTime": {
     "end_time": "2024-03-04T05:39:27.042762600Z",
     "start_time": "2024-03-04T05:39:26.990854Z"
    }
   },
   "id": "ddd7e7224bc19a5e",
   "execution_count": 79
  },
  {
   "cell_type": "code",
   "outputs": [
    {
     "data": {
      "text/plain": "<Figure size 640x480 with 2 Axes>",
      "image/png": "[encoded data removed]"
     },
     "metadata": {},
     "output_type": "display_data"
    }
   ],
   "source": [
    "# confusion matrix 시각화\n",
    "from sklearn.metrics import confusion_matrix, ConfusionMatrixDisplay\n",
    "import matplotlib.pyplot as plt\n",
    "\n",
    "ret_matrix = confusion_matrix(y_test, model.predict(x_test))\n",
    "conplot = ConfusionMatrixDisplay(ret_matrix)    # sklearn.metrics._plot.confusion_matrix.ConfusionMatrixDisplay\n",
    "conplot.plot()\n",
    "plt.show()"
   ],
   "metadata": {
    "collapsed": false,
    "ExecuteTime": {
     "end_time": "2024-03-04T05:42:02.355718400Z",
     "start_time": "2024-03-04T05:42:02.186874400Z"
    }
   },
   "id": "688c39b1b890b04",
   "execution_count": 82
  },
  {
   "cell_type": "code",
   "outputs": [],
   "source": [],
   "metadata": {
    "collapsed": false
   },
   "id": "aaf5a3ea906819a6"
  }
 ],
 "metadata": {
  "kernelspec": {
   "display_name": "Python 3",
   "language": "python",
   "name": "python3"
  },
  "language_info": {
   "codemirror_mode": {
    "name": "ipython",
    "version": 2
   },
   "file_extension": ".py",
   "mimetype": "text/x-python",
   "name": "python",
   "nbconvert_exporter": "python",
   "pygments_lexer": "ipython2",
   "version": "2.7.6"
  }
 },
 "nbformat": 4,
 "nbformat_minor": 5
}
