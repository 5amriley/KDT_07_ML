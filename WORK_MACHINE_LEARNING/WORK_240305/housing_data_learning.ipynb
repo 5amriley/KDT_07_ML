{
 "cells": [
  {
   "cell_type": "markdown",
   "source": [
    "### HousingData 학습\n",
    "- 2024/03/05 과제\n",
    "- 데이터 : Housing Data Set\n",
    "    - Concerns housing values in suburbs of Boston.\n",
    "- 타겟 : MEDV\n",
    "- 피쳐 : 나머지\n",
    "- 학습유형 : 지도학습 + 회귀 (LinearRegression, Ridge, Lasso)"
   ],
   "metadata": {
    "collapsed": false
   },
   "id": "aafa4412646a6818"
  },
  {
   "cell_type": "markdown",
   "source": [
    "Attribute Information:  \n",
    "1) CRIM : per capita crime rate by town  \n",
    "2) ZN : proportion of residential land zoned for lots over 25,000 sq. ft.  \n",
    "3) INDUS : proportion of non-retail business acres per town  \n",
    "4) CHAS : Charles River dummy variable (= 1 if tract bounds river; 0 otherwise)  \n",
    "5) NOX : nitric oxides concentration (parts per 10 million)  \n",
    "6) RM : average number of rooms per dwelling  \n",
    "7) AGE : proportion of owner-occupied units built prior to 1940  \n",
    "8) DIS : weighted distances to five Boston employment centres  \n",
    "9) RAD : index of accessibility to radial highways  \n",
    "10) TAX : full-value property-tax rate per &#36;10,000  \n",
    "11) B : 1000(Bk - 0.63)^2 where Bk is the proportion of blacks by town  \n",
    "12) LSTAT : \\% lower status of the population  \n",
    "13) MEDV : Median value of owner-occupied homes in $1000's  "
   ],
   "metadata": {
    "collapsed": false
   },
   "id": "e2d8bb8941925d95"
  },
  {
   "cell_type": "markdown",
   "source": [
    "(1) 모듈 로딩 및 데이터 준비 <hr>"
   ],
   "metadata": {
    "collapsed": false
   },
   "id": "7d97aa3596cf524"
  },
  {
   "cell_type": "code",
   "outputs": [],
   "source": [
    "import pandas as pd"
   ],
   "metadata": {
    "collapsed": false,
    "ExecuteTime": {
     "end_time": "2024-03-05T18:04:50.102723200Z",
     "start_time": "2024-03-05T18:04:48.446913700Z"
    }
   },
   "id": "87b6d4b3a758468a",
   "execution_count": 1
  },
  {
   "cell_type": "code",
   "outputs": [
    {
     "data": {
      "text/plain": "      CRIM    ZN  INDUS  CHAS    NOX     RM   AGE     DIS  RAD  TAX  PTRATIO  \\\n0  0.00632  18.0   2.31   0.0  0.538  6.575  65.2  4.0900    1  296     15.3   \n1  0.02731   0.0   7.07   0.0  0.469  6.421  78.9  4.9671    2  242     17.8   \n2  0.02729   0.0   7.07   0.0  0.469  7.185  61.1  4.9671    2  242     17.8   \n\n        B  LSTAT  MEDV  \n0  396.90   4.98  24.0  \n1  396.90   9.14  21.6  \n2  392.83   4.03  34.7  ",
      "text/html": "<div>\n<style scoped>\n    .dataframe tbody tr th:only-of-type {\n        vertical-align: middle;\n    }\n\n    .dataframe tbody tr th {\n        vertical-align: top;\n    }\n\n    .dataframe thead th {\n        text-align: right;\n    }\n</style>\n<table border=\"1\" class=\"dataframe\">\n  <thead>\n    <tr style=\"text-align: right;\">\n      <th></th>\n      <th>CRIM</th>\n      <th>ZN</th>\n      <th>INDUS</th>\n      <th>CHAS</th>\n      <th>NOX</th>\n      <th>RM</th>\n      <th>AGE</th>\n      <th>DIS</th>\n      <th>RAD</th>\n      <th>TAX</th>\n      <th>PTRATIO</th>\n      <th>B</th>\n      <th>LSTAT</th>\n      <th>MEDV</th>\n    </tr>\n  </thead>\n  <tbody>\n    <tr>\n      <th>0</th>\n      <td>0.00632</td>\n      <td>18.0</td>\n      <td>2.31</td>\n      <td>0.0</td>\n      <td>0.538</td>\n      <td>6.575</td>\n      <td>65.2</td>\n      <td>4.0900</td>\n      <td>1</td>\n      <td>296</td>\n      <td>15.3</td>\n      <td>396.90</td>\n      <td>4.98</td>\n      <td>24.0</td>\n    </tr>\n    <tr>\n      <th>1</th>\n      <td>0.02731</td>\n      <td>0.0</td>\n      <td>7.07</td>\n      <td>0.0</td>\n      <td>0.469</td>\n      <td>6.421</td>\n      <td>78.9</td>\n      <td>4.9671</td>\n      <td>2</td>\n      <td>242</td>\n      <td>17.8</td>\n      <td>396.90</td>\n      <td>9.14</td>\n      <td>21.6</td>\n    </tr>\n    <tr>\n      <th>2</th>\n      <td>0.02729</td>\n      <td>0.0</td>\n      <td>7.07</td>\n      <td>0.0</td>\n      <td>0.469</td>\n      <td>7.185</td>\n      <td>61.1</td>\n      <td>4.9671</td>\n      <td>2</td>\n      <td>242</td>\n      <td>17.8</td>\n      <td>392.83</td>\n      <td>4.03</td>\n      <td>34.7</td>\n    </tr>\n  </tbody>\n</table>\n</div>"
     },
     "execution_count": 2,
     "metadata": {},
     "output_type": "execute_result"
    }
   ],
   "source": [
    "housingDF = pd.read_csv('HousingData.csv')\n",
    "housingDF.head(3)"
   ],
   "metadata": {
    "collapsed": false,
    "ExecuteTime": {
     "end_time": "2024-03-05T18:04:50.148091400Z",
     "start_time": "2024-03-05T18:04:50.105713300Z"
    }
   },
   "id": "55d8d9ac327adf25",
   "execution_count": 2
  },
  {
   "cell_type": "markdown",
   "source": [
    "(2) 데이터 전처리 <hr>\n",
    "- 결측치, 중복값, 이상치"
   ],
   "metadata": {
    "collapsed": false
   },
   "id": "41e2a894d8f6f600"
  },
  {
   "cell_type": "code",
   "outputs": [
    {
     "name": "stdout",
     "output_type": "stream",
     "text": [
      "<class 'pandas.core.frame.DataFrame'>\n",
      "RangeIndex: 506 entries, 0 to 505\n",
      "Data columns (total 14 columns):\n",
      " #   Column   Non-Null Count  Dtype  \n",
      "---  ------   --------------  -----  \n",
      " 0   CRIM     486 non-null    float64\n",
      " 1   ZN       486 non-null    float64\n",
      " 2   INDUS    486 non-null    float64\n",
      " 3   CHAS     486 non-null    float64\n",
      " 4   NOX      506 non-null    float64\n",
      " 5   RM       506 non-null    float64\n",
      " 6   AGE      486 non-null    float64\n",
      " 7   DIS      506 non-null    float64\n",
      " 8   RAD      506 non-null    int64  \n",
      " 9   TAX      506 non-null    int64  \n",
      " 10  PTRATIO  506 non-null    float64\n",
      " 11  B        506 non-null    float64\n",
      " 12  LSTAT    486 non-null    float64\n",
      " 13  MEDV     506 non-null    float64\n",
      "dtypes: float64(12), int64(2)\n",
      "memory usage: 55.5 KB\n"
     ]
    }
   ],
   "source": [
    "housingDF.info()    # non-null count가 다름"
   ],
   "metadata": {
    "collapsed": false,
    "ExecuteTime": {
     "end_time": "2024-03-05T18:04:50.178986100Z",
     "start_time": "2024-03-05T18:04:50.137128100Z"
    }
   },
   "id": "2b7301ffe26bc4a5",
   "execution_count": 3
  },
  {
   "cell_type": "code",
   "outputs": [
    {
     "data": {
      "text/plain": "CRIM       20\nZN         20\nINDUS      20\nCHAS       20\nNOX         0\nRM          0\nAGE        20\nDIS         0\nRAD         0\nTAX         0\nPTRATIO     0\nB           0\nLSTAT      20\nMEDV        0\ninclude     0\ndtype: int64"
     },
     "execution_count": 15,
     "metadata": {},
     "output_type": "execute_result"
    }
   ],
   "source": [
    "housingDF.isna().sum()"
   ],
   "metadata": {
    "collapsed": false,
    "ExecuteTime": {
     "end_time": "2024-03-06T00:09:26.768075100Z",
     "start_time": "2024-03-06T00:09:26.755611300Z"
    }
   },
   "id": "9dc3eaeab997acb1",
   "execution_count": 15
  },
  {
   "cell_type": "code",
   "outputs": [
    {
     "data": {
      "text/plain": "CRIM     20\nZN       20\nINDUS    20\nCHAS     20\nAGE      20\nLSTAT    20\ndtype: int64"
     },
     "execution_count": 4,
     "metadata": {},
     "output_type": "execute_result"
    }
   ],
   "source": [
    "housingDF[['CRIM', 'ZN', 'INDUS', 'CHAS', 'AGE', 'LSTAT']].isna().sum()     # 각각 null 값이 20개씩 있음"
   ],
   "metadata": {
    "collapsed": false,
    "ExecuteTime": {
     "end_time": "2024-03-05T18:04:50.217858Z",
     "start_time": "2024-03-05T18:04:50.153074300Z"
    }
   },
   "id": "75378114d90a3233",
   "execution_count": 4
  },
  {
   "cell_type": "code",
   "outputs": [],
   "source": [
    "housingDF['include'] = True    # 학습 데이터셋 포함여부 컬럼 생성\n",
    "\n",
    "for col in ['CRIM', 'ZN', 'INDUS', 'CHAS', 'AGE', 'LSTAT']:\n",
    "    isna_mask = housingDF[col].isna()\n",
    "    housingDF.loc[isna_mask, 'include'] = False  # 결측값이 존재하면 'include' : False"
   ],
   "metadata": {
    "collapsed": false,
    "ExecuteTime": {
     "end_time": "2024-03-05T18:04:50.219866600Z",
     "start_time": "2024-03-05T18:04:50.173006700Z"
    }
   },
   "id": "d06e0a3bac04610d",
   "execution_count": 5
  },
  {
   "cell_type": "code",
   "outputs": [
    {
     "data": {
      "text/plain": "112"
     },
     "execution_count": 6,
     "metadata": {},
     "output_type": "execute_result"
    }
   ],
   "source": [
    "len(housingDF[housingDF.include == False])     # 결측치 존재하는 행이 총 112개... 꽤 많다."
   ],
   "metadata": {
    "collapsed": false,
    "ExecuteTime": {
     "end_time": "2024-03-05T18:04:50.219866600Z",
     "start_time": "2024-03-05T18:04:50.186962400Z"
    }
   },
   "id": "7507e97172f9abe4",
   "execution_count": 6
  },
  {
   "cell_type": "code",
   "outputs": [
    {
     "data": {
      "text/plain": "0"
     },
     "execution_count": 7,
     "metadata": {},
     "output_type": "execute_result"
    }
   ],
   "source": [
    "housingDF.duplicated().sum()    # 중복값은 없다."
   ],
   "metadata": {
    "collapsed": false,
    "ExecuteTime": {
     "end_time": "2024-03-05T18:04:50.256273900Z",
     "start_time": "2024-03-05T18:04:50.200915900Z"
    }
   },
   "id": "1e1c5526498f4410",
   "execution_count": 7
  },
  {
   "cell_type": "markdown",
   "source": [
    "(3) 기계학습 데이터셋 준비 <hr>"
   ],
   "metadata": {
    "collapsed": false
   },
   "id": "801888857e275928"
  },
  {
   "cell_type": "code",
   "outputs": [],
   "source": [
    "# 결측치 제외\n",
    "include_mask = housingDF.include == True\n",
    "housingDF2 = housingDF[include_mask].reset_index(drop=True)     # 결측치 제외한 데이터프레임 (인덱스 초기화)\n",
    "housingDF2 = housingDF2[housingDF2.columns[:-1]]                # 'include' 열 제외"
   ],
   "metadata": {
    "collapsed": false,
    "ExecuteTime": {
     "end_time": "2024-03-05T18:04:50.259261600Z",
     "start_time": "2024-03-05T18:04:50.217858Z"
    }
   },
   "id": "40cf4a14a3829a95",
   "execution_count": 8
  },
  {
   "cell_type": "code",
   "outputs": [
    {
     "data": {
      "text/plain": "CRIM       0\nZN         0\nINDUS      0\nCHAS       0\nNOX        0\nRM         0\nAGE        0\nDIS        0\nRAD        0\nTAX        0\nPTRATIO    0\nB          0\nLSTAT      0\nMEDV       0\ndtype: int64"
     },
     "execution_count": 9,
     "metadata": {},
     "output_type": "execute_result"
    }
   ],
   "source": [
    "housingDF2.isna().sum()     # 중복값 제외 완료"
   ],
   "metadata": {
    "collapsed": false,
    "ExecuteTime": {
     "end_time": "2024-03-05T18:04:50.260261700Z",
     "start_time": "2024-03-05T18:04:50.231829500Z"
    }
   },
   "id": "f9ebd757987804b9",
   "execution_count": 9
  },
  {
   "cell_type": "code",
   "outputs": [],
   "source": [
    "# 교차 검증 수행\n",
    "from sklearn.model_selection import KFold\n",
    "\n",
    "k_fold = KFold(n_splits=7)  # 7등분\n",
    "kf_datasets = k_fold.split(housingDF2)"
   ],
   "metadata": {
    "collapsed": false,
    "ExecuteTime": {
     "end_time": "2024-03-05T18:04:50.967078500Z",
     "start_time": "2024-03-05T18:04:50.247291700Z"
    }
   },
   "id": "4e5eba83038a35e2",
   "execution_count": 10
  },
  {
   "cell_type": "code",
   "outputs": [],
   "source": [
    "from sklearn.preprocessing import MinMaxScaler\n",
    "from sklearn.linear_model import LinearRegression, Ridge, Lasso\n",
    "\n",
    "train_score1, test_score1 = [], []\n",
    "train_score2, test_score2 = [], []\n",
    "train_score3, test_score3 = [], []\n",
    "\n",
    "for train_idx, test_idx in kf_datasets:     # train_idx : <class 'numpy.ndarray'>\n",
    "    # 학습용, 테스트용 데이터셋 분리\n",
    "    trainDF = housingDF2.iloc[train_idx]\n",
    "    testDF = housingDF2.iloc[test_idx]\n",
    "    \n",
    "    # 피쳐, 타겟 분리\n",
    "    x_train = trainDF[trainDF.columns[:-1]]\n",
    "    y_train = trainDF[trainDF.columns[-1]]\n",
    "    \n",
    "    x_test = testDF[testDF.columns[:-1]]\n",
    "    y_test = testDF[testDF.columns[-1]]\n",
    "    \n",
    "    # 스케일링 수행\n",
    "    mm_scaler = MinMaxScaler()\n",
    "    mm_scaler.fit(x_train)\n",
    "    scaled_x_train = mm_scaler.transform(x_train)\n",
    "    scaled_x_test = mm_scaler.transform(x_test)\n",
    "    \n",
    "    # 회귀 모델 학습\n",
    "    lin_model = LinearRegression()\n",
    "    lin_model.fit(scaled_x_train, y_train)\n",
    "    \n",
    "    ridge_model = Ridge()\n",
    "    ridge_model.fit(scaled_x_train, y_train)\n",
    "    \n",
    "    lasso_model = Lasso()\n",
    "    lasso_model.fit(scaled_x_train, y_train)\n",
    "    \n",
    "    # 점수 저장\n",
    "    train_score1.append(lin_model.score(scaled_x_train, y_train))\n",
    "    test_score1.append(lin_model.score(scaled_x_test, y_test))\n",
    "    \n",
    "    train_score2.append(ridge_model.score(scaled_x_train, y_train))\n",
    "    test_score2.append(ridge_model.score(scaled_x_test, y_test))\n",
    "    \n",
    "    train_score3.append(lasso_model.score(scaled_x_train, y_train))\n",
    "    test_score3.append(lasso_model.score(scaled_x_test, y_test))"
   ],
   "metadata": {
    "collapsed": false,
    "ExecuteTime": {
     "end_time": "2024-03-05T18:04:51.084436700Z",
     "start_time": "2024-03-05T18:04:50.972059900Z"
    }
   },
   "id": "ed48cc69f17a339d",
   "execution_count": 11
  },
  {
   "cell_type": "code",
   "outputs": [],
   "source": [
    "def mean(some_list: list):\n",
    "    \"\"\"\n",
    "    리스트의 평균값을 반환하는 함수\n",
    "    :param some_list: 리스트\n",
    "    :return: 리스트의 평균값\n",
    "    \"\"\"\n",
    "    if len(some_list) == 0:\n",
    "        print('빈 리스트')\n",
    "    else:\n",
    "        return sum(some_list) / len(some_list)"
   ],
   "metadata": {
    "collapsed": false,
    "ExecuteTime": {
     "end_time": "2024-03-05T18:04:51.092822600Z",
     "start_time": "2024-03-05T18:04:51.080208400Z"
    }
   },
   "id": "c0422460e0d005f3",
   "execution_count": 12
  },
  {
   "cell_type": "code",
   "outputs": [
    {
     "data": {
      "text/plain": "[0.7634079967377112,\n 0.7656840164530028,\n 0.745094279646995,\n 0.7194645495070386,\n 0.7689573809932847,\n 0.8644675765667429,\n 0.7518190412466444]"
     },
     "execution_count": 13,
     "metadata": {},
     "output_type": "execute_result"
    }
   ],
   "source": [
    "train_score2"
   ],
   "metadata": {
    "collapsed": false,
    "ExecuteTime": {
     "end_time": "2024-03-05T18:04:51.124821100Z",
     "start_time": "2024-03-05T18:04:51.095062200Z"
    }
   },
   "id": "131419e343813f29",
   "execution_count": 13
  },
  {
   "cell_type": "code",
   "outputs": [
    {
     "name": "stdout",
     "output_type": "stream",
     "text": [
      "LinearRegression train 점수 : 0.7739374141769807\n",
      "LinearRegression test  점수 : 0.5176442289009354\n",
      "Ridge(alpha=1)   train 점수 : 0.768413548735917\n",
      "Ridge(alpha=1)   test  점수 : 0.5613269050707473\n",
      "Lasso(alpha=1)   train 점수 : 0.2718878442334171\n",
      "Lasso(alpha=1)   test  점수 : -0.26397951036465217\n"
     ]
    }
   ],
   "source": [
    "print(f'LinearRegression train 점수 : {mean(train_score1)}')\n",
    "print(f'LinearRegression test  점수 : {mean(test_score1)}')\n",
    "print(f'Ridge(alpha=1)   train 점수 : {mean(train_score2)}')\n",
    "print(f'Ridge(alpha=1)   test  점수 : {mean(test_score2)}')\n",
    "print(f'Lasso(alpha=1)   train 점수 : {mean(train_score3)}')\n",
    "print(f'Lasso(alpha=1)   test  점수 : {mean(test_score3)}')"
   ],
   "metadata": {
    "collapsed": false,
    "ExecuteTime": {
     "end_time": "2024-03-05T18:04:51.126925500Z",
     "start_time": "2024-03-05T18:04:51.115450600Z"
    }
   },
   "id": "51060abfdd7b5d5b",
   "execution_count": 14
  },
  {
   "cell_type": "markdown",
   "source": [
    "[결과]  \n",
    "전체적 성능 : Ridge(alpha=1) > LinearRegression > Lasso(alpha=1)  \n",
    "- LinearRegression 결과 : 과소적합 (train 점수도 77점에 불과하므로)\n",
    "- Ridge, Lasso는 과대적합일 때 사용하는 규제 방법\n",
    "- LinearRegression의 점수를 더 끌어올려보자. (이상치, 결측치, 피쳐선택 등)  \n",
    "\n",
    "남은 과제 : \n",
    "- 데이터의 분포를 시각화하여 더 잘 파악해보기 (히스토그램, 박스플롯)\n",
    "- 중복값, 이상치, 결측치 처리를 더 잘 해보는 것\n",
    "- Ridge와 Lasso의 alpha 값에 변화를 줘 최적의 모델을 뽑아보는 것\n",
    "- 최적의 모델을 뽑는 방법 사용해보기 (all_estimators() 등...)"
   ],
   "metadata": {
    "collapsed": false
   },
   "id": "14c51f416dec3e71"
  },
  {
   "cell_type": "code",
   "outputs": [],
   "source": [],
   "metadata": {
    "collapsed": false,
    "ExecuteTime": {
     "end_time": "2024-03-05T18:04:51.171176600Z",
     "start_time": "2024-03-05T18:04:51.124821100Z"
    }
   },
   "id": "4174f9205d904f8e",
   "execution_count": 14
  }
 ],
 "metadata": {
  "kernelspec": {
   "display_name": "Python 3",
   "language": "python",
   "name": "python3"
  },
  "language_info": {
   "codemirror_mode": {
    "name": "ipython",
    "version": 2
   },
   "file_extension": ".py",
   "mimetype": "text/x-python",
   "name": "python",
   "nbconvert_exporter": "python",
   "pygments_lexer": "ipython2",
   "version": "2.7.6"
  }
 },
 "nbformat": 4,
 "nbformat_minor": 5
}
