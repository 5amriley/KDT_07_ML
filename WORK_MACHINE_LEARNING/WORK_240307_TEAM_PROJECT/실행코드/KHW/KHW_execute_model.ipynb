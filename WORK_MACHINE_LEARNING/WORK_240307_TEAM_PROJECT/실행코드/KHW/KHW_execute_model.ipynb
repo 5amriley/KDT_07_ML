{
 "cells": [
  {
   "cell_type": "code",
   "execution_count": 13,
   "id": "initial_id",
   "metadata": {
    "collapsed": true,
    "ExecuteTime": {
     "end_time": "2024-03-11T07:19:02.461730300Z",
     "start_time": "2024-03-11T07:19:02.431438600Z"
    }
   },
   "outputs": [],
   "source": [
    "import pandas as pd\n",
    "import numpy as np\n",
    "import matplotlib.pyplot as plt\n",
    "from sklearn.model_selection import train_test_split\n",
    "from sklearn.preprocessing import StandardScaler, MinMaxScaler, RobustScaler"
   ]
  },
  {
   "cell_type": "code",
   "outputs": [],
   "source": [
    "import joblib\n",
    "import os"
   ],
   "metadata": {
    "collapsed": false,
    "ExecuteTime": {
     "end_time": "2024-03-11T07:19:02.466341900Z",
     "start_time": "2024-03-11T07:19:02.443064Z"
    }
   },
   "id": "bd4488ed22dc775",
   "execution_count": 14
  },
  {
   "cell_type": "code",
   "outputs": [],
   "source": [
    "load = joblib.load('stress_model.pkl')"
   ],
   "metadata": {
    "collapsed": false,
    "ExecuteTime": {
     "end_time": "2024-03-11T07:19:02.502366300Z",
     "start_time": "2024-03-11T07:19:02.460650600Z"
    }
   },
   "id": "83cf9b19ea406adc",
   "execution_count": 15
  },
  {
   "cell_type": "code",
   "outputs": [
    {
     "name": "stderr",
     "output_type": "stream",
     "text": [
      "C:\\Users\\kdp\\.conda\\envs\\EXAM_ML\\lib\\site-packages\\sklearn\\base.py:464: UserWarning: X does not have valid feature names, but KNeighborsRegressor was fitted with feature names\n",
      "  warnings.warn(\n",
      "C:\\Users\\kdp\\.conda\\envs\\EXAM_ML\\lib\\site-packages\\sklearn\\base.py:464: UserWarning: X does not have valid feature names, but RandomForestRegressor was fitted with feature names\n",
      "  warnings.warn(\n"
     ]
    },
    {
     "data": {
      "text/plain": "array([7.89118478])"
     },
     "execution_count": 16,
     "metadata": {},
     "output_type": "execute_result"
    }
   ],
   "source": [
    "load.predict([[0,0]])"
   ],
   "metadata": {
    "collapsed": false,
    "ExecuteTime": {
     "end_time": "2024-03-11T07:19:02.546631400Z",
     "start_time": "2024-03-11T07:19:02.512495600Z"
    }
   },
   "id": "687af9f656515452",
   "execution_count": 16
  },
  {
   "cell_type": "code",
   "outputs": [],
   "source": [
    "def execute_model():\n",
    "    model = joblib.load('stress_model.pkl')\n",
    "    \n",
    "    duration = int(input('Enter your sleep duration by time.'))\n",
    "    qualilty = int(input('Enter your quality of sleep.'))\n",
    "    \n",
    "    data = [[duration,qualilty]]\n",
    "    \n",
    "    pre = model.predict(data)[0]\n",
    "    \n",
    "    print(f'Your data : {data}')\n",
    "    print(f'Model predict your stress {pre}')\n",
    "    print(f'Your stress level is {round(pre)}')"
   ],
   "metadata": {
    "collapsed": false,
    "ExecuteTime": {
     "end_time": "2024-03-11T07:19:02.562001300Z",
     "start_time": "2024-03-11T07:19:02.538825100Z"
    }
   },
   "id": "98fa9330038753c4",
   "execution_count": 17
  },
  {
   "cell_type": "code",
   "outputs": [
    {
     "name": "stdout",
     "output_type": "stream",
     "text": [
      "Your data : [[3, 3]]\n",
      "Model predict your stress 7.891184780326046\n",
      "Your stress level is 8\n"
     ]
    },
    {
     "name": "stderr",
     "output_type": "stream",
     "text": [
      "C:\\Users\\kdp\\.conda\\envs\\EXAM_ML\\lib\\site-packages\\sklearn\\base.py:464: UserWarning: X does not have valid feature names, but KNeighborsRegressor was fitted with feature names\n",
      "  warnings.warn(\n",
      "C:\\Users\\kdp\\.conda\\envs\\EXAM_ML\\lib\\site-packages\\sklearn\\base.py:464: UserWarning: X does not have valid feature names, but RandomForestRegressor was fitted with feature names\n",
      "  warnings.warn(\n"
     ]
    }
   ],
   "source": [
    "execute_model()"
   ],
   "metadata": {
    "collapsed": false,
    "ExecuteTime": {
     "end_time": "2024-03-11T07:19:25.282668400Z",
     "start_time": "2024-03-11T07:19:02.553193600Z"
    }
   },
   "id": "6e9e4374638be68b",
   "execution_count": 18
  },
  {
   "cell_type": "code",
   "outputs": [],
   "source": [],
   "metadata": {
    "collapsed": false,
    "ExecuteTime": {
     "end_time": "2024-03-11T07:19:25.325311400Z",
     "start_time": "2024-03-11T07:19:25.274884500Z"
    }
   },
   "id": "e58472b77f97ada1",
   "execution_count": 18
  }
 ],
 "metadata": {
  "kernelspec": {
   "display_name": "Python 3",
   "language": "python",
   "name": "python3"
  },
  "language_info": {
   "codemirror_mode": {
    "name": "ipython",
    "version": 2
   },
   "file_extension": ".py",
   "mimetype": "text/x-python",
   "name": "python",
   "nbconvert_exporter": "python",
   "pygments_lexer": "ipython2",
   "version": "2.7.6"
  }
 },
 "nbformat": 4,
 "nbformat_minor": 5
}
