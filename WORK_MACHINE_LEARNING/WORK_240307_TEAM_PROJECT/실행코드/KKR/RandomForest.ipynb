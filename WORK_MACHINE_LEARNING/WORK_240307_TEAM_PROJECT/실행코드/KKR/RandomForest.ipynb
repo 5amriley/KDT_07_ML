{
 "cells": [
  {
   "cell_type": "code",
   "execution_count": 23,
   "id": "699d4463",
   "metadata": {
    "ExecuteTime": {
     "end_time": "2024-03-11T05:56:38.605706700Z",
     "start_time": "2024-03-11T05:56:33.290393700Z"
    }
   },
   "outputs": [
    {
     "name": "stdout",
     "output_type": "stream",
     "text": [
      "<class 'numpy.ndarray'>\n",
      "[0 1 2]\n",
      "당신의 수면 패턴은 수면 무호흡입니다.\n"
     ]
    },
    {
     "name": "stderr",
     "output_type": "stream",
     "text": [
      "C:\\Users\\kdp\\.conda\\envs\\EXAM_ML\\lib\\site-packages\\sklearn\\base.py:464: UserWarning: X does not have valid feature names, but StandardScaler was fitted with feature names\n",
      "  warnings.warn(\n"
     ]
    }
   ],
   "source": [
    "## -------------------------------------------------\n",
    "## 모델을 활용한 서비스 제공\n",
    "## -------------------------------------------------\n",
    "# 모듈 로딩\n",
    "from joblib import *\n",
    "import pandas as pd\n",
    "import numpy as np\n",
    "from sklearn.preprocessing import StandardScaler\n",
    "\n",
    "# 전역 변수\n",
    "model_file = './RandomForestClassifier().pkl'\n",
    "\n",
    "# 모델 로딩\n",
    "model = load(model_file)\n",
    "\n",
    "# 로딩된 모델 확인\n",
    "# model.classes_ = np.ndarray(['Normal', 'Sleep Ane', 'Insomnia'])\n",
    "print(type(model.classes_))\n",
    "print(model.classes_)\n",
    "#print(list(model.feature_names_in_))\n",
    "\n",
    "# 수면 정보 입력 => 2개 피쳐\n",
    "while True:\n",
    "    input_data = input('정보 입력(예: 수면시간, 수면의 질) : ')\n",
    "    \n",
    "    if len(input_data):\n",
    "        if len(input_data.split(',')) == 2:\n",
    "            data_list = list(map(float, input_data.split(',')))\n",
    "            break\n",
    "        else:\n",
    "            print('불면증, 수면 무호흡')\n",
    "    else:\n",
    "        print('입력된 정보가 없습니다.')\n",
    "\n",
    "# pd.DataFrame([data_list], columns=list(model.feature_names_in_))\n",
    "\n",
    "# print('사용한 모델 유형:', type(model))\n",
    "\n",
    "# 입력된 정보에 해당하는 수면 장애 알려주기\n",
    "scaler_file = './scaler.pkl'\n",
    "scaler = load(scaler_file)\n",
    "scaled_data = scaler.transform([data_list])\n",
    "\n",
    "pred_sleep = model.predict(scaled_data)\n",
    "# pred_sleep = model.predict(pd.DataFrame([data_list], columns=[0,1]))\n",
    "list1 = ['정상', '수면 무호흡', '불면증']\n",
    "print(f'당신의 수면 패턴은 {list1[pred_sleep[0]]}입니다.')\n"
   ]
  },
  {
   "cell_type": "code",
   "outputs": [],
   "source": [],
   "metadata": {
    "collapsed": false
   },
   "id": "c2050ce6783a17d0"
  }
 ],
 "metadata": {
  "kernelspec": {
   "display_name": "Python 3 (ipykernel)",
   "language": "python",
   "name": "python3"
  },
  "language_info": {
   "codemirror_mode": {
    "name": "ipython",
    "version": 3
   },
   "file_extension": ".py",
   "mimetype": "text/x-python",
   "name": "python",
   "nbconvert_exporter": "python",
   "pygments_lexer": "ipython3",
   "version": "3.11.5"
  }
 },
 "nbformat": 4,
 "nbformat_minor": 5
}
