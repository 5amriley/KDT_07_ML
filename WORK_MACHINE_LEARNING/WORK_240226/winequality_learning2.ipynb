{
 "cells": [
  {
   "cell_type": "code",
   "execution_count": null,
   "id": "initial_id",
   "metadata": {
    "collapsed": true
   },
   "outputs": [],
   "source": [
    "# 'quality'를 제외한 11개의 피쳐/속성 중 2개씩 뽑아서 K를 100 까지 검사한 결과를 그래프로 출력하는 그래프를 그리는 함수 짜보기"
   ]
  },
  {
   "cell_type": "code",
   "outputs": [],
   "source": [
    "# 분포 확인\n",
    "# 그리고 이상치, 중복데이터 처리하기 (데이터 전처리 더 하기)"
   ],
   "metadata": {
    "collapsed": false
   },
   "id": "6ab8267bf8fdebb2"
  }
 ],
 "metadata": {
  "kernelspec": {
   "display_name": "Python 3",
   "language": "python",
   "name": "python3"
  },
  "language_info": {
   "codemirror_mode": {
    "name": "ipython",
    "version": 2
   },
   "file_extension": ".py",
   "mimetype": "text/x-python",
   "name": "python",
   "nbconvert_exporter": "python",
   "pygments_lexer": "ipython2",
   "version": "2.7.6"
  }
 },
 "nbformat": 4,
 "nbformat_minor": 5
}
