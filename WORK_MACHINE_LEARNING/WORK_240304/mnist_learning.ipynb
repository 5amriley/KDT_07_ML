{
 "cells": [
  {
   "cell_type": "markdown",
   "source": [
    "### MNIST 데이터셋 분석\n",
    "- 2024/03/04 과제\n",
    "- 데이터 : 손으로 쓴 70000개의 작은 숫자 이미지 (28x28)\n",
    "- 학습방법 : 지도학습"
   ],
   "metadata": {
    "collapsed": false
   },
   "id": "c7128dae7a5abbd8"
  },
  {
   "cell_type": "markdown",
   "source": [
    "(1) 데이터 준비"
   ],
   "metadata": {
    "collapsed": false
   },
   "id": "e9199fb1a6babf03"
  },
  {
   "cell_type": "code",
   "outputs": [
    {
     "name": "stderr",
     "output_type": "stream",
     "text": [
      "C:\\Users\\kdp\\.conda\\envs\\EXAM_ML\\lib\\site-packages\\sklearn\\datasets\\_openml.py:1002: FutureWarning: The default value of `parser` will change from `'liac-arff'` to `'auto'` in 1.4. You can set `parser='auto'` to silence this warning. Therefore, an `ImportError` will be raised from 1.4 if the dataset is dense and pandas is not installed. Note that the pandas parser may return different data types. See the Notes Section in fetch_openml's API doc for details.\n",
      "  warn(\n"
     ]
    }
   ],
   "source": [
    "from sklearn.datasets import fetch_openml\n",
    "\n",
    "mnist = fetch_openml('mnist_784', as_frame=False)   # sklearn.utils._bunch.Bunch"
   ],
   "metadata": {
    "collapsed": false,
    "ExecuteTime": {
     "end_time": "2024-03-05T00:26:37.172785600Z",
     "start_time": "2024-03-05T00:26:18.394356300Z"
    }
   },
   "id": "df8f8216f7a7350e",
   "execution_count": 2
  },
  {
   "cell_type": "markdown",
   "source": [
    "(2) 데이터 전처리 [skip]"
   ],
   "metadata": {
    "collapsed": false
   },
   "id": "eb0cf9f0531204ba"
  },
  {
   "cell_type": "markdown",
   "source": [
    "(3) 학습을 위한 데이터 준비"
   ],
   "metadata": {
    "collapsed": false
   },
   "id": "3ab80aa96fe38102"
  },
  {
   "cell_type": "code",
   "outputs": [],
   "source": [
    "# data   : 입력 데이터 (일반적으로 2D 넘파이 배열)\n",
    "# target : 레이블      (일반적으로 1D 넘파이 배열)\n",
    "x, y = mnist.data, mnist.target"
   ],
   "metadata": {
    "collapsed": false,
    "ExecuteTime": {
     "end_time": "2024-03-05T00:26:37.188642900Z",
     "start_time": "2024-03-05T00:26:37.176518200Z"
    }
   },
   "id": "d9c9a7ddcaf370f2",
   "execution_count": 3
  },
  {
   "cell_type": "code",
   "outputs": [
    {
     "data": {
      "text/plain": "(numpy.ndarray, (70000, 784))"
     },
     "execution_count": 4,
     "metadata": {},
     "output_type": "execute_result"
    }
   ],
   "source": [
    "type(x), x.shape"
   ],
   "metadata": {
    "collapsed": false,
    "ExecuteTime": {
     "end_time": "2024-03-05T00:26:37.206158Z",
     "start_time": "2024-03-05T00:26:37.193626100Z"
    }
   },
   "id": "c2b38f53bb0e8ebd",
   "execution_count": 4
  },
  {
   "cell_type": "code",
   "outputs": [
    {
     "data": {
      "text/plain": "(numpy.ndarray, (70000,))"
     },
     "execution_count": 5,
     "metadata": {},
     "output_type": "execute_result"
    }
   ],
   "source": [
    "type(y), y.shape"
   ],
   "metadata": {
    "collapsed": false,
    "ExecuteTime": {
     "end_time": "2024-03-05T00:26:37.221549500Z",
     "start_time": "2024-03-05T00:26:37.208419900Z"
    }
   },
   "id": "e028de5abae1c36a",
   "execution_count": 5
  },
  {
   "cell_type": "code",
   "outputs": [],
   "source": [
    "import matplotlib.pyplot as plt\n",
    "\n",
    "def plot_digit(image_data):\n",
    "    image = image_data.reshape(28, 28)\n",
    "    plt.imshow(image, cmap='binary')    # cmap='binary' => 흑백(greyscale)컬러맵\n",
    "    plt.axis('off')\n",
    "    plt.show()"
   ],
   "metadata": {
    "collapsed": false,
    "ExecuteTime": {
     "end_time": "2024-03-05T00:26:38.083790500Z",
     "start_time": "2024-03-05T00:26:37.226680900Z"
    }
   },
   "id": "e074db9812e0617d",
   "execution_count": 6
  },
  {
   "cell_type": "code",
   "outputs": [
    {
     "data": {
      "text/plain": "<Figure size 640x480 with 1 Axes>",
      "image/png": "[encoded data removed]"
     },
     "metadata": {},
     "output_type": "display_data"
    }
   ],
   "source": [
    "some_digit = x[0]   # (784,)\n",
    "plot_digit(some_digit)"
   ],
   "metadata": {
    "collapsed": false,
    "ExecuteTime": {
     "end_time": "2024-03-05T00:26:38.227356900Z",
     "start_time": "2024-03-05T00:26:38.087106300Z"
    }
   },
   "id": "af63666b2e579bc4",
   "execution_count": 7
  },
  {
   "cell_type": "code",
   "outputs": [],
   "source": [
    "# 학습/테스트 데이터 분리\n",
    "x_train, x_test, y_train, y_test = x[:60000], x[60000:], y[:60000], y[60000:]"
   ],
   "metadata": {
    "collapsed": false,
    "ExecuteTime": {
     "end_time": "2024-03-05T00:26:38.255592100Z",
     "start_time": "2024-03-05T00:26:38.226360200Z"
    }
   },
   "id": "29bcef144c036164",
   "execution_count": 8
  },
  {
   "cell_type": "code",
   "outputs": [],
   "source": [
    "# Logistic Regression 에서 사용할 y값 숫자로 인코딩\n",
    "from sklearn.preprocessing import LabelEncoder\n",
    "\n",
    "encoder = LabelEncoder()\n",
    "encoder.fit(y)\n",
    "y_arr = encoder.transform(y)\n",
    "encoded_y_train, encoded_y_test = y[:60000], y[60000:]"
   ],
   "metadata": {
    "collapsed": false,
    "ExecuteTime": {
     "end_time": "2024-03-05T00:26:38.278515400Z",
     "start_time": "2024-03-05T00:26:38.260574900Z"
    }
   },
   "id": "46ed9e2089853962",
   "execution_count": 9
  },
  {
   "cell_type": "code",
   "outputs": [
    {
     "data": {
      "text/plain": "((60000,), (10000,))"
     },
     "execution_count": 10,
     "metadata": {},
     "output_type": "execute_result"
    }
   ],
   "source": [
    "encoded_y_train.shape, encoded_y_test.shape"
   ],
   "metadata": {
    "collapsed": false,
    "ExecuteTime": {
     "end_time": "2024-03-05T00:26:38.314484100Z",
     "start_time": "2024-03-05T00:26:38.274530400Z"
    }
   },
   "id": "f71a168bd906977d",
   "execution_count": 10
  },
  {
   "cell_type": "markdown",
   "source": [
    "(4) 학습 진행"
   ],
   "metadata": {
    "collapsed": false
   },
   "id": "53bf5ca2a992746e"
  },
  {
   "cell_type": "code",
   "outputs": [
    {
     "data": {
      "text/plain": "SGDClassifier(loss='log_loss', random_state=42)",
      "text/html": "<style>#sk-container-id-1 {color: black;}#sk-container-id-1 pre{padding: 0;}#sk-container-id-1 div.sk-toggleable {background-color: white;}#sk-container-id-1 label.sk-toggleable__label {cursor: pointer;display: block;width: 100%;margin-bottom: 0;padding: 0.3em;box-sizing: border-box;text-align: center;}#sk-container-id-1 label.sk-toggleable__label-arrow:before {content: \"▸\";float: left;margin-right: 0.25em;color: #696969;}#sk-container-id-1 label.sk-toggleable__label-arrow:hover:before {color: black;}#sk-container-id-1 div.sk-estimator:hover label.sk-toggleable__label-arrow:before {color: black;}#sk-container-id-1 div.sk-toggleable__content {max-height: 0;max-width: 0;overflow: hidden;text-align: left;background-color: #f0f8ff;}#sk-container-id-1 div.sk-toggleable__content pre {margin: 0.2em;color: black;border-radius: 0.25em;background-color: #f0f8ff;}#sk-container-id-1 input.sk-toggleable__control:checked~div.sk-toggleable__content {max-height: 200px;max-width: 100%;overflow: auto;}#sk-container-id-1 input.sk-toggleable__control:checked~label.sk-toggleable__label-arrow:before {content: \"▾\";}#sk-container-id-1 div.sk-estimator input.sk-toggleable__control:checked~label.sk-toggleable__label {background-color: #d4ebff;}#sk-container-id-1 div.sk-label input.sk-toggleable__control:checked~label.sk-toggleable__label {background-color: #d4ebff;}#sk-container-id-1 input.sk-hidden--visually {border: 0;clip: rect(1px 1px 1px 1px);clip: rect(1px, 1px, 1px, 1px);height: 1px;margin: -1px;overflow: hidden;padding: 0;position: absolute;width: 1px;}#sk-container-id-1 div.sk-estimator {font-family: monospace;background-color: #f0f8ff;border: 1px dotted black;border-radius: 0.25em;box-sizing: border-box;margin-bottom: 0.5em;}#sk-container-id-1 div.sk-estimator:hover {background-color: #d4ebff;}#sk-container-id-1 div.sk-parallel-item::after {content: \"\";width: 100%;border-bottom: 1px solid gray;flex-grow: 1;}#sk-container-id-1 div.sk-label:hover label.sk-toggleable__label {background-color: #d4ebff;}#sk-container-id-1 div.sk-serial::before {content: \"\";position: absolute;border-left: 1px solid gray;box-sizing: border-box;top: 0;bottom: 0;left: 50%;z-index: 0;}#sk-container-id-1 div.sk-serial {display: flex;flex-direction: column;align-items: center;background-color: white;padding-right: 0.2em;padding-left: 0.2em;position: relative;}#sk-container-id-1 div.sk-item {position: relative;z-index: 1;}#sk-container-id-1 div.sk-parallel {display: flex;align-items: stretch;justify-content: center;background-color: white;position: relative;}#sk-container-id-1 div.sk-item::before, #sk-container-id-1 div.sk-parallel-item::before {content: \"\";position: absolute;border-left: 1px solid gray;box-sizing: border-box;top: 0;bottom: 0;left: 50%;z-index: -1;}#sk-container-id-1 div.sk-parallel-item {display: flex;flex-direction: column;z-index: 1;position: relative;background-color: white;}#sk-container-id-1 div.sk-parallel-item:first-child::after {align-self: flex-end;width: 50%;}#sk-container-id-1 div.sk-parallel-item:last-child::after {align-self: flex-start;width: 50%;}#sk-container-id-1 div.sk-parallel-item:only-child::after {width: 0;}#sk-container-id-1 div.sk-dashed-wrapped {border: 1px dashed gray;margin: 0 0.4em 0.5em 0.4em;box-sizing: border-box;padding-bottom: 0.4em;background-color: white;}#sk-container-id-1 div.sk-label label {font-family: monospace;font-weight: bold;display: inline-block;line-height: 1.2em;}#sk-container-id-1 div.sk-label-container {text-align: center;}#sk-container-id-1 div.sk-container {/* jupyter's `normalize.less` sets `[hidden] { display: none; }` but bootstrap.min.css set `[hidden] { display: none !important; }` so we also need the `!important` here to be able to override the default hidden behavior on the sphinx rendered scikit-learn.org. See: https://github.com/scikit-learn/scikit-learn/issues/21755 */display: inline-block !important;position: relative;}#sk-container-id-1 div.sk-text-repr-fallback {display: none;}</style><div id=\"sk-container-id-1\" class=\"sk-top-container\"><div class=\"sk-text-repr-fallback\"><pre>SGDClassifier(loss=&#x27;log_loss&#x27;, random_state=42)</pre><b>In a Jupyter environment, please rerun this cell to show the HTML representation or trust the notebook. <br />On GitHub, the HTML representation is unable to render, please try loading this page with nbviewer.org.</b></div><div class=\"sk-container\" hidden><div class=\"sk-item\"><div class=\"sk-estimator sk-toggleable\"><input class=\"sk-toggleable__control sk-hidden--visually\" id=\"sk-estimator-id-1\" type=\"checkbox\" checked><label for=\"sk-estimator-id-1\" class=\"sk-toggleable__label sk-toggleable__label-arrow\">SGDClassifier</label><div class=\"sk-toggleable__content\"><pre>SGDClassifier(loss=&#x27;log_loss&#x27;, random_state=42)</pre></div></div></div></div></div>"
     },
     "execution_count": 11,
     "metadata": {},
     "output_type": "execute_result"
    }
   ],
   "source": [
    "# (4-1) SGDClassifier 2진 분류기 (binary classifier)\n",
    "from sklearn.linear_model import SGDClassifier\n",
    "\n",
    "five_mask_train = (y_train == '5')\n",
    "five_mask_test = (y_test == '5')\n",
    "\n",
    "# 5인지 아닌지 구분하는 이진 분류기 (binary classifier) 생성\n",
    "sgd_clf = SGDClassifier(loss='log_loss', random_state=42)\n",
    "sgd_clf.fit(x_train, five_mask_train)"
   ],
   "metadata": {
    "collapsed": false,
    "ExecuteTime": {
     "end_time": "2024-03-05T00:27:12.602487300Z",
     "start_time": "2024-03-05T00:26:38.293585200Z"
    }
   },
   "id": "35c38fe3ce9a75ab",
   "execution_count": 11
  },
  {
   "cell_type": "code",
   "outputs": [
    {
     "data": {
      "text/plain": "array([ True])"
     },
     "execution_count": 12,
     "metadata": {},
     "output_type": "execute_result"
    }
   ],
   "source": [
    "# predict() 의 인수로 2D array 를 넘겨줘야 하기 때문에, 데이터가 1개더라도 2D array로 만든다.\n",
    "sgd_clf.predict([some_digit])   # 5가 맞다고 추측 (감지 성공)"
   ],
   "metadata": {
    "collapsed": false,
    "ExecuteTime": {
     "end_time": "2024-03-05T00:27:12.639649600Z",
     "start_time": "2024-03-05T00:27:12.601494600Z"
    }
   },
   "id": "81902c1859689a33",
   "execution_count": 12
  },
  {
   "cell_type": "code",
   "outputs": [
    {
     "name": "stdout",
     "output_type": "stream",
     "text": [
      "정확도 : 0.9713833333333334\n",
      "정밀도 : 0.8864774624373957\n",
      "재현율 : 0.7836192584394023\n",
      "f1-score : 0.831880936061882\n"
     ]
    }
   ],
   "source": [
    "# (4-2) SGDClassifier 2진 분류기 성능 평가\n",
    "from sklearn.metrics import accuracy_score\n",
    "from sklearn.metrics import precision_score\n",
    "from sklearn.metrics import recall_score\n",
    "from sklearn.metrics import f1_score\n",
    "\n",
    "accuracy = accuracy_score(five_mask_train, sgd_clf.predict(x_train))\n",
    "precision = precision_score(five_mask_train, sgd_clf.predict(x_train))\n",
    "recall = recall_score(five_mask_train, sgd_clf.predict(x_train))\n",
    "f1 = f1_score(five_mask_train, sgd_clf.predict(x_train))\n",
    "\n",
    "print(f'정확도 : {accuracy}')\n",
    "print(f'정밀도 : {precision}')\n",
    "print(f'재현율 : {recall}')\n",
    "print(f'f1-score : {f1}')"
   ],
   "metadata": {
    "collapsed": false,
    "ExecuteTime": {
     "end_time": "2024-03-05T00:27:13.240127500Z",
     "start_time": "2024-03-05T00:27:12.624695900Z"
    }
   },
   "id": "37b97e80e3d04cd",
   "execution_count": 13
  },
  {
   "cell_type": "code",
   "outputs": [],
   "source": [
    "# (4-3) SGDClassifier 성능 테스트\n",
    "from PIL import Image\n",
    "import numpy as np\n",
    "\n",
    "def convert_png_to_1d_arr(filename):\n",
    "    \"\"\"\n",
    "    이미지 파일 경로를 넘기면 이미지를 읽어서 1D ndarray (784,)로 변환하여 반환하는 함수\n",
    "    :param filename: 이미지 파일 경로\n",
    "    :return: 1D ndarray\n",
    "    \"\"\"\n",
    "    # 이미지 열기\n",
    "    image = Image.open(filename)\n",
    "    \n",
    "    # 이미지 사이즈 조정\n",
    "    image = image.resize((28, 28))\n",
    "    \n",
    "    # 이미지를 grayscale로 변환\n",
    "    grayscale_image = image.convert('L')\n",
    "    \n",
    "    # 이미지를 ndarray로 변환\n",
    "    grayscale_array = np.array(grayscale_image)\n",
    "    \n",
    "    # 흑백 반전 (학습된 이미지는 글씨가 검은색)\n",
    "    grayscale_array = abs(grayscale_array.astype(\"int\") - 255)\n",
    "    \n",
    "    # 2D(28x28) ndarray를 1D ndarray로 변환하여 반환\n",
    "    return grayscale_array.reshape(-1)"
   ],
   "metadata": {
    "collapsed": false,
    "ExecuteTime": {
     "end_time": "2024-03-05T00:27:13.293263600Z",
     "start_time": "2024-03-05T00:27:13.243261200Z"
    }
   },
   "id": "5f2b5aec2c77971f",
   "execution_count": 14
  },
  {
   "cell_type": "code",
   "outputs": [
    {
     "data": {
      "text/plain": "<Figure size 640x480 with 1 Axes>",
      "image/png": "[encoded data removed]"
     },
     "metadata": {},
     "output_type": "display_data"
    }
   ],
   "source": [
    "imagefile = 'three_01.png'\n",
    "test_three = convert_png_to_1d_arr(imagefile)\n",
    "plot_digit(test_three)"
   ],
   "metadata": {
    "collapsed": false,
    "ExecuteTime": {
     "end_time": "2024-03-05T00:27:13.395444700Z",
     "start_time": "2024-03-05T00:27:13.277126200Z"
    }
   },
   "id": "8d2b63ef9358fb56",
   "execution_count": 15
  },
  {
   "cell_type": "code",
   "outputs": [
    {
     "data": {
      "text/plain": "array([False])"
     },
     "execution_count": 16,
     "metadata": {},
     "output_type": "execute_result"
    }
   ],
   "source": [
    "sgd_clf.predict([test_three])  # 5가 아니라고 예측 성공"
   ],
   "metadata": {
    "collapsed": false,
    "ExecuteTime": {
     "end_time": "2024-03-05T00:27:13.445941800Z",
     "start_time": "2024-03-05T00:27:13.400401500Z"
    }
   },
   "id": "db818ba1f8eac283",
   "execution_count": 16
  },
  {
   "cell_type": "code",
   "outputs": [
    {
     "data": {
      "text/plain": "<Figure size 640x480 with 1 Axes>",
      "image/png": "[encoded data removed]"
     },
     "metadata": {},
     "output_type": "display_data"
    }
   ],
   "source": [
    "imagefile = 'five_03.png'\n",
    "test_five = convert_png_to_1d_arr(imagefile)\n",
    "plot_digit(test_five)"
   ],
   "metadata": {
    "collapsed": false,
    "ExecuteTime": {
     "end_time": "2024-03-05T00:27:13.558643600Z",
     "start_time": "2024-03-05T00:27:13.428246Z"
    }
   },
   "id": "c1a76dec98ea02e1",
   "execution_count": 17
  },
  {
   "cell_type": "code",
   "outputs": [
    {
     "data": {
      "text/plain": "array([ True])"
     },
     "execution_count": 18,
     "metadata": {},
     "output_type": "execute_result"
    }
   ],
   "source": [
    "sgd_clf.predict([test_five])"
   ],
   "metadata": {
    "collapsed": false,
    "ExecuteTime": {
     "end_time": "2024-03-05T00:27:13.605356200Z",
     "start_time": "2024-03-05T00:27:13.549420900Z"
    }
   },
   "id": "24031bbad949f35c",
   "execution_count": 18
  },
  {
   "cell_type": "code",
   "outputs": [
    {
     "data": {
      "text/plain": "array([586.99344587])"
     },
     "execution_count": 19,
     "metadata": {},
     "output_type": "execute_result"
    }
   ],
   "source": [
    "sgd_clf.decision_function([test_five])"
   ],
   "metadata": {
    "collapsed": false,
    "ExecuteTime": {
     "end_time": "2024-03-05T00:27:13.680223400Z",
     "start_time": "2024-03-05T00:27:13.585350300Z"
    }
   },
   "id": "710e49d13ec10fa8",
   "execution_count": 19
  },
  {
   "cell_type": "code",
   "outputs": [],
   "source": [
    "import cv2\n",
    "def convert_png_to_1d_arr2(filename):\n",
    "    my_num = cv2.imread(filename, cv2.IMREAD_GRAYSCALE)\n",
    "    # cv2.imshow(\"my_num\", my_num)\n",
    "    # cv2.waitKey(0)\n",
    "    # cv2.destroyAllWindows()\n",
    "    my_num = cv2.resize(my_num, (28, 28))\n",
    "    \n",
    "    my_num = my_num.ravel()\n",
    "    my_num = abs(my_num.astype(\"int\") - 255) # 이미지는 흰부분이 255라서 \n",
    "    return my_num"
   ],
   "metadata": {
    "collapsed": false,
    "ExecuteTime": {
     "end_time": "2024-03-05T00:27:13.922722Z",
     "start_time": "2024-03-05T00:27:13.620483200Z"
    }
   },
   "id": "4a615b65da8ea0a9",
   "execution_count": 20
  },
  {
   "cell_type": "code",
   "outputs": [
    {
     "data": {
      "text/plain": "<Figure size 640x480 with 1 Axes>",
      "image/png": "[encoded data removed]"
     },
     "metadata": {},
     "output_type": "display_data"
    }
   ],
   "source": [
    "test_five = convert_png_to_1d_arr2('one_01.png')\n",
    "plot_digit(test_five)"
   ],
   "metadata": {
    "collapsed": false,
    "ExecuteTime": {
     "end_time": "2024-03-05T00:27:14.047874700Z",
     "start_time": "2024-03-05T00:27:13.932688900Z"
    }
   },
   "id": "260b3dd9c46780d1",
   "execution_count": 21
  },
  {
   "cell_type": "code",
   "outputs": [
    {
     "data": {
      "text/plain": "array([False])"
     },
     "execution_count": 22,
     "metadata": {},
     "output_type": "execute_result"
    }
   ],
   "source": [
    "sgd_clf.predict([test_five])"
   ],
   "metadata": {
    "collapsed": false,
    "ExecuteTime": {
     "end_time": "2024-03-05T00:27:14.078787600Z",
     "start_time": "2024-03-05T00:27:14.038561300Z"
    }
   },
   "id": "d57204cfa001ae92",
   "execution_count": 22
  },
  {
   "cell_type": "code",
   "outputs": [],
   "source": [
    "# (4-4) Logistic Regression 다중 분류기\n",
    "from sklearn.linear_model import LogisticRegression\n",
    "\n",
    "model = LogisticRegression(max_iter=300, solver='liblinear')\n",
    "model.fit(x_train, encoded_y_train)"
   ],
   "metadata": {
    "collapsed": false,
    "ExecuteTime": {
     "start_time": "2024-03-05T00:27:14.072732700Z"
    }
   },
   "id": "35ba45af247a0ca6",
   "execution_count": null
  },
  {
   "cell_type": "markdown",
   "source": [
    "돌려도 돌려도 끝이 안 남... (30분 넘게 돌아가는 걸 보면 뭔가 잘못된 듯)"
   ],
   "metadata": {
    "collapsed": false
   },
   "id": "91af2186d30826ad"
  },
  {
   "cell_type": "code",
   "outputs": [],
   "source": [],
   "metadata": {
    "collapsed": false
   },
   "id": "a3eff3071eb7d4c8"
  }
 ],
 "metadata": {
  "kernelspec": {
   "display_name": "Python 3",
   "language": "python",
   "name": "python3"
  },
  "language_info": {
   "codemirror_mode": {
    "name": "ipython",
    "version": 2
   },
   "file_extension": ".py",
   "mimetype": "text/x-python",
   "name": "python",
   "nbconvert_exporter": "python",
   "pygments_lexer": "ipython2",
   "version": "2.7.6"
  }
 },
 "nbformat": 4,
 "nbformat_minor": 5
}
