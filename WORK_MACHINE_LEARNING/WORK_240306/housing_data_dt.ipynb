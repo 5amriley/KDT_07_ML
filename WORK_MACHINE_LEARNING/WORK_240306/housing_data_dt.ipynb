{
 "cells": [
  {
   "cell_type": "markdown",
   "source": [
    "### housing data 를 decision tree 방식으로 학습하기  \n",
    "- 2024/03/06 과제"
   ],
   "metadata": {
    "collapsed": false
   },
   "id": "6e30270e2fd0e17d"
  },
  {
   "cell_type": "code",
   "outputs": [],
   "source": [],
   "metadata": {
    "collapsed": false
   },
   "id": "5a721207b59af39d"
  }
 ],
 "metadata": {
  "kernelspec": {
   "display_name": "Python 3",
   "language": "python",
   "name": "python3"
  },
  "language_info": {
   "codemirror_mode": {
    "name": "ipython",
    "version": 2
   },
   "file_extension": ".py",
   "mimetype": "text/x-python",
   "name": "python",
   "nbconvert_exporter": "python",
   "pygments_lexer": "ipython2",
   "version": "2.7.6"
  }
 },
 "nbformat": 4,
 "nbformat_minor": 5
}
